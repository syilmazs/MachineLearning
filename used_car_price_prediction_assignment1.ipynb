{
  "nbformat": 4,
  "nbformat_minor": 0,
  "metadata": {
    "kernelspec": {
      "display_name": "Python 3",
      "language": "python",
      "name": "python3"
    },
    "language_info": {
      "codemirror_mode": {
        "name": "ipython",
        "version": 3
      },
      "file_extension": ".py",
      "mimetype": "text/x-python",
      "name": "python",
      "nbconvert_exporter": "python",
      "pygments_lexer": "ipython3",
      "version": "3.8.11"
    },
    "colab": {
      "name": "used_car_price_prediction_assignment1.ipynb",
      "provenance": [],
      "include_colab_link": true
    }
  },
  "cells": [
    {
      "cell_type": "markdown",
      "metadata": {
        "id": "view-in-github",
        "colab_type": "text"
      },
      "source": [
        "<a href=\"https://colab.research.google.com/github/syilmazs/MachineLearning/blob/main/used_car_price_prediction_assignment1.ipynb\" target=\"_parent\"><img src=\"https://colab.research.google.com/assets/colab-badge.svg\" alt=\"Open In Colab\"/></a>"
      ]
    },
    {
      "cell_type": "markdown",
      "metadata": {
        "id": "curQqdpMbV8a"
      },
      "source": [
        "<img src=\"https://miro.medium.com/max/647/1*ZOcUPrSXLYucFxppoI-dYg.png\">"
      ]
    },
    {
      "cell_type": "markdown",
      "metadata": {
        "id": "vIdfp9zXbV8w"
      },
      "source": [
        "# Problem definition\n"
      ]
    },
    {
      "cell_type": "markdown",
      "metadata": {
        "id": "_f1vwRmsbV8z"
      },
      "source": [
        "For this project we are using a car dataset, where we want to predict the selling price of car based on its certain features.\n",
        "Since we need to find the real value, with real calculation, therefore this problem is regression problem. \n",
        "We will be using linear regression to solve this problem.\n",
        "\n",
        "General equation of Multiple Linear Regression:\n",
        "$$y = \\beta_0 + \\beta_{1}x_1 + \\beta_{2}x_2 + \\beta_{3}x_3 + \\beta_{4}x_4 + ... + \\beta_{n}x_n$$"
      ]
    },
    {
      "cell_type": "markdown",
      "metadata": {
        "id": "m79bZ3ojbV82"
      },
      "source": [
        "# Libraries"
      ]
    },
    {
      "cell_type": "code",
      "metadata": {
        "id": "zk6tvPRBbV84"
      },
      "source": [
        "import numpy as np\n",
        "import pandas as pd\n",
        "import matplotlib.pyplot as plt\n",
        "import seaborn as sns\n",
        "from scipy import stats\n",
        "from scipy.stats.mstats import winsorize\n",
        "plt.rcParams[\"figure.figsize\"] = (10,6)\n",
        "pd.set_option('display.max_columns', 100)"
      ],
      "execution_count": 2,
      "outputs": []
    },
    {
      "cell_type": "markdown",
      "metadata": {
        "id": "Zu7fPn5HbV87"
      },
      "source": [
        "# Data Gathering"
      ]
    },
    {
      "cell_type": "code",
      "metadata": {
        "id": "Hgyy7dkrbV89",
        "colab": {
          "base_uri": "https://localhost:8080/",
          "height": 206
        },
        "outputId": "29376d39-a5d7-4d28-8ac7-36f08fd54311"
      },
      "source": [
        "df = pd.read_csv(\"car_dataset.csv\")\n",
        "df.head()"
      ],
      "execution_count": 3,
      "outputs": [
        {
          "output_type": "execute_result",
          "data": {
            "text/html": [
              "\n",
              "  <div id=\"df-eb826aef-de03-414a-8f8e-9ea68cc1f7a2\">\n",
              "    <div class=\"colab-df-container\">\n",
              "      <div>\n",
              "<style scoped>\n",
              "    .dataframe tbody tr th:only-of-type {\n",
              "        vertical-align: middle;\n",
              "    }\n",
              "\n",
              "    .dataframe tbody tr th {\n",
              "        vertical-align: top;\n",
              "    }\n",
              "\n",
              "    .dataframe thead th {\n",
              "        text-align: right;\n",
              "    }\n",
              "</style>\n",
              "<table border=\"1\" class=\"dataframe\">\n",
              "  <thead>\n",
              "    <tr style=\"text-align: right;\">\n",
              "      <th></th>\n",
              "      <th>Car_Name</th>\n",
              "      <th>Year</th>\n",
              "      <th>Selling_Price</th>\n",
              "      <th>Present_Price</th>\n",
              "      <th>Kms_Driven</th>\n",
              "      <th>Fuel_Type</th>\n",
              "      <th>Seller_Type</th>\n",
              "      <th>Transmission</th>\n",
              "      <th>Owner</th>\n",
              "    </tr>\n",
              "  </thead>\n",
              "  <tbody>\n",
              "    <tr>\n",
              "      <th>0</th>\n",
              "      <td>ritz</td>\n",
              "      <td>2014</td>\n",
              "      <td>3.35</td>\n",
              "      <td>5.59</td>\n",
              "      <td>27000</td>\n",
              "      <td>Petrol</td>\n",
              "      <td>Dealer</td>\n",
              "      <td>Manual</td>\n",
              "      <td>0</td>\n",
              "    </tr>\n",
              "    <tr>\n",
              "      <th>1</th>\n",
              "      <td>sx4</td>\n",
              "      <td>2013</td>\n",
              "      <td>4.75</td>\n",
              "      <td>9.54</td>\n",
              "      <td>43000</td>\n",
              "      <td>Diesel</td>\n",
              "      <td>Dealer</td>\n",
              "      <td>Manual</td>\n",
              "      <td>0</td>\n",
              "    </tr>\n",
              "    <tr>\n",
              "      <th>2</th>\n",
              "      <td>ciaz</td>\n",
              "      <td>2017</td>\n",
              "      <td>7.25</td>\n",
              "      <td>9.85</td>\n",
              "      <td>6900</td>\n",
              "      <td>Petrol</td>\n",
              "      <td>Dealer</td>\n",
              "      <td>Manual</td>\n",
              "      <td>0</td>\n",
              "    </tr>\n",
              "    <tr>\n",
              "      <th>3</th>\n",
              "      <td>wagon r</td>\n",
              "      <td>2011</td>\n",
              "      <td>2.85</td>\n",
              "      <td>4.15</td>\n",
              "      <td>5200</td>\n",
              "      <td>Petrol</td>\n",
              "      <td>Dealer</td>\n",
              "      <td>Manual</td>\n",
              "      <td>0</td>\n",
              "    </tr>\n",
              "    <tr>\n",
              "      <th>4</th>\n",
              "      <td>swift</td>\n",
              "      <td>2014</td>\n",
              "      <td>4.60</td>\n",
              "      <td>6.87</td>\n",
              "      <td>42450</td>\n",
              "      <td>Diesel</td>\n",
              "      <td>Dealer</td>\n",
              "      <td>Manual</td>\n",
              "      <td>0</td>\n",
              "    </tr>\n",
              "  </tbody>\n",
              "</table>\n",
              "</div>\n",
              "      <button class=\"colab-df-convert\" onclick=\"convertToInteractive('df-eb826aef-de03-414a-8f8e-9ea68cc1f7a2')\"\n",
              "              title=\"Convert this dataframe to an interactive table.\"\n",
              "              style=\"display:none;\">\n",
              "        \n",
              "  <svg xmlns=\"http://www.w3.org/2000/svg\" height=\"24px\"viewBox=\"0 0 24 24\"\n",
              "       width=\"24px\">\n",
              "    <path d=\"M0 0h24v24H0V0z\" fill=\"none\"/>\n",
              "    <path d=\"M18.56 5.44l.94 2.06.94-2.06 2.06-.94-2.06-.94-.94-2.06-.94 2.06-2.06.94zm-11 1L8.5 8.5l.94-2.06 2.06-.94-2.06-.94L8.5 2.5l-.94 2.06-2.06.94zm10 10l.94 2.06.94-2.06 2.06-.94-2.06-.94-.94-2.06-.94 2.06-2.06.94z\"/><path d=\"M17.41 7.96l-1.37-1.37c-.4-.4-.92-.59-1.43-.59-.52 0-1.04.2-1.43.59L10.3 9.45l-7.72 7.72c-.78.78-.78 2.05 0 2.83L4 21.41c.39.39.9.59 1.41.59.51 0 1.02-.2 1.41-.59l7.78-7.78 2.81-2.81c.8-.78.8-2.07 0-2.86zM5.41 20L4 18.59l7.72-7.72 1.47 1.35L5.41 20z\"/>\n",
              "  </svg>\n",
              "      </button>\n",
              "      \n",
              "  <style>\n",
              "    .colab-df-container {\n",
              "      display:flex;\n",
              "      flex-wrap:wrap;\n",
              "      gap: 12px;\n",
              "    }\n",
              "\n",
              "    .colab-df-convert {\n",
              "      background-color: #E8F0FE;\n",
              "      border: none;\n",
              "      border-radius: 50%;\n",
              "      cursor: pointer;\n",
              "      display: none;\n",
              "      fill: #1967D2;\n",
              "      height: 32px;\n",
              "      padding: 0 0 0 0;\n",
              "      width: 32px;\n",
              "    }\n",
              "\n",
              "    .colab-df-convert:hover {\n",
              "      background-color: #E2EBFA;\n",
              "      box-shadow: 0px 1px 2px rgba(60, 64, 67, 0.3), 0px 1px 3px 1px rgba(60, 64, 67, 0.15);\n",
              "      fill: #174EA6;\n",
              "    }\n",
              "\n",
              "    [theme=dark] .colab-df-convert {\n",
              "      background-color: #3B4455;\n",
              "      fill: #D2E3FC;\n",
              "    }\n",
              "\n",
              "    [theme=dark] .colab-df-convert:hover {\n",
              "      background-color: #434B5C;\n",
              "      box-shadow: 0px 1px 3px 1px rgba(0, 0, 0, 0.15);\n",
              "      filter: drop-shadow(0px 1px 2px rgba(0, 0, 0, 0.3));\n",
              "      fill: #FFFFFF;\n",
              "    }\n",
              "  </style>\n",
              "\n",
              "      <script>\n",
              "        const buttonEl =\n",
              "          document.querySelector('#df-eb826aef-de03-414a-8f8e-9ea68cc1f7a2 button.colab-df-convert');\n",
              "        buttonEl.style.display =\n",
              "          google.colab.kernel.accessAllowed ? 'block' : 'none';\n",
              "\n",
              "        async function convertToInteractive(key) {\n",
              "          const element = document.querySelector('#df-eb826aef-de03-414a-8f8e-9ea68cc1f7a2');\n",
              "          const dataTable =\n",
              "            await google.colab.kernel.invokeFunction('convertToInteractive',\n",
              "                                                     [key], {});\n",
              "          if (!dataTable) return;\n",
              "\n",
              "          const docLinkHtml = 'Like what you see? Visit the ' +\n",
              "            '<a target=\"_blank\" href=https://colab.research.google.com/notebooks/data_table.ipynb>data table notebook</a>'\n",
              "            + ' to learn more about interactive tables.';\n",
              "          element.innerHTML = '';\n",
              "          dataTable['output_type'] = 'display_data';\n",
              "          await google.colab.output.renderOutput(dataTable, element);\n",
              "          const docLink = document.createElement('div');\n",
              "          docLink.innerHTML = docLinkHtml;\n",
              "          element.appendChild(docLink);\n",
              "        }\n",
              "      </script>\n",
              "    </div>\n",
              "  </div>\n",
              "  "
            ],
            "text/plain": [
              "  Car_Name  Year  Selling_Price  Present_Price  Kms_Driven Fuel_Type  \\\n",
              "0     ritz  2014           3.35           5.59       27000    Petrol   \n",
              "1      sx4  2013           4.75           9.54       43000    Diesel   \n",
              "2     ciaz  2017           7.25           9.85        6900    Petrol   \n",
              "3  wagon r  2011           2.85           4.15        5200    Petrol   \n",
              "4    swift  2014           4.60           6.87       42450    Diesel   \n",
              "\n",
              "  Seller_Type Transmission  Owner  \n",
              "0      Dealer       Manual      0  \n",
              "1      Dealer       Manual      0  \n",
              "2      Dealer       Manual      0  \n",
              "3      Dealer       Manual      0  \n",
              "4      Dealer       Manual      0  "
            ]
          },
          "metadata": {},
          "execution_count": 3
        }
      ]
    },
    {
      "cell_type": "markdown",
      "metadata": {
        "id": "EyXAGsjnbV8_"
      },
      "source": [
        "# Data Preparation"
      ]
    },
    {
      "cell_type": "code",
      "metadata": {
        "id": "zoySlXabbV9B",
        "colab": {
          "base_uri": "https://localhost:8080/"
        },
        "outputId": "c5198cf3-ded6-4f0f-ce87-a788c5c34411"
      },
      "source": [
        "df.info()"
      ],
      "execution_count": 4,
      "outputs": [
        {
          "output_type": "stream",
          "name": "stdout",
          "text": [
            "<class 'pandas.core.frame.DataFrame'>\n",
            "RangeIndex: 301 entries, 0 to 300\n",
            "Data columns (total 9 columns):\n",
            " #   Column         Non-Null Count  Dtype  \n",
            "---  ------         --------------  -----  \n",
            " 0   Car_Name       301 non-null    object \n",
            " 1   Year           301 non-null    int64  \n",
            " 2   Selling_Price  301 non-null    float64\n",
            " 3   Present_Price  301 non-null    float64\n",
            " 4   Kms_Driven     301 non-null    int64  \n",
            " 5   Fuel_Type      301 non-null    object \n",
            " 6   Seller_Type    301 non-null    object \n",
            " 7   Transmission   301 non-null    object \n",
            " 8   Owner          301 non-null    int64  \n",
            "dtypes: float64(2), int64(3), object(4)\n",
            "memory usage: 21.3+ KB\n"
          ]
        }
      ]
    },
    {
      "cell_type": "code",
      "source": [
        "df.describe().T"
      ],
      "metadata": {
        "colab": {
          "base_uri": "https://localhost:8080/",
          "height": 206
        },
        "id": "_kghxcUbCxlH",
        "outputId": "08ecde59-2670-4d11-f102-a017e573b726"
      },
      "execution_count": 5,
      "outputs": [
        {
          "output_type": "execute_result",
          "data": {
            "text/html": [
              "\n",
              "  <div id=\"df-7e31063c-0f42-424a-aa4e-be62e3a913ae\">\n",
              "    <div class=\"colab-df-container\">\n",
              "      <div>\n",
              "<style scoped>\n",
              "    .dataframe tbody tr th:only-of-type {\n",
              "        vertical-align: middle;\n",
              "    }\n",
              "\n",
              "    .dataframe tbody tr th {\n",
              "        vertical-align: top;\n",
              "    }\n",
              "\n",
              "    .dataframe thead th {\n",
              "        text-align: right;\n",
              "    }\n",
              "</style>\n",
              "<table border=\"1\" class=\"dataframe\">\n",
              "  <thead>\n",
              "    <tr style=\"text-align: right;\">\n",
              "      <th></th>\n",
              "      <th>count</th>\n",
              "      <th>mean</th>\n",
              "      <th>std</th>\n",
              "      <th>min</th>\n",
              "      <th>25%</th>\n",
              "      <th>50%</th>\n",
              "      <th>75%</th>\n",
              "      <th>max</th>\n",
              "    </tr>\n",
              "  </thead>\n",
              "  <tbody>\n",
              "    <tr>\n",
              "      <th>Year</th>\n",
              "      <td>301.0</td>\n",
              "      <td>2013.627907</td>\n",
              "      <td>2.891554</td>\n",
              "      <td>2003.00</td>\n",
              "      <td>2012.0</td>\n",
              "      <td>2014.0</td>\n",
              "      <td>2016.0</td>\n",
              "      <td>2018.0</td>\n",
              "    </tr>\n",
              "    <tr>\n",
              "      <th>Selling_Price</th>\n",
              "      <td>301.0</td>\n",
              "      <td>4.661296</td>\n",
              "      <td>5.082812</td>\n",
              "      <td>0.10</td>\n",
              "      <td>0.9</td>\n",
              "      <td>3.6</td>\n",
              "      <td>6.0</td>\n",
              "      <td>35.0</td>\n",
              "    </tr>\n",
              "    <tr>\n",
              "      <th>Present_Price</th>\n",
              "      <td>301.0</td>\n",
              "      <td>7.628472</td>\n",
              "      <td>8.644115</td>\n",
              "      <td>0.32</td>\n",
              "      <td>1.2</td>\n",
              "      <td>6.4</td>\n",
              "      <td>9.9</td>\n",
              "      <td>92.6</td>\n",
              "    </tr>\n",
              "    <tr>\n",
              "      <th>Kms_Driven</th>\n",
              "      <td>301.0</td>\n",
              "      <td>36947.205980</td>\n",
              "      <td>38886.883882</td>\n",
              "      <td>500.00</td>\n",
              "      <td>15000.0</td>\n",
              "      <td>32000.0</td>\n",
              "      <td>48767.0</td>\n",
              "      <td>500000.0</td>\n",
              "    </tr>\n",
              "    <tr>\n",
              "      <th>Owner</th>\n",
              "      <td>301.0</td>\n",
              "      <td>0.043189</td>\n",
              "      <td>0.247915</td>\n",
              "      <td>0.00</td>\n",
              "      <td>0.0</td>\n",
              "      <td>0.0</td>\n",
              "      <td>0.0</td>\n",
              "      <td>3.0</td>\n",
              "    </tr>\n",
              "  </tbody>\n",
              "</table>\n",
              "</div>\n",
              "      <button class=\"colab-df-convert\" onclick=\"convertToInteractive('df-7e31063c-0f42-424a-aa4e-be62e3a913ae')\"\n",
              "              title=\"Convert this dataframe to an interactive table.\"\n",
              "              style=\"display:none;\">\n",
              "        \n",
              "  <svg xmlns=\"http://www.w3.org/2000/svg\" height=\"24px\"viewBox=\"0 0 24 24\"\n",
              "       width=\"24px\">\n",
              "    <path d=\"M0 0h24v24H0V0z\" fill=\"none\"/>\n",
              "    <path d=\"M18.56 5.44l.94 2.06.94-2.06 2.06-.94-2.06-.94-.94-2.06-.94 2.06-2.06.94zm-11 1L8.5 8.5l.94-2.06 2.06-.94-2.06-.94L8.5 2.5l-.94 2.06-2.06.94zm10 10l.94 2.06.94-2.06 2.06-.94-2.06-.94-.94-2.06-.94 2.06-2.06.94z\"/><path d=\"M17.41 7.96l-1.37-1.37c-.4-.4-.92-.59-1.43-.59-.52 0-1.04.2-1.43.59L10.3 9.45l-7.72 7.72c-.78.78-.78 2.05 0 2.83L4 21.41c.39.39.9.59 1.41.59.51 0 1.02-.2 1.41-.59l7.78-7.78 2.81-2.81c.8-.78.8-2.07 0-2.86zM5.41 20L4 18.59l7.72-7.72 1.47 1.35L5.41 20z\"/>\n",
              "  </svg>\n",
              "      </button>\n",
              "      \n",
              "  <style>\n",
              "    .colab-df-container {\n",
              "      display:flex;\n",
              "      flex-wrap:wrap;\n",
              "      gap: 12px;\n",
              "    }\n",
              "\n",
              "    .colab-df-convert {\n",
              "      background-color: #E8F0FE;\n",
              "      border: none;\n",
              "      border-radius: 50%;\n",
              "      cursor: pointer;\n",
              "      display: none;\n",
              "      fill: #1967D2;\n",
              "      height: 32px;\n",
              "      padding: 0 0 0 0;\n",
              "      width: 32px;\n",
              "    }\n",
              "\n",
              "    .colab-df-convert:hover {\n",
              "      background-color: #E2EBFA;\n",
              "      box-shadow: 0px 1px 2px rgba(60, 64, 67, 0.3), 0px 1px 3px 1px rgba(60, 64, 67, 0.15);\n",
              "      fill: #174EA6;\n",
              "    }\n",
              "\n",
              "    [theme=dark] .colab-df-convert {\n",
              "      background-color: #3B4455;\n",
              "      fill: #D2E3FC;\n",
              "    }\n",
              "\n",
              "    [theme=dark] .colab-df-convert:hover {\n",
              "      background-color: #434B5C;\n",
              "      box-shadow: 0px 1px 3px 1px rgba(0, 0, 0, 0.15);\n",
              "      filter: drop-shadow(0px 1px 2px rgba(0, 0, 0, 0.3));\n",
              "      fill: #FFFFFF;\n",
              "    }\n",
              "  </style>\n",
              "\n",
              "      <script>\n",
              "        const buttonEl =\n",
              "          document.querySelector('#df-7e31063c-0f42-424a-aa4e-be62e3a913ae button.colab-df-convert');\n",
              "        buttonEl.style.display =\n",
              "          google.colab.kernel.accessAllowed ? 'block' : 'none';\n",
              "\n",
              "        async function convertToInteractive(key) {\n",
              "          const element = document.querySelector('#df-7e31063c-0f42-424a-aa4e-be62e3a913ae');\n",
              "          const dataTable =\n",
              "            await google.colab.kernel.invokeFunction('convertToInteractive',\n",
              "                                                     [key], {});\n",
              "          if (!dataTable) return;\n",
              "\n",
              "          const docLinkHtml = 'Like what you see? Visit the ' +\n",
              "            '<a target=\"_blank\" href=https://colab.research.google.com/notebooks/data_table.ipynb>data table notebook</a>'\n",
              "            + ' to learn more about interactive tables.';\n",
              "          element.innerHTML = '';\n",
              "          dataTable['output_type'] = 'display_data';\n",
              "          await google.colab.output.renderOutput(dataTable, element);\n",
              "          const docLink = document.createElement('div');\n",
              "          docLink.innerHTML = docLinkHtml;\n",
              "          element.appendChild(docLink);\n",
              "        }\n",
              "      </script>\n",
              "    </div>\n",
              "  </div>\n",
              "  "
            ],
            "text/plain": [
              "               count          mean           std      min      25%      50%  \\\n",
              "Year           301.0   2013.627907      2.891554  2003.00   2012.0   2014.0   \n",
              "Selling_Price  301.0      4.661296      5.082812     0.10      0.9      3.6   \n",
              "Present_Price  301.0      7.628472      8.644115     0.32      1.2      6.4   \n",
              "Kms_Driven     301.0  36947.205980  38886.883882   500.00  15000.0  32000.0   \n",
              "Owner          301.0      0.043189      0.247915     0.00      0.0      0.0   \n",
              "\n",
              "                   75%       max  \n",
              "Year            2016.0    2018.0  \n",
              "Selling_Price      6.0      35.0  \n",
              "Present_Price      9.9      92.6  \n",
              "Kms_Driven     48767.0  500000.0  \n",
              "Owner              0.0       3.0  "
            ]
          },
          "metadata": {},
          "execution_count": 5
        }
      ]
    },
    {
      "cell_type": "code",
      "source": [
        "df[\"Age\"] = 2018 - (df.Year)"
      ],
      "metadata": {
        "id": "pKEATRwBDMZP"
      },
      "execution_count": 6,
      "outputs": []
    },
    {
      "cell_type": "code",
      "source": [
        "df.head()"
      ],
      "metadata": {
        "colab": {
          "base_uri": "https://localhost:8080/",
          "height": 206
        },
        "id": "9UFPeNsaDcmU",
        "outputId": "ba3ef838-433c-4704-d59c-3f7203a13927"
      },
      "execution_count": 7,
      "outputs": [
        {
          "output_type": "execute_result",
          "data": {
            "text/html": [
              "\n",
              "  <div id=\"df-4a3906f4-1e6d-455a-b7cf-f8d048c217f6\">\n",
              "    <div class=\"colab-df-container\">\n",
              "      <div>\n",
              "<style scoped>\n",
              "    .dataframe tbody tr th:only-of-type {\n",
              "        vertical-align: middle;\n",
              "    }\n",
              "\n",
              "    .dataframe tbody tr th {\n",
              "        vertical-align: top;\n",
              "    }\n",
              "\n",
              "    .dataframe thead th {\n",
              "        text-align: right;\n",
              "    }\n",
              "</style>\n",
              "<table border=\"1\" class=\"dataframe\">\n",
              "  <thead>\n",
              "    <tr style=\"text-align: right;\">\n",
              "      <th></th>\n",
              "      <th>Car_Name</th>\n",
              "      <th>Year</th>\n",
              "      <th>Selling_Price</th>\n",
              "      <th>Present_Price</th>\n",
              "      <th>Kms_Driven</th>\n",
              "      <th>Fuel_Type</th>\n",
              "      <th>Seller_Type</th>\n",
              "      <th>Transmission</th>\n",
              "      <th>Owner</th>\n",
              "      <th>Age</th>\n",
              "    </tr>\n",
              "  </thead>\n",
              "  <tbody>\n",
              "    <tr>\n",
              "      <th>0</th>\n",
              "      <td>ritz</td>\n",
              "      <td>2014</td>\n",
              "      <td>3.35</td>\n",
              "      <td>5.59</td>\n",
              "      <td>27000</td>\n",
              "      <td>Petrol</td>\n",
              "      <td>Dealer</td>\n",
              "      <td>Manual</td>\n",
              "      <td>0</td>\n",
              "      <td>4</td>\n",
              "    </tr>\n",
              "    <tr>\n",
              "      <th>1</th>\n",
              "      <td>sx4</td>\n",
              "      <td>2013</td>\n",
              "      <td>4.75</td>\n",
              "      <td>9.54</td>\n",
              "      <td>43000</td>\n",
              "      <td>Diesel</td>\n",
              "      <td>Dealer</td>\n",
              "      <td>Manual</td>\n",
              "      <td>0</td>\n",
              "      <td>5</td>\n",
              "    </tr>\n",
              "    <tr>\n",
              "      <th>2</th>\n",
              "      <td>ciaz</td>\n",
              "      <td>2017</td>\n",
              "      <td>7.25</td>\n",
              "      <td>9.85</td>\n",
              "      <td>6900</td>\n",
              "      <td>Petrol</td>\n",
              "      <td>Dealer</td>\n",
              "      <td>Manual</td>\n",
              "      <td>0</td>\n",
              "      <td>1</td>\n",
              "    </tr>\n",
              "    <tr>\n",
              "      <th>3</th>\n",
              "      <td>wagon r</td>\n",
              "      <td>2011</td>\n",
              "      <td>2.85</td>\n",
              "      <td>4.15</td>\n",
              "      <td>5200</td>\n",
              "      <td>Petrol</td>\n",
              "      <td>Dealer</td>\n",
              "      <td>Manual</td>\n",
              "      <td>0</td>\n",
              "      <td>7</td>\n",
              "    </tr>\n",
              "    <tr>\n",
              "      <th>4</th>\n",
              "      <td>swift</td>\n",
              "      <td>2014</td>\n",
              "      <td>4.60</td>\n",
              "      <td>6.87</td>\n",
              "      <td>42450</td>\n",
              "      <td>Diesel</td>\n",
              "      <td>Dealer</td>\n",
              "      <td>Manual</td>\n",
              "      <td>0</td>\n",
              "      <td>4</td>\n",
              "    </tr>\n",
              "  </tbody>\n",
              "</table>\n",
              "</div>\n",
              "      <button class=\"colab-df-convert\" onclick=\"convertToInteractive('df-4a3906f4-1e6d-455a-b7cf-f8d048c217f6')\"\n",
              "              title=\"Convert this dataframe to an interactive table.\"\n",
              "              style=\"display:none;\">\n",
              "        \n",
              "  <svg xmlns=\"http://www.w3.org/2000/svg\" height=\"24px\"viewBox=\"0 0 24 24\"\n",
              "       width=\"24px\">\n",
              "    <path d=\"M0 0h24v24H0V0z\" fill=\"none\"/>\n",
              "    <path d=\"M18.56 5.44l.94 2.06.94-2.06 2.06-.94-2.06-.94-.94-2.06-.94 2.06-2.06.94zm-11 1L8.5 8.5l.94-2.06 2.06-.94-2.06-.94L8.5 2.5l-.94 2.06-2.06.94zm10 10l.94 2.06.94-2.06 2.06-.94-2.06-.94-.94-2.06-.94 2.06-2.06.94z\"/><path d=\"M17.41 7.96l-1.37-1.37c-.4-.4-.92-.59-1.43-.59-.52 0-1.04.2-1.43.59L10.3 9.45l-7.72 7.72c-.78.78-.78 2.05 0 2.83L4 21.41c.39.39.9.59 1.41.59.51 0 1.02-.2 1.41-.59l7.78-7.78 2.81-2.81c.8-.78.8-2.07 0-2.86zM5.41 20L4 18.59l7.72-7.72 1.47 1.35L5.41 20z\"/>\n",
              "  </svg>\n",
              "      </button>\n",
              "      \n",
              "  <style>\n",
              "    .colab-df-container {\n",
              "      display:flex;\n",
              "      flex-wrap:wrap;\n",
              "      gap: 12px;\n",
              "    }\n",
              "\n",
              "    .colab-df-convert {\n",
              "      background-color: #E8F0FE;\n",
              "      border: none;\n",
              "      border-radius: 50%;\n",
              "      cursor: pointer;\n",
              "      display: none;\n",
              "      fill: #1967D2;\n",
              "      height: 32px;\n",
              "      padding: 0 0 0 0;\n",
              "      width: 32px;\n",
              "    }\n",
              "\n",
              "    .colab-df-convert:hover {\n",
              "      background-color: #E2EBFA;\n",
              "      box-shadow: 0px 1px 2px rgba(60, 64, 67, 0.3), 0px 1px 3px 1px rgba(60, 64, 67, 0.15);\n",
              "      fill: #174EA6;\n",
              "    }\n",
              "\n",
              "    [theme=dark] .colab-df-convert {\n",
              "      background-color: #3B4455;\n",
              "      fill: #D2E3FC;\n",
              "    }\n",
              "\n",
              "    [theme=dark] .colab-df-convert:hover {\n",
              "      background-color: #434B5C;\n",
              "      box-shadow: 0px 1px 3px 1px rgba(0, 0, 0, 0.15);\n",
              "      filter: drop-shadow(0px 1px 2px rgba(0, 0, 0, 0.3));\n",
              "      fill: #FFFFFF;\n",
              "    }\n",
              "  </style>\n",
              "\n",
              "      <script>\n",
              "        const buttonEl =\n",
              "          document.querySelector('#df-4a3906f4-1e6d-455a-b7cf-f8d048c217f6 button.colab-df-convert');\n",
              "        buttonEl.style.display =\n",
              "          google.colab.kernel.accessAllowed ? 'block' : 'none';\n",
              "\n",
              "        async function convertToInteractive(key) {\n",
              "          const element = document.querySelector('#df-4a3906f4-1e6d-455a-b7cf-f8d048c217f6');\n",
              "          const dataTable =\n",
              "            await google.colab.kernel.invokeFunction('convertToInteractive',\n",
              "                                                     [key], {});\n",
              "          if (!dataTable) return;\n",
              "\n",
              "          const docLinkHtml = 'Like what you see? Visit the ' +\n",
              "            '<a target=\"_blank\" href=https://colab.research.google.com/notebooks/data_table.ipynb>data table notebook</a>'\n",
              "            + ' to learn more about interactive tables.';\n",
              "          element.innerHTML = '';\n",
              "          dataTable['output_type'] = 'display_data';\n",
              "          await google.colab.output.renderOutput(dataTable, element);\n",
              "          const docLink = document.createElement('div');\n",
              "          docLink.innerHTML = docLinkHtml;\n",
              "          element.appendChild(docLink);\n",
              "        }\n",
              "      </script>\n",
              "    </div>\n",
              "  </div>\n",
              "  "
            ],
            "text/plain": [
              "  Car_Name  Year  Selling_Price  Present_Price  Kms_Driven Fuel_Type  \\\n",
              "0     ritz  2014           3.35           5.59       27000    Petrol   \n",
              "1      sx4  2013           4.75           9.54       43000    Diesel   \n",
              "2     ciaz  2017           7.25           9.85        6900    Petrol   \n",
              "3  wagon r  2011           2.85           4.15        5200    Petrol   \n",
              "4    swift  2014           4.60           6.87       42450    Diesel   \n",
              "\n",
              "  Seller_Type Transmission  Owner  Age  \n",
              "0      Dealer       Manual      0    4  \n",
              "1      Dealer       Manual      0    5  \n",
              "2      Dealer       Manual      0    1  \n",
              "3      Dealer       Manual      0    7  \n",
              "4      Dealer       Manual      0    4  "
            ]
          },
          "metadata": {},
          "execution_count": 7
        }
      ]
    },
    {
      "cell_type": "code",
      "source": [
        "df[\"Car_Name\"].value_counts()"
      ],
      "metadata": {
        "colab": {
          "base_uri": "https://localhost:8080/"
        },
        "id": "h-pZa8A0U2XC",
        "outputId": "b7493eb2-6b06-45bb-afa0-d2c5183488a4"
      },
      "execution_count": 8,
      "outputs": [
        {
          "output_type": "execute_result",
          "data": {
            "text/plain": [
              "city                        26\n",
              "corolla altis               16\n",
              "verna                       14\n",
              "fortuner                    11\n",
              "brio                        10\n",
              "                            ..\n",
              "Bajaj Avenger 150 street     1\n",
              "KTM 390 Duke                 1\n",
              "Bajaj Pulsar  NS 200         1\n",
              "Activa 4g                    1\n",
              "s cross                      1\n",
              "Name: Car_Name, Length: 98, dtype: int64"
            ]
          },
          "metadata": {},
          "execution_count": 8
        }
      ]
    },
    {
      "cell_type": "code",
      "source": [
        "df.drop([\"Year\", \"Car_Name\"], axis=1, inplace=True)"
      ],
      "metadata": {
        "id": "HA0VJYoj5Kzj"
      },
      "execution_count": 9,
      "outputs": []
    },
    {
      "cell_type": "code",
      "source": [
        "df.sample()"
      ],
      "metadata": {
        "colab": {
          "base_uri": "https://localhost:8080/",
          "height": 81
        },
        "id": "h3bqe1BZD8g9",
        "outputId": "d0b36088-06ef-4bad-d729-343382db512c"
      },
      "execution_count": 10,
      "outputs": [
        {
          "output_type": "execute_result",
          "data": {
            "text/html": [
              "\n",
              "  <div id=\"df-ed08c646-c60c-43d4-8341-5513bbbf9529\">\n",
              "    <div class=\"colab-df-container\">\n",
              "      <div>\n",
              "<style scoped>\n",
              "    .dataframe tbody tr th:only-of-type {\n",
              "        vertical-align: middle;\n",
              "    }\n",
              "\n",
              "    .dataframe tbody tr th {\n",
              "        vertical-align: top;\n",
              "    }\n",
              "\n",
              "    .dataframe thead th {\n",
              "        text-align: right;\n",
              "    }\n",
              "</style>\n",
              "<table border=\"1\" class=\"dataframe\">\n",
              "  <thead>\n",
              "    <tr style=\"text-align: right;\">\n",
              "      <th></th>\n",
              "      <th>Selling_Price</th>\n",
              "      <th>Present_Price</th>\n",
              "      <th>Kms_Driven</th>\n",
              "      <th>Fuel_Type</th>\n",
              "      <th>Seller_Type</th>\n",
              "      <th>Transmission</th>\n",
              "      <th>Owner</th>\n",
              "      <th>Age</th>\n",
              "    </tr>\n",
              "  </thead>\n",
              "  <tbody>\n",
              "    <tr>\n",
              "      <th>58</th>\n",
              "      <td>4.1</td>\n",
              "      <td>6.8</td>\n",
              "      <td>39485</td>\n",
              "      <td>Petrol</td>\n",
              "      <td>Dealer</td>\n",
              "      <td>Manual</td>\n",
              "      <td>1</td>\n",
              "      <td>4</td>\n",
              "    </tr>\n",
              "  </tbody>\n",
              "</table>\n",
              "</div>\n",
              "      <button class=\"colab-df-convert\" onclick=\"convertToInteractive('df-ed08c646-c60c-43d4-8341-5513bbbf9529')\"\n",
              "              title=\"Convert this dataframe to an interactive table.\"\n",
              "              style=\"display:none;\">\n",
              "        \n",
              "  <svg xmlns=\"http://www.w3.org/2000/svg\" height=\"24px\"viewBox=\"0 0 24 24\"\n",
              "       width=\"24px\">\n",
              "    <path d=\"M0 0h24v24H0V0z\" fill=\"none\"/>\n",
              "    <path d=\"M18.56 5.44l.94 2.06.94-2.06 2.06-.94-2.06-.94-.94-2.06-.94 2.06-2.06.94zm-11 1L8.5 8.5l.94-2.06 2.06-.94-2.06-.94L8.5 2.5l-.94 2.06-2.06.94zm10 10l.94 2.06.94-2.06 2.06-.94-2.06-.94-.94-2.06-.94 2.06-2.06.94z\"/><path d=\"M17.41 7.96l-1.37-1.37c-.4-.4-.92-.59-1.43-.59-.52 0-1.04.2-1.43.59L10.3 9.45l-7.72 7.72c-.78.78-.78 2.05 0 2.83L4 21.41c.39.39.9.59 1.41.59.51 0 1.02-.2 1.41-.59l7.78-7.78 2.81-2.81c.8-.78.8-2.07 0-2.86zM5.41 20L4 18.59l7.72-7.72 1.47 1.35L5.41 20z\"/>\n",
              "  </svg>\n",
              "      </button>\n",
              "      \n",
              "  <style>\n",
              "    .colab-df-container {\n",
              "      display:flex;\n",
              "      flex-wrap:wrap;\n",
              "      gap: 12px;\n",
              "    }\n",
              "\n",
              "    .colab-df-convert {\n",
              "      background-color: #E8F0FE;\n",
              "      border: none;\n",
              "      border-radius: 50%;\n",
              "      cursor: pointer;\n",
              "      display: none;\n",
              "      fill: #1967D2;\n",
              "      height: 32px;\n",
              "      padding: 0 0 0 0;\n",
              "      width: 32px;\n",
              "    }\n",
              "\n",
              "    .colab-df-convert:hover {\n",
              "      background-color: #E2EBFA;\n",
              "      box-shadow: 0px 1px 2px rgba(60, 64, 67, 0.3), 0px 1px 3px 1px rgba(60, 64, 67, 0.15);\n",
              "      fill: #174EA6;\n",
              "    }\n",
              "\n",
              "    [theme=dark] .colab-df-convert {\n",
              "      background-color: #3B4455;\n",
              "      fill: #D2E3FC;\n",
              "    }\n",
              "\n",
              "    [theme=dark] .colab-df-convert:hover {\n",
              "      background-color: #434B5C;\n",
              "      box-shadow: 0px 1px 3px 1px rgba(0, 0, 0, 0.15);\n",
              "      filter: drop-shadow(0px 1px 2px rgba(0, 0, 0, 0.3));\n",
              "      fill: #FFFFFF;\n",
              "    }\n",
              "  </style>\n",
              "\n",
              "      <script>\n",
              "        const buttonEl =\n",
              "          document.querySelector('#df-ed08c646-c60c-43d4-8341-5513bbbf9529 button.colab-df-convert');\n",
              "        buttonEl.style.display =\n",
              "          google.colab.kernel.accessAllowed ? 'block' : 'none';\n",
              "\n",
              "        async function convertToInteractive(key) {\n",
              "          const element = document.querySelector('#df-ed08c646-c60c-43d4-8341-5513bbbf9529');\n",
              "          const dataTable =\n",
              "            await google.colab.kernel.invokeFunction('convertToInteractive',\n",
              "                                                     [key], {});\n",
              "          if (!dataTable) return;\n",
              "\n",
              "          const docLinkHtml = 'Like what you see? Visit the ' +\n",
              "            '<a target=\"_blank\" href=https://colab.research.google.com/notebooks/data_table.ipynb>data table notebook</a>'\n",
              "            + ' to learn more about interactive tables.';\n",
              "          element.innerHTML = '';\n",
              "          dataTable['output_type'] = 'display_data';\n",
              "          await google.colab.output.renderOutput(dataTable, element);\n",
              "          const docLink = document.createElement('div');\n",
              "          docLink.innerHTML = docLinkHtml;\n",
              "          element.appendChild(docLink);\n",
              "        }\n",
              "      </script>\n",
              "    </div>\n",
              "  </div>\n",
              "  "
            ],
            "text/plain": [
              "    Selling_Price  Present_Price  Kms_Driven Fuel_Type Seller_Type  \\\n",
              "58            4.1            6.8       39485    Petrol      Dealer   \n",
              "\n",
              "   Transmission  Owner  Age  \n",
              "58       Manual      1    4  "
            ]
          },
          "metadata": {},
          "execution_count": 10
        }
      ]
    },
    {
      "cell_type": "code",
      "source": [
        "df.Transmission.unique()"
      ],
      "metadata": {
        "colab": {
          "base_uri": "https://localhost:8080/"
        },
        "id": "-YXR8-qvEFD1",
        "outputId": "f069dca0-b92d-4c53-a237-ad77aabe0894"
      },
      "execution_count": 11,
      "outputs": [
        {
          "output_type": "execute_result",
          "data": {
            "text/plain": [
              "array(['Manual', 'Automatic'], dtype=object)"
            ]
          },
          "metadata": {},
          "execution_count": 11
        }
      ]
    },
    {
      "cell_type": "code",
      "source": [
        "df.Seller_Type.unique()"
      ],
      "metadata": {
        "colab": {
          "base_uri": "https://localhost:8080/"
        },
        "id": "VDOxiOp519cL",
        "outputId": "5c5dfd05-8544-4e31-d4ef-9f8f3c2bceea"
      },
      "execution_count": 12,
      "outputs": [
        {
          "output_type": "execute_result",
          "data": {
            "text/plain": [
              "array(['Dealer', 'Individual'], dtype=object)"
            ]
          },
          "metadata": {},
          "execution_count": 12
        }
      ]
    },
    {
      "cell_type": "code",
      "source": [
        "df.Owner.unique()"
      ],
      "metadata": {
        "colab": {
          "base_uri": "https://localhost:8080/"
        },
        "id": "zcZKOfxq2H1I",
        "outputId": "f31d19e4-25a6-4fa9-e773-23ce804e3a13"
      },
      "execution_count": 13,
      "outputs": [
        {
          "output_type": "execute_result",
          "data": {
            "text/plain": [
              "array([0, 1, 3])"
            ]
          },
          "metadata": {},
          "execution_count": 13
        }
      ]
    },
    {
      "cell_type": "code",
      "source": [
        "df.Fuel_Type.unique()"
      ],
      "metadata": {
        "colab": {
          "base_uri": "https://localhost:8080/"
        },
        "id": "uLH9zp2J2Spe",
        "outputId": "f109b525-4d52-4f71-f203-96ce3d41d49f"
      },
      "execution_count": 14,
      "outputs": [
        {
          "output_type": "execute_result",
          "data": {
            "text/plain": [
              "array(['Petrol', 'Diesel', 'CNG'], dtype=object)"
            ]
          },
          "metadata": {},
          "execution_count": 14
        }
      ]
    },
    {
      "cell_type": "code",
      "source": [
        "df = pd.get_dummies(df, columns=[\"Transmission\", \"Fuel_Type\", \"Seller_Type\"], drop_first=True)"
      ],
      "metadata": {
        "id": "YHcCjA0tCn6p"
      },
      "execution_count": 15,
      "outputs": []
    },
    {
      "cell_type": "code",
      "source": [
        "df.sample(5)"
      ],
      "metadata": {
        "colab": {
          "base_uri": "https://localhost:8080/",
          "height": 206
        },
        "id": "rqKQje05C36i",
        "outputId": "b5ddb46a-016b-427f-fb31-56e98583e49c"
      },
      "execution_count": 16,
      "outputs": [
        {
          "output_type": "execute_result",
          "data": {
            "text/html": [
              "\n",
              "  <div id=\"df-8d1efa1f-4903-4675-a1f4-71cbe22c2f64\">\n",
              "    <div class=\"colab-df-container\">\n",
              "      <div>\n",
              "<style scoped>\n",
              "    .dataframe tbody tr th:only-of-type {\n",
              "        vertical-align: middle;\n",
              "    }\n",
              "\n",
              "    .dataframe tbody tr th {\n",
              "        vertical-align: top;\n",
              "    }\n",
              "\n",
              "    .dataframe thead th {\n",
              "        text-align: right;\n",
              "    }\n",
              "</style>\n",
              "<table border=\"1\" class=\"dataframe\">\n",
              "  <thead>\n",
              "    <tr style=\"text-align: right;\">\n",
              "      <th></th>\n",
              "      <th>Selling_Price</th>\n",
              "      <th>Present_Price</th>\n",
              "      <th>Kms_Driven</th>\n",
              "      <th>Owner</th>\n",
              "      <th>Age</th>\n",
              "      <th>Transmission_Manual</th>\n",
              "      <th>Fuel_Type_Diesel</th>\n",
              "      <th>Fuel_Type_Petrol</th>\n",
              "      <th>Seller_Type_Individual</th>\n",
              "    </tr>\n",
              "  </thead>\n",
              "  <tbody>\n",
              "    <tr>\n",
              "      <th>120</th>\n",
              "      <td>1.05</td>\n",
              "      <td>1.260</td>\n",
              "      <td>5700</td>\n",
              "      <td>0</td>\n",
              "      <td>2</td>\n",
              "      <td>1</td>\n",
              "      <td>0</td>\n",
              "      <td>1</td>\n",
              "      <td>1</td>\n",
              "    </tr>\n",
              "    <tr>\n",
              "      <th>278</th>\n",
              "      <td>6.00</td>\n",
              "      <td>8.400</td>\n",
              "      <td>4000</td>\n",
              "      <td>0</td>\n",
              "      <td>2</td>\n",
              "      <td>1</td>\n",
              "      <td>0</td>\n",
              "      <td>1</td>\n",
              "      <td>0</td>\n",
              "    </tr>\n",
              "    <tr>\n",
              "      <th>105</th>\n",
              "      <td>1.35</td>\n",
              "      <td>2.370</td>\n",
              "      <td>21700</td>\n",
              "      <td>0</td>\n",
              "      <td>3</td>\n",
              "      <td>1</td>\n",
              "      <td>0</td>\n",
              "      <td>1</td>\n",
              "      <td>1</td>\n",
              "    </tr>\n",
              "    <tr>\n",
              "      <th>163</th>\n",
              "      <td>0.45</td>\n",
              "      <td>0.950</td>\n",
              "      <td>27000</td>\n",
              "      <td>0</td>\n",
              "      <td>8</td>\n",
              "      <td>1</td>\n",
              "      <td>0</td>\n",
              "      <td>1</td>\n",
              "      <td>1</td>\n",
              "    </tr>\n",
              "    <tr>\n",
              "      <th>175</th>\n",
              "      <td>0.38</td>\n",
              "      <td>0.787</td>\n",
              "      <td>75000</td>\n",
              "      <td>0</td>\n",
              "      <td>7</td>\n",
              "      <td>1</td>\n",
              "      <td>0</td>\n",
              "      <td>1</td>\n",
              "      <td>1</td>\n",
              "    </tr>\n",
              "  </tbody>\n",
              "</table>\n",
              "</div>\n",
              "      <button class=\"colab-df-convert\" onclick=\"convertToInteractive('df-8d1efa1f-4903-4675-a1f4-71cbe22c2f64')\"\n",
              "              title=\"Convert this dataframe to an interactive table.\"\n",
              "              style=\"display:none;\">\n",
              "        \n",
              "  <svg xmlns=\"http://www.w3.org/2000/svg\" height=\"24px\"viewBox=\"0 0 24 24\"\n",
              "       width=\"24px\">\n",
              "    <path d=\"M0 0h24v24H0V0z\" fill=\"none\"/>\n",
              "    <path d=\"M18.56 5.44l.94 2.06.94-2.06 2.06-.94-2.06-.94-.94-2.06-.94 2.06-2.06.94zm-11 1L8.5 8.5l.94-2.06 2.06-.94-2.06-.94L8.5 2.5l-.94 2.06-2.06.94zm10 10l.94 2.06.94-2.06 2.06-.94-2.06-.94-.94-2.06-.94 2.06-2.06.94z\"/><path d=\"M17.41 7.96l-1.37-1.37c-.4-.4-.92-.59-1.43-.59-.52 0-1.04.2-1.43.59L10.3 9.45l-7.72 7.72c-.78.78-.78 2.05 0 2.83L4 21.41c.39.39.9.59 1.41.59.51 0 1.02-.2 1.41-.59l7.78-7.78 2.81-2.81c.8-.78.8-2.07 0-2.86zM5.41 20L4 18.59l7.72-7.72 1.47 1.35L5.41 20z\"/>\n",
              "  </svg>\n",
              "      </button>\n",
              "      \n",
              "  <style>\n",
              "    .colab-df-container {\n",
              "      display:flex;\n",
              "      flex-wrap:wrap;\n",
              "      gap: 12px;\n",
              "    }\n",
              "\n",
              "    .colab-df-convert {\n",
              "      background-color: #E8F0FE;\n",
              "      border: none;\n",
              "      border-radius: 50%;\n",
              "      cursor: pointer;\n",
              "      display: none;\n",
              "      fill: #1967D2;\n",
              "      height: 32px;\n",
              "      padding: 0 0 0 0;\n",
              "      width: 32px;\n",
              "    }\n",
              "\n",
              "    .colab-df-convert:hover {\n",
              "      background-color: #E2EBFA;\n",
              "      box-shadow: 0px 1px 2px rgba(60, 64, 67, 0.3), 0px 1px 3px 1px rgba(60, 64, 67, 0.15);\n",
              "      fill: #174EA6;\n",
              "    }\n",
              "\n",
              "    [theme=dark] .colab-df-convert {\n",
              "      background-color: #3B4455;\n",
              "      fill: #D2E3FC;\n",
              "    }\n",
              "\n",
              "    [theme=dark] .colab-df-convert:hover {\n",
              "      background-color: #434B5C;\n",
              "      box-shadow: 0px 1px 3px 1px rgba(0, 0, 0, 0.15);\n",
              "      filter: drop-shadow(0px 1px 2px rgba(0, 0, 0, 0.3));\n",
              "      fill: #FFFFFF;\n",
              "    }\n",
              "  </style>\n",
              "\n",
              "      <script>\n",
              "        const buttonEl =\n",
              "          document.querySelector('#df-8d1efa1f-4903-4675-a1f4-71cbe22c2f64 button.colab-df-convert');\n",
              "        buttonEl.style.display =\n",
              "          google.colab.kernel.accessAllowed ? 'block' : 'none';\n",
              "\n",
              "        async function convertToInteractive(key) {\n",
              "          const element = document.querySelector('#df-8d1efa1f-4903-4675-a1f4-71cbe22c2f64');\n",
              "          const dataTable =\n",
              "            await google.colab.kernel.invokeFunction('convertToInteractive',\n",
              "                                                     [key], {});\n",
              "          if (!dataTable) return;\n",
              "\n",
              "          const docLinkHtml = 'Like what you see? Visit the ' +\n",
              "            '<a target=\"_blank\" href=https://colab.research.google.com/notebooks/data_table.ipynb>data table notebook</a>'\n",
              "            + ' to learn more about interactive tables.';\n",
              "          element.innerHTML = '';\n",
              "          dataTable['output_type'] = 'display_data';\n",
              "          await google.colab.output.renderOutput(dataTable, element);\n",
              "          const docLink = document.createElement('div');\n",
              "          docLink.innerHTML = docLinkHtml;\n",
              "          element.appendChild(docLink);\n",
              "        }\n",
              "      </script>\n",
              "    </div>\n",
              "  </div>\n",
              "  "
            ],
            "text/plain": [
              "     Selling_Price  Present_Price  Kms_Driven  Owner  Age  \\\n",
              "120           1.05          1.260        5700      0    2   \n",
              "278           6.00          8.400        4000      0    2   \n",
              "105           1.35          2.370       21700      0    3   \n",
              "163           0.45          0.950       27000      0    8   \n",
              "175           0.38          0.787       75000      0    7   \n",
              "\n",
              "     Transmission_Manual  Fuel_Type_Diesel  Fuel_Type_Petrol  \\\n",
              "120                    1                 0                 1   \n",
              "278                    1                 0                 1   \n",
              "105                    1                 0                 1   \n",
              "163                    1                 0                 1   \n",
              "175                    1                 0                 1   \n",
              "\n",
              "     Seller_Type_Individual  \n",
              "120                       1  \n",
              "278                       0  \n",
              "105                       1  \n",
              "163                       1  \n",
              "175                       1  "
            ]
          },
          "metadata": {},
          "execution_count": 16
        }
      ]
    },
    {
      "cell_type": "code",
      "source": [
        "df.shape"
      ],
      "metadata": {
        "colab": {
          "base_uri": "https://localhost:8080/"
        },
        "id": "_CKLwm6uMZme",
        "outputId": "3b65f476-c309-4273-b837-1a864a2b051c"
      },
      "execution_count": 17,
      "outputs": [
        {
          "output_type": "execute_result",
          "data": {
            "text/plain": [
              "(301, 9)"
            ]
          },
          "metadata": {},
          "execution_count": 17
        }
      ]
    },
    {
      "cell_type": "markdown",
      "metadata": {
        "id": "12PKntblbV9C"
      },
      "source": [
        "# Feature Engineering"
      ]
    },
    {
      "cell_type": "markdown",
      "metadata": {
        "id": "P49wP0afbV9E"
      },
      "source": [
        "<ul>Fuel_Type feature:\n",
        "    <li>Fuel is Petrol if Fuel_type_diesel = 0 ,Fuel_Type_Petrol = 1</li>\n",
        "    <li>Fuel is Diesel if Fuel_type_diesel = 1 ,Fuel_Type_Petrol = 0</li>\n",
        "    <li>Fuel is cng if Fuel_type_diesel = 0 ,Fuel_Type_Petrol = 0</li>\n",
        "   </ul>\n",
        "<ul>Transmission feature:\n",
        "    <li>transmission is manual if Transmission_Manual = 1</li> \n",
        "    <li>transmission is automatic if Transmission_Manual = 0</li></ul>\n",
        "<ul>Seller_Type feature:\n",
        "    <li>Seller_Type is Individual if Seller_Type_Individual = 1 </li> \n",
        "    <li>Seller_Type is dealer if Seller_Type_Individual = 0</li> </ul>\n",
        "    \n"
      ]
    },
    {
      "cell_type": "markdown",
      "metadata": {
        "id": "Pe9yr6oCbV9I"
      },
      "source": [
        "### Features and target variable"
      ]
    },
    {
      "cell_type": "code",
      "metadata": {
        "id": "OMnKPR41bV9K",
        "colab": {
          "base_uri": "https://localhost:8080/",
          "height": 375
        },
        "outputId": "d66799fc-c8d0-4d0d-d620-dad00774743d"
      },
      "source": [
        "df.corr()"
      ],
      "execution_count": 18,
      "outputs": [
        {
          "output_type": "execute_result",
          "data": {
            "text/html": [
              "\n",
              "  <div id=\"df-b8379163-b1b7-42a0-9b28-62ab4168c54c\">\n",
              "    <div class=\"colab-df-container\">\n",
              "      <div>\n",
              "<style scoped>\n",
              "    .dataframe tbody tr th:only-of-type {\n",
              "        vertical-align: middle;\n",
              "    }\n",
              "\n",
              "    .dataframe tbody tr th {\n",
              "        vertical-align: top;\n",
              "    }\n",
              "\n",
              "    .dataframe thead th {\n",
              "        text-align: right;\n",
              "    }\n",
              "</style>\n",
              "<table border=\"1\" class=\"dataframe\">\n",
              "  <thead>\n",
              "    <tr style=\"text-align: right;\">\n",
              "      <th></th>\n",
              "      <th>Selling_Price</th>\n",
              "      <th>Present_Price</th>\n",
              "      <th>Kms_Driven</th>\n",
              "      <th>Owner</th>\n",
              "      <th>Age</th>\n",
              "      <th>Transmission_Manual</th>\n",
              "      <th>Fuel_Type_Diesel</th>\n",
              "      <th>Fuel_Type_Petrol</th>\n",
              "      <th>Seller_Type_Individual</th>\n",
              "    </tr>\n",
              "  </thead>\n",
              "  <tbody>\n",
              "    <tr>\n",
              "      <th>Selling_Price</th>\n",
              "      <td>1.000000</td>\n",
              "      <td>0.878983</td>\n",
              "      <td>0.029187</td>\n",
              "      <td>-0.088344</td>\n",
              "      <td>-0.236141</td>\n",
              "      <td>-0.367128</td>\n",
              "      <td>0.552339</td>\n",
              "      <td>-0.540571</td>\n",
              "      <td>-0.550724</td>\n",
              "    </tr>\n",
              "    <tr>\n",
              "      <th>Present_Price</th>\n",
              "      <td>0.878983</td>\n",
              "      <td>1.000000</td>\n",
              "      <td>0.203647</td>\n",
              "      <td>0.008057</td>\n",
              "      <td>0.047584</td>\n",
              "      <td>-0.348715</td>\n",
              "      <td>0.473306</td>\n",
              "      <td>-0.465244</td>\n",
              "      <td>-0.512030</td>\n",
              "    </tr>\n",
              "    <tr>\n",
              "      <th>Kms_Driven</th>\n",
              "      <td>0.029187</td>\n",
              "      <td>0.203647</td>\n",
              "      <td>1.000000</td>\n",
              "      <td>0.089216</td>\n",
              "      <td>0.524342</td>\n",
              "      <td>-0.162510</td>\n",
              "      <td>0.172515</td>\n",
              "      <td>-0.172874</td>\n",
              "      <td>-0.101419</td>\n",
              "    </tr>\n",
              "    <tr>\n",
              "      <th>Owner</th>\n",
              "      <td>-0.088344</td>\n",
              "      <td>0.008057</td>\n",
              "      <td>0.089216</td>\n",
              "      <td>1.000000</td>\n",
              "      <td>0.182104</td>\n",
              "      <td>-0.050316</td>\n",
              "      <td>-0.053469</td>\n",
              "      <td>0.055687</td>\n",
              "      <td>0.124269</td>\n",
              "    </tr>\n",
              "    <tr>\n",
              "      <th>Age</th>\n",
              "      <td>-0.236141</td>\n",
              "      <td>0.047584</td>\n",
              "      <td>0.524342</td>\n",
              "      <td>0.182104</td>\n",
              "      <td>1.000000</td>\n",
              "      <td>-0.000394</td>\n",
              "      <td>-0.064315</td>\n",
              "      <td>0.059959</td>\n",
              "      <td>0.039896</td>\n",
              "    </tr>\n",
              "    <tr>\n",
              "      <th>Transmission_Manual</th>\n",
              "      <td>-0.367128</td>\n",
              "      <td>-0.348715</td>\n",
              "      <td>-0.162510</td>\n",
              "      <td>-0.050316</td>\n",
              "      <td>-0.000394</td>\n",
              "      <td>1.000000</td>\n",
              "      <td>-0.098643</td>\n",
              "      <td>0.091013</td>\n",
              "      <td>0.063240</td>\n",
              "    </tr>\n",
              "    <tr>\n",
              "      <th>Fuel_Type_Diesel</th>\n",
              "      <td>0.552339</td>\n",
              "      <td>0.473306</td>\n",
              "      <td>0.172515</td>\n",
              "      <td>-0.053469</td>\n",
              "      <td>-0.064315</td>\n",
              "      <td>-0.098643</td>\n",
              "      <td>1.000000</td>\n",
              "      <td>-0.979648</td>\n",
              "      <td>-0.350467</td>\n",
              "    </tr>\n",
              "    <tr>\n",
              "      <th>Fuel_Type_Petrol</th>\n",
              "      <td>-0.540571</td>\n",
              "      <td>-0.465244</td>\n",
              "      <td>-0.172874</td>\n",
              "      <td>0.055687</td>\n",
              "      <td>0.059959</td>\n",
              "      <td>0.091013</td>\n",
              "      <td>-0.979648</td>\n",
              "      <td>1.000000</td>\n",
              "      <td>0.358321</td>\n",
              "    </tr>\n",
              "    <tr>\n",
              "      <th>Seller_Type_Individual</th>\n",
              "      <td>-0.550724</td>\n",
              "      <td>-0.512030</td>\n",
              "      <td>-0.101419</td>\n",
              "      <td>0.124269</td>\n",
              "      <td>0.039896</td>\n",
              "      <td>0.063240</td>\n",
              "      <td>-0.350467</td>\n",
              "      <td>0.358321</td>\n",
              "      <td>1.000000</td>\n",
              "    </tr>\n",
              "  </tbody>\n",
              "</table>\n",
              "</div>\n",
              "      <button class=\"colab-df-convert\" onclick=\"convertToInteractive('df-b8379163-b1b7-42a0-9b28-62ab4168c54c')\"\n",
              "              title=\"Convert this dataframe to an interactive table.\"\n",
              "              style=\"display:none;\">\n",
              "        \n",
              "  <svg xmlns=\"http://www.w3.org/2000/svg\" height=\"24px\"viewBox=\"0 0 24 24\"\n",
              "       width=\"24px\">\n",
              "    <path d=\"M0 0h24v24H0V0z\" fill=\"none\"/>\n",
              "    <path d=\"M18.56 5.44l.94 2.06.94-2.06 2.06-.94-2.06-.94-.94-2.06-.94 2.06-2.06.94zm-11 1L8.5 8.5l.94-2.06 2.06-.94-2.06-.94L8.5 2.5l-.94 2.06-2.06.94zm10 10l.94 2.06.94-2.06 2.06-.94-2.06-.94-.94-2.06-.94 2.06-2.06.94z\"/><path d=\"M17.41 7.96l-1.37-1.37c-.4-.4-.92-.59-1.43-.59-.52 0-1.04.2-1.43.59L10.3 9.45l-7.72 7.72c-.78.78-.78 2.05 0 2.83L4 21.41c.39.39.9.59 1.41.59.51 0 1.02-.2 1.41-.59l7.78-7.78 2.81-2.81c.8-.78.8-2.07 0-2.86zM5.41 20L4 18.59l7.72-7.72 1.47 1.35L5.41 20z\"/>\n",
              "  </svg>\n",
              "      </button>\n",
              "      \n",
              "  <style>\n",
              "    .colab-df-container {\n",
              "      display:flex;\n",
              "      flex-wrap:wrap;\n",
              "      gap: 12px;\n",
              "    }\n",
              "\n",
              "    .colab-df-convert {\n",
              "      background-color: #E8F0FE;\n",
              "      border: none;\n",
              "      border-radius: 50%;\n",
              "      cursor: pointer;\n",
              "      display: none;\n",
              "      fill: #1967D2;\n",
              "      height: 32px;\n",
              "      padding: 0 0 0 0;\n",
              "      width: 32px;\n",
              "    }\n",
              "\n",
              "    .colab-df-convert:hover {\n",
              "      background-color: #E2EBFA;\n",
              "      box-shadow: 0px 1px 2px rgba(60, 64, 67, 0.3), 0px 1px 3px 1px rgba(60, 64, 67, 0.15);\n",
              "      fill: #174EA6;\n",
              "    }\n",
              "\n",
              "    [theme=dark] .colab-df-convert {\n",
              "      background-color: #3B4455;\n",
              "      fill: #D2E3FC;\n",
              "    }\n",
              "\n",
              "    [theme=dark] .colab-df-convert:hover {\n",
              "      background-color: #434B5C;\n",
              "      box-shadow: 0px 1px 3px 1px rgba(0, 0, 0, 0.15);\n",
              "      filter: drop-shadow(0px 1px 2px rgba(0, 0, 0, 0.3));\n",
              "      fill: #FFFFFF;\n",
              "    }\n",
              "  </style>\n",
              "\n",
              "      <script>\n",
              "        const buttonEl =\n",
              "          document.querySelector('#df-b8379163-b1b7-42a0-9b28-62ab4168c54c button.colab-df-convert');\n",
              "        buttonEl.style.display =\n",
              "          google.colab.kernel.accessAllowed ? 'block' : 'none';\n",
              "\n",
              "        async function convertToInteractive(key) {\n",
              "          const element = document.querySelector('#df-b8379163-b1b7-42a0-9b28-62ab4168c54c');\n",
              "          const dataTable =\n",
              "            await google.colab.kernel.invokeFunction('convertToInteractive',\n",
              "                                                     [key], {});\n",
              "          if (!dataTable) return;\n",
              "\n",
              "          const docLinkHtml = 'Like what you see? Visit the ' +\n",
              "            '<a target=\"_blank\" href=https://colab.research.google.com/notebooks/data_table.ipynb>data table notebook</a>'\n",
              "            + ' to learn more about interactive tables.';\n",
              "          element.innerHTML = '';\n",
              "          dataTable['output_type'] = 'display_data';\n",
              "          await google.colab.output.renderOutput(dataTable, element);\n",
              "          const docLink = document.createElement('div');\n",
              "          docLink.innerHTML = docLinkHtml;\n",
              "          element.appendChild(docLink);\n",
              "        }\n",
              "      </script>\n",
              "    </div>\n",
              "  </div>\n",
              "  "
            ],
            "text/plain": [
              "                        Selling_Price  Present_Price  Kms_Driven     Owner  \\\n",
              "Selling_Price                1.000000       0.878983    0.029187 -0.088344   \n",
              "Present_Price                0.878983       1.000000    0.203647  0.008057   \n",
              "Kms_Driven                   0.029187       0.203647    1.000000  0.089216   \n",
              "Owner                       -0.088344       0.008057    0.089216  1.000000   \n",
              "Age                         -0.236141       0.047584    0.524342  0.182104   \n",
              "Transmission_Manual         -0.367128      -0.348715   -0.162510 -0.050316   \n",
              "Fuel_Type_Diesel             0.552339       0.473306    0.172515 -0.053469   \n",
              "Fuel_Type_Petrol            -0.540571      -0.465244   -0.172874  0.055687   \n",
              "Seller_Type_Individual      -0.550724      -0.512030   -0.101419  0.124269   \n",
              "\n",
              "                             Age  Transmission_Manual  Fuel_Type_Diesel  \\\n",
              "Selling_Price          -0.236141            -0.367128          0.552339   \n",
              "Present_Price           0.047584            -0.348715          0.473306   \n",
              "Kms_Driven              0.524342            -0.162510          0.172515   \n",
              "Owner                   0.182104            -0.050316         -0.053469   \n",
              "Age                     1.000000            -0.000394         -0.064315   \n",
              "Transmission_Manual    -0.000394             1.000000         -0.098643   \n",
              "Fuel_Type_Diesel       -0.064315            -0.098643          1.000000   \n",
              "Fuel_Type_Petrol        0.059959             0.091013         -0.979648   \n",
              "Seller_Type_Individual  0.039896             0.063240         -0.350467   \n",
              "\n",
              "                        Fuel_Type_Petrol  Seller_Type_Individual  \n",
              "Selling_Price                  -0.540571               -0.550724  \n",
              "Present_Price                  -0.465244               -0.512030  \n",
              "Kms_Driven                     -0.172874               -0.101419  \n",
              "Owner                           0.055687                0.124269  \n",
              "Age                             0.059959                0.039896  \n",
              "Transmission_Manual             0.091013                0.063240  \n",
              "Fuel_Type_Diesel               -0.979648               -0.350467  \n",
              "Fuel_Type_Petrol                1.000000                0.358321  \n",
              "Seller_Type_Individual          0.358321                1.000000  "
            ]
          },
          "metadata": {},
          "execution_count": 18
        }
      ]
    },
    {
      "cell_type": "code",
      "source": [
        "def color_red(cor):\n",
        "    \n",
        "    if cor > 0.70 and cor < 1.0:\n",
        "        color = 'red'\n",
        "    elif cor < -0.70 and cor > -1.0:\n",
        "        color = 'red'\n",
        "    elif cor == 1.0:\n",
        "        color = 'orange'\n",
        "    else:\n",
        "        color = 'black'\n",
        "    return f'color: {color}'\n",
        "df.corr().style.applymap(color_red)"
      ],
      "metadata": {
        "colab": {
          "base_uri": "https://localhost:8080/",
          "height": 332
        },
        "id": "fmZJaddPD5Xq",
        "outputId": "15df41c7-aa7e-4b31-9f24-451b3910b7fe"
      },
      "execution_count": 19,
      "outputs": [
        {
          "output_type": "execute_result",
          "data": {
            "text/html": [
              "<style  type=\"text/css\" >\n",
              "#T_1bba8bc4_78af_11ec_b65d_0242ac1c0002row0_col0,#T_1bba8bc4_78af_11ec_b65d_0242ac1c0002row1_col1,#T_1bba8bc4_78af_11ec_b65d_0242ac1c0002row2_col2,#T_1bba8bc4_78af_11ec_b65d_0242ac1c0002row3_col3,#T_1bba8bc4_78af_11ec_b65d_0242ac1c0002row4_col4,#T_1bba8bc4_78af_11ec_b65d_0242ac1c0002row5_col5,#T_1bba8bc4_78af_11ec_b65d_0242ac1c0002row6_col6,#T_1bba8bc4_78af_11ec_b65d_0242ac1c0002row7_col7,#T_1bba8bc4_78af_11ec_b65d_0242ac1c0002row8_col8{\n",
              "            color:  orange;\n",
              "        }#T_1bba8bc4_78af_11ec_b65d_0242ac1c0002row0_col1,#T_1bba8bc4_78af_11ec_b65d_0242ac1c0002row1_col0,#T_1bba8bc4_78af_11ec_b65d_0242ac1c0002row6_col7,#T_1bba8bc4_78af_11ec_b65d_0242ac1c0002row7_col6{\n",
              "            color:  red;\n",
              "        }#T_1bba8bc4_78af_11ec_b65d_0242ac1c0002row0_col2,#T_1bba8bc4_78af_11ec_b65d_0242ac1c0002row0_col3,#T_1bba8bc4_78af_11ec_b65d_0242ac1c0002row0_col4,#T_1bba8bc4_78af_11ec_b65d_0242ac1c0002row0_col5,#T_1bba8bc4_78af_11ec_b65d_0242ac1c0002row0_col6,#T_1bba8bc4_78af_11ec_b65d_0242ac1c0002row0_col7,#T_1bba8bc4_78af_11ec_b65d_0242ac1c0002row0_col8,#T_1bba8bc4_78af_11ec_b65d_0242ac1c0002row1_col2,#T_1bba8bc4_78af_11ec_b65d_0242ac1c0002row1_col3,#T_1bba8bc4_78af_11ec_b65d_0242ac1c0002row1_col4,#T_1bba8bc4_78af_11ec_b65d_0242ac1c0002row1_col5,#T_1bba8bc4_78af_11ec_b65d_0242ac1c0002row1_col6,#T_1bba8bc4_78af_11ec_b65d_0242ac1c0002row1_col7,#T_1bba8bc4_78af_11ec_b65d_0242ac1c0002row1_col8,#T_1bba8bc4_78af_11ec_b65d_0242ac1c0002row2_col0,#T_1bba8bc4_78af_11ec_b65d_0242ac1c0002row2_col1,#T_1bba8bc4_78af_11ec_b65d_0242ac1c0002row2_col3,#T_1bba8bc4_78af_11ec_b65d_0242ac1c0002row2_col4,#T_1bba8bc4_78af_11ec_b65d_0242ac1c0002row2_col5,#T_1bba8bc4_78af_11ec_b65d_0242ac1c0002row2_col6,#T_1bba8bc4_78af_11ec_b65d_0242ac1c0002row2_col7,#T_1bba8bc4_78af_11ec_b65d_0242ac1c0002row2_col8,#T_1bba8bc4_78af_11ec_b65d_0242ac1c0002row3_col0,#T_1bba8bc4_78af_11ec_b65d_0242ac1c0002row3_col1,#T_1bba8bc4_78af_11ec_b65d_0242ac1c0002row3_col2,#T_1bba8bc4_78af_11ec_b65d_0242ac1c0002row3_col4,#T_1bba8bc4_78af_11ec_b65d_0242ac1c0002row3_col5,#T_1bba8bc4_78af_11ec_b65d_0242ac1c0002row3_col6,#T_1bba8bc4_78af_11ec_b65d_0242ac1c0002row3_col7,#T_1bba8bc4_78af_11ec_b65d_0242ac1c0002row3_col8,#T_1bba8bc4_78af_11ec_b65d_0242ac1c0002row4_col0,#T_1bba8bc4_78af_11ec_b65d_0242ac1c0002row4_col1,#T_1bba8bc4_78af_11ec_b65d_0242ac1c0002row4_col2,#T_1bba8bc4_78af_11ec_b65d_0242ac1c0002row4_col3,#T_1bba8bc4_78af_11ec_b65d_0242ac1c0002row4_col5,#T_1bba8bc4_78af_11ec_b65d_0242ac1c0002row4_col6,#T_1bba8bc4_78af_11ec_b65d_0242ac1c0002row4_col7,#T_1bba8bc4_78af_11ec_b65d_0242ac1c0002row4_col8,#T_1bba8bc4_78af_11ec_b65d_0242ac1c0002row5_col0,#T_1bba8bc4_78af_11ec_b65d_0242ac1c0002row5_col1,#T_1bba8bc4_78af_11ec_b65d_0242ac1c0002row5_col2,#T_1bba8bc4_78af_11ec_b65d_0242ac1c0002row5_col3,#T_1bba8bc4_78af_11ec_b65d_0242ac1c0002row5_col4,#T_1bba8bc4_78af_11ec_b65d_0242ac1c0002row5_col6,#T_1bba8bc4_78af_11ec_b65d_0242ac1c0002row5_col7,#T_1bba8bc4_78af_11ec_b65d_0242ac1c0002row5_col8,#T_1bba8bc4_78af_11ec_b65d_0242ac1c0002row6_col0,#T_1bba8bc4_78af_11ec_b65d_0242ac1c0002row6_col1,#T_1bba8bc4_78af_11ec_b65d_0242ac1c0002row6_col2,#T_1bba8bc4_78af_11ec_b65d_0242ac1c0002row6_col3,#T_1bba8bc4_78af_11ec_b65d_0242ac1c0002row6_col4,#T_1bba8bc4_78af_11ec_b65d_0242ac1c0002row6_col5,#T_1bba8bc4_78af_11ec_b65d_0242ac1c0002row6_col8,#T_1bba8bc4_78af_11ec_b65d_0242ac1c0002row7_col0,#T_1bba8bc4_78af_11ec_b65d_0242ac1c0002row7_col1,#T_1bba8bc4_78af_11ec_b65d_0242ac1c0002row7_col2,#T_1bba8bc4_78af_11ec_b65d_0242ac1c0002row7_col3,#T_1bba8bc4_78af_11ec_b65d_0242ac1c0002row7_col4,#T_1bba8bc4_78af_11ec_b65d_0242ac1c0002row7_col5,#T_1bba8bc4_78af_11ec_b65d_0242ac1c0002row7_col8,#T_1bba8bc4_78af_11ec_b65d_0242ac1c0002row8_col0,#T_1bba8bc4_78af_11ec_b65d_0242ac1c0002row8_col1,#T_1bba8bc4_78af_11ec_b65d_0242ac1c0002row8_col2,#T_1bba8bc4_78af_11ec_b65d_0242ac1c0002row8_col3,#T_1bba8bc4_78af_11ec_b65d_0242ac1c0002row8_col4,#T_1bba8bc4_78af_11ec_b65d_0242ac1c0002row8_col5,#T_1bba8bc4_78af_11ec_b65d_0242ac1c0002row8_col6,#T_1bba8bc4_78af_11ec_b65d_0242ac1c0002row8_col7{\n",
              "            color:  black;\n",
              "        }</style><table id=\"T_1bba8bc4_78af_11ec_b65d_0242ac1c0002\" class=\"dataframe\"><thead>    <tr>        <th class=\"blank level0\" ></th>        <th class=\"col_heading level0 col0\" >Selling_Price</th>        <th class=\"col_heading level0 col1\" >Present_Price</th>        <th class=\"col_heading level0 col2\" >Kms_Driven</th>        <th class=\"col_heading level0 col3\" >Owner</th>        <th class=\"col_heading level0 col4\" >Age</th>        <th class=\"col_heading level0 col5\" >Transmission_Manual</th>        <th class=\"col_heading level0 col6\" >Fuel_Type_Diesel</th>        <th class=\"col_heading level0 col7\" >Fuel_Type_Petrol</th>        <th class=\"col_heading level0 col8\" >Seller_Type_Individual</th>    </tr></thead><tbody>\n",
              "                <tr>\n",
              "                        <th id=\"T_1bba8bc4_78af_11ec_b65d_0242ac1c0002level0_row0\" class=\"row_heading level0 row0\" >Selling_Price</th>\n",
              "                        <td id=\"T_1bba8bc4_78af_11ec_b65d_0242ac1c0002row0_col0\" class=\"data row0 col0\" >1.000000</td>\n",
              "                        <td id=\"T_1bba8bc4_78af_11ec_b65d_0242ac1c0002row0_col1\" class=\"data row0 col1\" >0.878983</td>\n",
              "                        <td id=\"T_1bba8bc4_78af_11ec_b65d_0242ac1c0002row0_col2\" class=\"data row0 col2\" >0.029187</td>\n",
              "                        <td id=\"T_1bba8bc4_78af_11ec_b65d_0242ac1c0002row0_col3\" class=\"data row0 col3\" >-0.088344</td>\n",
              "                        <td id=\"T_1bba8bc4_78af_11ec_b65d_0242ac1c0002row0_col4\" class=\"data row0 col4\" >-0.236141</td>\n",
              "                        <td id=\"T_1bba8bc4_78af_11ec_b65d_0242ac1c0002row0_col5\" class=\"data row0 col5\" >-0.367128</td>\n",
              "                        <td id=\"T_1bba8bc4_78af_11ec_b65d_0242ac1c0002row0_col6\" class=\"data row0 col6\" >0.552339</td>\n",
              "                        <td id=\"T_1bba8bc4_78af_11ec_b65d_0242ac1c0002row0_col7\" class=\"data row0 col7\" >-0.540571</td>\n",
              "                        <td id=\"T_1bba8bc4_78af_11ec_b65d_0242ac1c0002row0_col8\" class=\"data row0 col8\" >-0.550724</td>\n",
              "            </tr>\n",
              "            <tr>\n",
              "                        <th id=\"T_1bba8bc4_78af_11ec_b65d_0242ac1c0002level0_row1\" class=\"row_heading level0 row1\" >Present_Price</th>\n",
              "                        <td id=\"T_1bba8bc4_78af_11ec_b65d_0242ac1c0002row1_col0\" class=\"data row1 col0\" >0.878983</td>\n",
              "                        <td id=\"T_1bba8bc4_78af_11ec_b65d_0242ac1c0002row1_col1\" class=\"data row1 col1\" >1.000000</td>\n",
              "                        <td id=\"T_1bba8bc4_78af_11ec_b65d_0242ac1c0002row1_col2\" class=\"data row1 col2\" >0.203647</td>\n",
              "                        <td id=\"T_1bba8bc4_78af_11ec_b65d_0242ac1c0002row1_col3\" class=\"data row1 col3\" >0.008057</td>\n",
              "                        <td id=\"T_1bba8bc4_78af_11ec_b65d_0242ac1c0002row1_col4\" class=\"data row1 col4\" >0.047584</td>\n",
              "                        <td id=\"T_1bba8bc4_78af_11ec_b65d_0242ac1c0002row1_col5\" class=\"data row1 col5\" >-0.348715</td>\n",
              "                        <td id=\"T_1bba8bc4_78af_11ec_b65d_0242ac1c0002row1_col6\" class=\"data row1 col6\" >0.473306</td>\n",
              "                        <td id=\"T_1bba8bc4_78af_11ec_b65d_0242ac1c0002row1_col7\" class=\"data row1 col7\" >-0.465244</td>\n",
              "                        <td id=\"T_1bba8bc4_78af_11ec_b65d_0242ac1c0002row1_col8\" class=\"data row1 col8\" >-0.512030</td>\n",
              "            </tr>\n",
              "            <tr>\n",
              "                        <th id=\"T_1bba8bc4_78af_11ec_b65d_0242ac1c0002level0_row2\" class=\"row_heading level0 row2\" >Kms_Driven</th>\n",
              "                        <td id=\"T_1bba8bc4_78af_11ec_b65d_0242ac1c0002row2_col0\" class=\"data row2 col0\" >0.029187</td>\n",
              "                        <td id=\"T_1bba8bc4_78af_11ec_b65d_0242ac1c0002row2_col1\" class=\"data row2 col1\" >0.203647</td>\n",
              "                        <td id=\"T_1bba8bc4_78af_11ec_b65d_0242ac1c0002row2_col2\" class=\"data row2 col2\" >1.000000</td>\n",
              "                        <td id=\"T_1bba8bc4_78af_11ec_b65d_0242ac1c0002row2_col3\" class=\"data row2 col3\" >0.089216</td>\n",
              "                        <td id=\"T_1bba8bc4_78af_11ec_b65d_0242ac1c0002row2_col4\" class=\"data row2 col4\" >0.524342</td>\n",
              "                        <td id=\"T_1bba8bc4_78af_11ec_b65d_0242ac1c0002row2_col5\" class=\"data row2 col5\" >-0.162510</td>\n",
              "                        <td id=\"T_1bba8bc4_78af_11ec_b65d_0242ac1c0002row2_col6\" class=\"data row2 col6\" >0.172515</td>\n",
              "                        <td id=\"T_1bba8bc4_78af_11ec_b65d_0242ac1c0002row2_col7\" class=\"data row2 col7\" >-0.172874</td>\n",
              "                        <td id=\"T_1bba8bc4_78af_11ec_b65d_0242ac1c0002row2_col8\" class=\"data row2 col8\" >-0.101419</td>\n",
              "            </tr>\n",
              "            <tr>\n",
              "                        <th id=\"T_1bba8bc4_78af_11ec_b65d_0242ac1c0002level0_row3\" class=\"row_heading level0 row3\" >Owner</th>\n",
              "                        <td id=\"T_1bba8bc4_78af_11ec_b65d_0242ac1c0002row3_col0\" class=\"data row3 col0\" >-0.088344</td>\n",
              "                        <td id=\"T_1bba8bc4_78af_11ec_b65d_0242ac1c0002row3_col1\" class=\"data row3 col1\" >0.008057</td>\n",
              "                        <td id=\"T_1bba8bc4_78af_11ec_b65d_0242ac1c0002row3_col2\" class=\"data row3 col2\" >0.089216</td>\n",
              "                        <td id=\"T_1bba8bc4_78af_11ec_b65d_0242ac1c0002row3_col3\" class=\"data row3 col3\" >1.000000</td>\n",
              "                        <td id=\"T_1bba8bc4_78af_11ec_b65d_0242ac1c0002row3_col4\" class=\"data row3 col4\" >0.182104</td>\n",
              "                        <td id=\"T_1bba8bc4_78af_11ec_b65d_0242ac1c0002row3_col5\" class=\"data row3 col5\" >-0.050316</td>\n",
              "                        <td id=\"T_1bba8bc4_78af_11ec_b65d_0242ac1c0002row3_col6\" class=\"data row3 col6\" >-0.053469</td>\n",
              "                        <td id=\"T_1bba8bc4_78af_11ec_b65d_0242ac1c0002row3_col7\" class=\"data row3 col7\" >0.055687</td>\n",
              "                        <td id=\"T_1bba8bc4_78af_11ec_b65d_0242ac1c0002row3_col8\" class=\"data row3 col8\" >0.124269</td>\n",
              "            </tr>\n",
              "            <tr>\n",
              "                        <th id=\"T_1bba8bc4_78af_11ec_b65d_0242ac1c0002level0_row4\" class=\"row_heading level0 row4\" >Age</th>\n",
              "                        <td id=\"T_1bba8bc4_78af_11ec_b65d_0242ac1c0002row4_col0\" class=\"data row4 col0\" >-0.236141</td>\n",
              "                        <td id=\"T_1bba8bc4_78af_11ec_b65d_0242ac1c0002row4_col1\" class=\"data row4 col1\" >0.047584</td>\n",
              "                        <td id=\"T_1bba8bc4_78af_11ec_b65d_0242ac1c0002row4_col2\" class=\"data row4 col2\" >0.524342</td>\n",
              "                        <td id=\"T_1bba8bc4_78af_11ec_b65d_0242ac1c0002row4_col3\" class=\"data row4 col3\" >0.182104</td>\n",
              "                        <td id=\"T_1bba8bc4_78af_11ec_b65d_0242ac1c0002row4_col4\" class=\"data row4 col4\" >1.000000</td>\n",
              "                        <td id=\"T_1bba8bc4_78af_11ec_b65d_0242ac1c0002row4_col5\" class=\"data row4 col5\" >-0.000394</td>\n",
              "                        <td id=\"T_1bba8bc4_78af_11ec_b65d_0242ac1c0002row4_col6\" class=\"data row4 col6\" >-0.064315</td>\n",
              "                        <td id=\"T_1bba8bc4_78af_11ec_b65d_0242ac1c0002row4_col7\" class=\"data row4 col7\" >0.059959</td>\n",
              "                        <td id=\"T_1bba8bc4_78af_11ec_b65d_0242ac1c0002row4_col8\" class=\"data row4 col8\" >0.039896</td>\n",
              "            </tr>\n",
              "            <tr>\n",
              "                        <th id=\"T_1bba8bc4_78af_11ec_b65d_0242ac1c0002level0_row5\" class=\"row_heading level0 row5\" >Transmission_Manual</th>\n",
              "                        <td id=\"T_1bba8bc4_78af_11ec_b65d_0242ac1c0002row5_col0\" class=\"data row5 col0\" >-0.367128</td>\n",
              "                        <td id=\"T_1bba8bc4_78af_11ec_b65d_0242ac1c0002row5_col1\" class=\"data row5 col1\" >-0.348715</td>\n",
              "                        <td id=\"T_1bba8bc4_78af_11ec_b65d_0242ac1c0002row5_col2\" class=\"data row5 col2\" >-0.162510</td>\n",
              "                        <td id=\"T_1bba8bc4_78af_11ec_b65d_0242ac1c0002row5_col3\" class=\"data row5 col3\" >-0.050316</td>\n",
              "                        <td id=\"T_1bba8bc4_78af_11ec_b65d_0242ac1c0002row5_col4\" class=\"data row5 col4\" >-0.000394</td>\n",
              "                        <td id=\"T_1bba8bc4_78af_11ec_b65d_0242ac1c0002row5_col5\" class=\"data row5 col5\" >1.000000</td>\n",
              "                        <td id=\"T_1bba8bc4_78af_11ec_b65d_0242ac1c0002row5_col6\" class=\"data row5 col6\" >-0.098643</td>\n",
              "                        <td id=\"T_1bba8bc4_78af_11ec_b65d_0242ac1c0002row5_col7\" class=\"data row5 col7\" >0.091013</td>\n",
              "                        <td id=\"T_1bba8bc4_78af_11ec_b65d_0242ac1c0002row5_col8\" class=\"data row5 col8\" >0.063240</td>\n",
              "            </tr>\n",
              "            <tr>\n",
              "                        <th id=\"T_1bba8bc4_78af_11ec_b65d_0242ac1c0002level0_row6\" class=\"row_heading level0 row6\" >Fuel_Type_Diesel</th>\n",
              "                        <td id=\"T_1bba8bc4_78af_11ec_b65d_0242ac1c0002row6_col0\" class=\"data row6 col0\" >0.552339</td>\n",
              "                        <td id=\"T_1bba8bc4_78af_11ec_b65d_0242ac1c0002row6_col1\" class=\"data row6 col1\" >0.473306</td>\n",
              "                        <td id=\"T_1bba8bc4_78af_11ec_b65d_0242ac1c0002row6_col2\" class=\"data row6 col2\" >0.172515</td>\n",
              "                        <td id=\"T_1bba8bc4_78af_11ec_b65d_0242ac1c0002row6_col3\" class=\"data row6 col3\" >-0.053469</td>\n",
              "                        <td id=\"T_1bba8bc4_78af_11ec_b65d_0242ac1c0002row6_col4\" class=\"data row6 col4\" >-0.064315</td>\n",
              "                        <td id=\"T_1bba8bc4_78af_11ec_b65d_0242ac1c0002row6_col5\" class=\"data row6 col5\" >-0.098643</td>\n",
              "                        <td id=\"T_1bba8bc4_78af_11ec_b65d_0242ac1c0002row6_col6\" class=\"data row6 col6\" >1.000000</td>\n",
              "                        <td id=\"T_1bba8bc4_78af_11ec_b65d_0242ac1c0002row6_col7\" class=\"data row6 col7\" >-0.979648</td>\n",
              "                        <td id=\"T_1bba8bc4_78af_11ec_b65d_0242ac1c0002row6_col8\" class=\"data row6 col8\" >-0.350467</td>\n",
              "            </tr>\n",
              "            <tr>\n",
              "                        <th id=\"T_1bba8bc4_78af_11ec_b65d_0242ac1c0002level0_row7\" class=\"row_heading level0 row7\" >Fuel_Type_Petrol</th>\n",
              "                        <td id=\"T_1bba8bc4_78af_11ec_b65d_0242ac1c0002row7_col0\" class=\"data row7 col0\" >-0.540571</td>\n",
              "                        <td id=\"T_1bba8bc4_78af_11ec_b65d_0242ac1c0002row7_col1\" class=\"data row7 col1\" >-0.465244</td>\n",
              "                        <td id=\"T_1bba8bc4_78af_11ec_b65d_0242ac1c0002row7_col2\" class=\"data row7 col2\" >-0.172874</td>\n",
              "                        <td id=\"T_1bba8bc4_78af_11ec_b65d_0242ac1c0002row7_col3\" class=\"data row7 col3\" >0.055687</td>\n",
              "                        <td id=\"T_1bba8bc4_78af_11ec_b65d_0242ac1c0002row7_col4\" class=\"data row7 col4\" >0.059959</td>\n",
              "                        <td id=\"T_1bba8bc4_78af_11ec_b65d_0242ac1c0002row7_col5\" class=\"data row7 col5\" >0.091013</td>\n",
              "                        <td id=\"T_1bba8bc4_78af_11ec_b65d_0242ac1c0002row7_col6\" class=\"data row7 col6\" >-0.979648</td>\n",
              "                        <td id=\"T_1bba8bc4_78af_11ec_b65d_0242ac1c0002row7_col7\" class=\"data row7 col7\" >1.000000</td>\n",
              "                        <td id=\"T_1bba8bc4_78af_11ec_b65d_0242ac1c0002row7_col8\" class=\"data row7 col8\" >0.358321</td>\n",
              "            </tr>\n",
              "            <tr>\n",
              "                        <th id=\"T_1bba8bc4_78af_11ec_b65d_0242ac1c0002level0_row8\" class=\"row_heading level0 row8\" >Seller_Type_Individual</th>\n",
              "                        <td id=\"T_1bba8bc4_78af_11ec_b65d_0242ac1c0002row8_col0\" class=\"data row8 col0\" >-0.550724</td>\n",
              "                        <td id=\"T_1bba8bc4_78af_11ec_b65d_0242ac1c0002row8_col1\" class=\"data row8 col1\" >-0.512030</td>\n",
              "                        <td id=\"T_1bba8bc4_78af_11ec_b65d_0242ac1c0002row8_col2\" class=\"data row8 col2\" >-0.101419</td>\n",
              "                        <td id=\"T_1bba8bc4_78af_11ec_b65d_0242ac1c0002row8_col3\" class=\"data row8 col3\" >0.124269</td>\n",
              "                        <td id=\"T_1bba8bc4_78af_11ec_b65d_0242ac1c0002row8_col4\" class=\"data row8 col4\" >0.039896</td>\n",
              "                        <td id=\"T_1bba8bc4_78af_11ec_b65d_0242ac1c0002row8_col5\" class=\"data row8 col5\" >0.063240</td>\n",
              "                        <td id=\"T_1bba8bc4_78af_11ec_b65d_0242ac1c0002row8_col6\" class=\"data row8 col6\" >-0.350467</td>\n",
              "                        <td id=\"T_1bba8bc4_78af_11ec_b65d_0242ac1c0002row8_col7\" class=\"data row8 col7\" >0.358321</td>\n",
              "                        <td id=\"T_1bba8bc4_78af_11ec_b65d_0242ac1c0002row8_col8\" class=\"data row8 col8\" >1.000000</td>\n",
              "            </tr>\n",
              "    </tbody></table>"
            ],
            "text/plain": [
              "<pandas.io.formats.style.Styler at 0x7f6d97cfce50>"
            ]
          },
          "metadata": {},
          "execution_count": 19
        }
      ]
    },
    {
      "cell_type": "code",
      "source": [
        "sns.heatmap(df.corr(), annot = True)"
      ],
      "metadata": {
        "colab": {
          "base_uri": "https://localhost:8080/",
          "height": 495
        },
        "id": "5p1MLqWuEd4r",
        "outputId": "47b383de-e425-49d5-85bb-ae8630f7cd1f"
      },
      "execution_count": 21,
      "outputs": [
        {
          "output_type": "execute_result",
          "data": {
            "text/plain": [
              "<matplotlib.axes._subplots.AxesSubplot at 0x7f6d92d9b150>"
            ]
          },
          "metadata": {},
          "execution_count": 21
        },
        {
          "output_type": "display_data",
          "data": {
            "image/png": "[encoded data removed]",
            "text/plain": [
              "<Figure size 720x432 with 2 Axes>"
            ]
          },
          "metadata": {
            "needs_background": "light"
          }
        }
      ]
    },
    {
      "cell_type": "code",
      "source": [
        "X = df.drop(columns =\"Selling_Price\")\n",
        "y = df[\"Selling_Price\"]"
      ],
      "metadata": {
        "id": "eyGzADaHEip9"
      },
      "execution_count": 22,
      "outputs": []
    },
    {
      "cell_type": "markdown",
      "metadata": {
        "id": "IxhZbAYsbV9L"
      },
      "source": [
        "### Splitting data into training and testing"
      ]
    },
    {
      "cell_type": "code",
      "metadata": {
        "id": "aS1EZ-6bbV9N"
      },
      "source": [
        "from sklearn.model_selection import train_test_split"
      ],
      "execution_count": 23,
      "outputs": []
    },
    {
      "cell_type": "code",
      "source": [
        "X_train, X_test, y_train, y_test = train_test_split(X, y, test_size = 0.25, random_state =42)"
      ],
      "metadata": {
        "id": "O3Jto8MOE7bO"
      },
      "execution_count": 25,
      "outputs": []
    },
    {
      "cell_type": "code",
      "source": [
        "print(\"Train features shape : \", X_train.shape)\n",
        "print(\"Train target shape   : \", y_train.shape)\n",
        "print(\"Test features shape  : \", X_test.shape)\n",
        "print(\"Test target shape    : \", y_test.shape)"
      ],
      "metadata": {
        "colab": {
          "base_uri": "https://localhost:8080/"
        },
        "id": "_dPZ2-B7FDiE",
        "outputId": "aa08f2b3-9f94-4a50-b7cd-c14352ff54c1"
      },
      "execution_count": 26,
      "outputs": [
        {
          "output_type": "stream",
          "name": "stdout",
          "text": [
            "Train features shape :  (225, 8)\n",
            "Train target shape   :  (225,)\n",
            "Test features shape  :  (76, 8)\n",
            "Test target shape    :  (76,)\n"
          ]
        }
      ]
    },
    {
      "cell_type": "markdown",
      "metadata": {
        "id": "KMJ-3iGxbV9O"
      },
      "source": [
        "##  Model Building (Linear Regression)"
      ]
    },
    {
      "cell_type": "code",
      "source": [
        "from sklearn.preprocessing import StandardScaler, MinMaxScaler, RobustScaler\n",
        "\n",
        "scaler = MinMaxScaler()"
      ],
      "metadata": {
        "id": "HuN6mOvFXVWT"
      },
      "execution_count": 28,
      "outputs": []
    },
    {
      "cell_type": "code",
      "source": [
        "scaler.fit(X_train)"
      ],
      "metadata": {
        "colab": {
          "base_uri": "https://localhost:8080/"
        },
        "id": "1cSd09HzXg7Q",
        "outputId": "577ab840-2049-4dc2-9398-4d2cf3112106"
      },
      "execution_count": 29,
      "outputs": [
        {
          "output_type": "execute_result",
          "data": {
            "text/plain": [
              "MinMaxScaler()"
            ]
          },
          "metadata": {},
          "execution_count": 29
        }
      ]
    },
    {
      "cell_type": "code",
      "source": [
        "X_train_scaled = scaler.transform(X_train)  \n",
        "X_train_scaled"
      ],
      "metadata": {
        "colab": {
          "base_uri": "https://localhost:8080/"
        },
        "id": "6D_bJ7VaXhwc",
        "outputId": "1d56d606-5327-4008-cad4-917a49d190d5"
      },
      "execution_count": 30,
      "outputs": [
        {
          "output_type": "execute_result",
          "data": {
            "text/plain": [
              "array([[0.00563502, 0.00900901, 0.        , ..., 0.        , 1.        ,\n",
              "        1.        ],\n",
              "       [0.15680537, 0.02482482, 0.        , ..., 0.        , 1.        ,\n",
              "        0.        ],\n",
              "       [0.        , 0.06906907, 0.        , ..., 0.        , 1.        ,\n",
              "        1.        ],\n",
              "       ...,\n",
              "       [0.03391851, 0.03203203, 0.33333333, ..., 0.        , 1.        ,\n",
              "        1.        ],\n",
              "       [0.10489814, 0.13781982, 0.        , ..., 0.        , 1.        ,\n",
              "        0.        ],\n",
              "       [0.01582141, 0.00700701, 0.        , ..., 0.        , 1.        ,\n",
              "        1.        ]])"
            ]
          },
          "metadata": {},
          "execution_count": 30
        }
      ]
    },
    {
      "cell_type": "code",
      "source": [
        "X_test_scaled = scaler.transform(X_test)\n",
        "X_test_scaled"
      ],
      "metadata": {
        "colab": {
          "base_uri": "https://localhost:8080/"
        },
        "id": "POzbnHwjXoBp",
        "outputId": "3b3bf9cf-ec8a-450f-9351-41fe9f506e57"
      },
      "execution_count": 32,
      "outputs": [
        {
          "output_type": "execute_result",
          "data": {
            "text/plain": [
              "array([[ 0.00270915,  0.04704705,  0.        ,  0.07142857,  0.        ,\n",
              "         0.        ,  1.        ,  1.        ],\n",
              "       [ 0.14390984,  0.02098098,  0.        ,  0.07142857,  1.        ,\n",
              "         0.        ,  1.        ,  0.        ],\n",
              "       [ 0.09839619,  0.11911912,  0.        ,  0.35714286,  1.        ,\n",
              "         1.        ,  0.        ,  0.        ],\n",
              "       [ 0.00270915,  0.06906907,  0.33333333,  0.42857143,  1.        ,\n",
              "         0.        ,  1.        ,  1.        ],\n",
              "       [ 0.19820113,  0.07908108,  0.        ,  0.28571429,  1.        ,\n",
              "         0.        ,  1.        ,  0.        ],\n",
              "       [ 0.09319463,  0.08381782,  0.        ,  0.14285714,  1.        ,\n",
              "         1.        ,  0.        ,  0.        ],\n",
              "       [ 0.01246207,  0.05105105,  0.        ,  0.14285714,  1.        ,\n",
              "         0.        ,  1.        ,  1.        ],\n",
              "       [ 0.00606849,  0.01501502,  0.        ,  0.21428571,  1.        ,\n",
              "         0.        ,  1.        ,  1.        ],\n",
              "       [ 0.00238405,  0.02702703,  0.        ,  0.07142857,  1.        ,\n",
              "         0.        ,  1.        ,  1.        ],\n",
              "       [ 0.10435631,  0.08908909,  0.        ,  0.21428571,  1.        ,\n",
              "         1.        ,  0.        ,  0.        ],\n",
              "       [ 0.10305592,  0.00314515,  0.        , -0.07142857,  1.        ,\n",
              "         1.        ,  0.        ,  0.        ],\n",
              "       [ 0.01246207,  0.06506507,  0.        ,  0.28571429,  1.        ,\n",
              "         0.        ,  1.        ,  1.        ],\n",
              "       [ 0.12700477,  0.02902903,  0.        ,  0.21428571,  0.        ,\n",
              "         0.        ,  1.        ,  0.        ],\n",
              "       [ 0.00205895,  0.0016016 ,  0.        ,  0.        ,  0.        ,\n",
              "         0.        ,  1.        ,  1.        ],\n",
              "       [ 0.09839619,  0.08908909,  0.        ,  0.28571429,  1.        ,\n",
              "         1.        ,  0.        ,  0.        ],\n",
              "       [ 0.04952319,  0.12819219,  0.        ,  0.28571429,  1.        ,\n",
              "         0.        ,  1.        ,  0.        ],\n",
              "       [ 0.01549632,  0.02202202,  0.        ,  0.35714286,  1.        ,\n",
              "         0.        ,  1.        ,  1.        ],\n",
              "       [ 0.19852622,  0.01641642,  0.        ,  0.        ,  1.        ,\n",
              "         0.        ,  1.        ,  0.        ],\n",
              "       [ 0.00238405,  0.01621622,  0.        ,  0.        ,  1.        ,\n",
              "         0.        ,  1.        ,  1.        ],\n",
              "       [ 0.01625488,  0.0018018 ,  0.        ,  0.        ,  1.        ,\n",
              "         0.        ,  1.        ,  1.        ],\n",
              "       [ 0.004443  ,  0.02302302,  0.        ,  0.28571429,  1.        ,\n",
              "         0.        ,  1.        ,  1.        ],\n",
              "       [ 0.09839619,  0.03790591,  0.        ,  0.07142857,  1.        ,\n",
              "         1.        ,  0.        ,  0.        ],\n",
              "       [ 0.09839619,  0.06370771,  0.        ,  0.35714286,  1.        ,\n",
              "         1.        ,  0.        ,  0.        ],\n",
              "       [ 0.05060685,  0.03903904,  0.        ,  0.42857143,  1.        ,\n",
              "         0.        ,  1.        ,  0.        ],\n",
              "       [ 0.00726051,  0.04904905,  0.        ,  0.21428571,  1.        ,\n",
              "         0.        ,  1.        ,  1.        ],\n",
              "       [ 0.0701127 ,  0.06906907,  0.        ,  0.35714286,  1.        ,\n",
              "         0.        ,  1.        ,  0.        ],\n",
              "       [ 0.10381448,  0.11251451,  0.        ,  0.28571429,  1.        ,\n",
              "         0.        ,  1.        ,  0.        ],\n",
              "       [ 0.05840919,  0.08508509,  0.        ,  0.42857143,  1.        ,\n",
              "         0.        ,  1.        ,  0.        ],\n",
              "       [ 0.01246207,  0.02102102,  0.        ,  0.        ,  1.        ,\n",
              "         0.        ,  1.        ,  1.        ],\n",
              "       [ 0.01278717,  0.03503504,  0.        ,  0.07142857,  1.        ,\n",
              "         0.        ,  1.        ,  1.        ],\n",
              "       [ 0.00506068,  0.03103103,  0.        ,  0.28571429,  1.        ,\n",
              "         0.        ,  1.        ,  1.        ],\n",
              "       [ 0.14824447,  0.12512513,  0.        ,  0.21428571,  1.        ,\n",
              "         1.        ,  0.        ,  0.        ],\n",
              "       [ 0.00682705,  0.05305305,  0.        ,  0.5       ,  1.        ,\n",
              "         0.        ,  1.        ,  1.        ],\n",
              "       [ 0.07401387,  0.11511512,  0.        ,  0.64285714,  1.        ,\n",
              "         0.        ,  1.        ,  0.        ],\n",
              "       [ 0.11345904,  0.08508509,  0.        ,  0.07142857,  1.        ,\n",
              "         1.        ,  0.        ,  0.        ],\n",
              "       [ 0.07238838,  0.06906907,  0.        ,  0.21428571,  1.        ,\n",
              "         0.        ,  1.        ,  0.        ],\n",
              "       [ 0.15561335,  0.14314314,  0.        ,  0.28571429,  1.        ,\n",
              "         0.        ,  1.        ,  0.        ],\n",
              "       [ 0.19820113,  0.12312312,  0.        ,  0.57142857,  1.        ,\n",
              "         0.        ,  1.        ,  0.        ],\n",
              "       [ 0.04432163,  0.11287087,  0.        ,  0.28571429,  1.        ,\n",
              "         0.        ,  1.        ,  0.        ],\n",
              "       [ 0.19744257,  0.0990991 ,  0.        ,  0.5       ,  1.        ,\n",
              "         0.        ,  1.        ,  0.        ],\n",
              "       [ 0.1449935 ,  0.14914915,  0.        ,  0.85714286,  1.        ,\n",
              "         0.        ,  1.        ,  0.        ],\n",
              "       [ 0.13036411,  0.26957758,  0.        ,  0.92857143,  0.        ,\n",
              "         0.        ,  1.        ,  0.        ],\n",
              "       [ 0.06588643,  0.03703704,  0.        ,  0.21428571,  1.        ,\n",
              "         0.        ,  1.        ,  0.        ],\n",
              "       [ 0.00530993,  0.08308308,  0.        ,  0.21428571,  1.        ,\n",
              "         0.        ,  1.        ,  1.        ],\n",
              "       [ 0.08983528,  0.06592392,  0.        ,  0.14285714,  1.        ,\n",
              "         1.        ,  0.        ,  0.        ],\n",
              "       [ 0.00953619,  0.06306306,  0.        ,  0.28571429,  1.        ,\n",
              "         0.        ,  1.        ,  1.        ],\n",
              "       [ 0.14390984,  0.07933133,  0.        ,  0.21428571,  1.        ,\n",
              "         0.        ,  1.        ,  0.        ],\n",
              "       [ 0.24393151,  0.15915916,  0.        ,  0.5       ,  0.        ,\n",
              "         0.        ,  1.        ,  0.        ],\n",
              "       [ 0.04638058,  0.05905906,  0.        ,  0.28571429,  1.        ,\n",
              "         0.        ,  1.        ,  0.        ],\n",
              "       [ 0.0701127 ,  0.10336737,  0.        ,  0.35714286,  1.        ,\n",
              "         1.        ,  0.        ,  0.        ],\n",
              "       [ 0.09839619,  0.07146747,  0.        ,  0.28571429,  0.        ,\n",
              "         0.        ,  1.        ,  0.        ],\n",
              "       [ 0.01246207,  0.00720721,  0.        ,  0.        ,  1.        ,\n",
              "         0.        ,  1.        ,  1.        ],\n",
              "       [ 0.38621586,  0.09309309,  0.        ,  0.14285714,  0.        ,\n",
              "         1.        ,  0.        ,  0.        ],\n",
              "       [ 0.27167317,  0.02902903,  0.        ,  0.        ,  0.        ,\n",
              "         1.        ,  0.        ,  0.        ],\n",
              "       [ 0.09839619,  0.12188388,  0.        ,  0.14285714,  1.        ,\n",
              "         1.        ,  0.        ,  0.        ],\n",
              "       [ 0.14390984,  0.06056657,  0.        ,  0.07142857,  0.        ,\n",
              "         0.        ,  1.        ,  0.        ],\n",
              "       [ 0.05830082,  0.00799199,  0.        ,  0.14285714,  1.        ,\n",
              "         0.        ,  1.        ,  0.        ],\n",
              "       [ 0.12223667,  0.06704304,  0.        ,  0.07142857,  1.        ,\n",
              "         1.        ,  0.        ,  0.        ],\n",
              "       [ 0.07889033,  0.10001201,  0.        ,  0.78571429,  1.        ,\n",
              "         0.        ,  1.        ,  0.        ],\n",
              "       [ 0.08864326,  0.02914715,  0.        ,  0.07142857,  0.        ,\n",
              "         0.        ,  1.        ,  0.        ],\n",
              "       [ 0.00281751,  0.05905906,  0.        ,  0.28571429,  1.        ,\n",
              "         0.        ,  1.        ,  1.        ],\n",
              "       [ 0.00465973,  0.05105105,  0.33333333,  0.64285714,  1.        ,\n",
              "         0.        ,  1.        ,  1.        ],\n",
              "       [ 0.00682705,  0.00600601,  0.        ,  0.        ,  1.        ,\n",
              "         0.        ,  1.        ,  1.        ],\n",
              "       [ 0.00506068,  0.0990991 ,  0.        ,  0.64285714,  1.        ,\n",
              "         0.        ,  1.        ,  1.        ],\n",
              "       [ 0.07022107,  0.07107107,  0.        ,  0.14285714,  1.        ,\n",
              "         0.        ,  1.        ,  0.        ],\n",
              "       [ 0.01278717,  0.01641642,  0.        ,  0.07142857,  1.        ,\n",
              "         0.        ,  1.        ,  1.        ],\n",
              "       [ 0.38621586,  0.08108108,  0.        ,  0.21428571,  0.        ,\n",
              "         1.        ,  0.        ,  0.        ],\n",
              "       [ 0.32824014,  0.07907908,  0.        ,  0.14285714,  0.        ,\n",
              "         1.        ,  0.        ,  0.        ],\n",
              "       [ 0.08452536,  0.03662863,  0.        ,  0.14285714,  1.        ,\n",
              "         0.        ,  1.        ,  0.        ],\n",
              "       [ 0.00506068,  0.14914915,  0.        ,  0.42857143,  1.        ,\n",
              "         0.        ,  1.        ,  1.        ],\n",
              "       [ 0.06133507,  0.10197998,  0.        ,  0.35714286,  1.        ,\n",
              "         1.        ,  0.        ,  0.        ],\n",
              "       [ 0.08333333,  0.0990991 ,  0.        ,  0.42857143,  0.        ,\n",
              "         0.        ,  1.        ,  0.        ],\n",
              "       [ 0.08214131,  0.05619419,  0.        ,  0.07142857,  1.        ,\n",
              "         0.        ,  1.        ,  0.        ],\n",
              "       [ 0.07531426,  0.08014815,  0.        ,  0.14285714,  1.        ,\n",
              "         0.        ,  1.        ,  0.        ],\n",
              "       [ 0.04453836,  0.04646446,  0.        ,  0.35714286,  1.        ,\n",
              "         0.        ,  1.        ,  0.        ],\n",
              "       [ 0.01170351,  0.06906907,  0.        ,  0.07142857,  1.        ,\n",
              "         0.        ,  1.        ,  1.        ]])"
            ]
          },
          "metadata": {},
          "execution_count": 32
        }
      ]
    },
    {
      "cell_type": "code",
      "metadata": {
        "id": "VEOdF27LbV9P"
      },
      "source": [
        "from sklearn.linear_model import LinearRegression"
      ],
      "execution_count": 33,
      "outputs": []
    },
    {
      "cell_type": "code",
      "source": [
        "lm = LinearRegression()\n",
        "lm"
      ],
      "metadata": {
        "colab": {
          "base_uri": "https://localhost:8080/"
        },
        "id": "80xSjOLSYLwr",
        "outputId": "7eba0a65-5e03-4736-c6d9-1e013ae82e1a"
      },
      "execution_count": 35,
      "outputs": [
        {
          "output_type": "execute_result",
          "data": {
            "text/plain": [
              "LinearRegression()"
            ]
          },
          "metadata": {},
          "execution_count": 35
        }
      ]
    },
    {
      "cell_type": "code",
      "source": [
        "lm.fit(X_train_scaled, y_train)"
      ],
      "metadata": {
        "colab": {
          "base_uri": "https://localhost:8080/"
        },
        "id": "vHAqxq4OYRTk",
        "outputId": "f57745a4-4d07-486f-bfd8-fff9ee994cfd"
      },
      "execution_count": 36,
      "outputs": [
        {
          "output_type": "execute_result",
          "data": {
            "text/plain": [
              "LinearRegression()"
            ]
          },
          "metadata": {},
          "execution_count": 36
        }
      ]
    },
    {
      "cell_type": "code",
      "source": [
        "y_pred = lm.predict(X_test_scaled)\n",
        "y_train_pred = lm.predict(X_train_scaled)"
      ],
      "metadata": {
        "id": "Wxt5HCTEYa6x"
      },
      "execution_count": 37,
      "outputs": []
    },
    {
      "cell_type": "code",
      "source": [
        "from sklearn.metrics import mean_absolute_error, mean_squared_error, r2_score\n",
        "\n",
        "def train_val(y_train, y_train_pred, y_test, y_pred, i):\n",
        "    \n",
        "    scores = {i+\"_train\": {\"R2\" : r2_score(y_train, y_train_pred),\n",
        "    \"mae\" : mean_absolute_error(y_train, y_train_pred),\n",
        "    \"mse\" : mean_squared_error(y_train, y_train_pred),                          \n",
        "    \"rmse\" : np.sqrt(mean_squared_error(y_train, y_train_pred))},\n",
        "    \n",
        "    i+\"_test\": {\"R2\" : r2_score(y_test, y_pred),\n",
        "    \"mae\" : mean_absolute_error(y_test, y_pred),\n",
        "    \"mse\" : mean_squared_error(y_test, y_pred),\n",
        "    \"rmse\" : np.sqrt(mean_squared_error(y_test, y_pred))}}\n",
        "    \n",
        "    return pd.DataFrame(scores)"
      ],
      "metadata": {
        "id": "GdUPgkv2YrJE"
      },
      "execution_count": 38,
      "outputs": []
    },
    {
      "cell_type": "code",
      "source": [
        "ls =train_val(y_train, y_train_pred, y_test, y_pred, \"linear\")\n",
        "ls"
      ],
      "metadata": {
        "colab": {
          "base_uri": "https://localhost:8080/",
          "height": 174
        },
        "id": "IB55EDdUZBNg",
        "outputId": "299d1f5f-5f64-4b91-aebf-b8044479d0d1"
      },
      "execution_count": 39,
      "outputs": [
        {
          "output_type": "execute_result",
          "data": {
            "text/html": [
              "\n",
              "  <div id=\"df-804e3498-6571-4f67-b441-97f4822f54a2\">\n",
              "    <div class=\"colab-df-container\">\n",
              "      <div>\n",
              "<style scoped>\n",
              "    .dataframe tbody tr th:only-of-type {\n",
              "        vertical-align: middle;\n",
              "    }\n",
              "\n",
              "    .dataframe tbody tr th {\n",
              "        vertical-align: top;\n",
              "    }\n",
              "\n",
              "    .dataframe thead th {\n",
              "        text-align: right;\n",
              "    }\n",
              "</style>\n",
              "<table border=\"1\" class=\"dataframe\">\n",
              "  <thead>\n",
              "    <tr style=\"text-align: right;\">\n",
              "      <th></th>\n",
              "      <th>linear_train</th>\n",
              "      <th>linear_test</th>\n",
              "    </tr>\n",
              "  </thead>\n",
              "  <tbody>\n",
              "    <tr>\n",
              "      <th>R2</th>\n",
              "      <td>0.882940</td>\n",
              "      <td>0.877028</td>\n",
              "    </tr>\n",
              "    <tr>\n",
              "      <th>mae</th>\n",
              "      <td>1.163276</td>\n",
              "      <td>1.228325</td>\n",
              "    </tr>\n",
              "    <tr>\n",
              "      <th>mse</th>\n",
              "      <td>2.944704</td>\n",
              "      <td>3.378565</td>\n",
              "    </tr>\n",
              "    <tr>\n",
              "      <th>rmse</th>\n",
              "      <td>1.716014</td>\n",
              "      <td>1.838087</td>\n",
              "    </tr>\n",
              "  </tbody>\n",
              "</table>\n",
              "</div>\n",
              "      <button class=\"colab-df-convert\" onclick=\"convertToInteractive('df-804e3498-6571-4f67-b441-97f4822f54a2')\"\n",
              "              title=\"Convert this dataframe to an interactive table.\"\n",
              "              style=\"display:none;\">\n",
              "        \n",
              "  <svg xmlns=\"http://www.w3.org/2000/svg\" height=\"24px\"viewBox=\"0 0 24 24\"\n",
              "       width=\"24px\">\n",
              "    <path d=\"M0 0h24v24H0V0z\" fill=\"none\"/>\n",
              "    <path d=\"M18.56 5.44l.94 2.06.94-2.06 2.06-.94-2.06-.94-.94-2.06-.94 2.06-2.06.94zm-11 1L8.5 8.5l.94-2.06 2.06-.94-2.06-.94L8.5 2.5l-.94 2.06-2.06.94zm10 10l.94 2.06.94-2.06 2.06-.94-2.06-.94-.94-2.06-.94 2.06-2.06.94z\"/><path d=\"M17.41 7.96l-1.37-1.37c-.4-.4-.92-.59-1.43-.59-.52 0-1.04.2-1.43.59L10.3 9.45l-7.72 7.72c-.78.78-.78 2.05 0 2.83L4 21.41c.39.39.9.59 1.41.59.51 0 1.02-.2 1.41-.59l7.78-7.78 2.81-2.81c.8-.78.8-2.07 0-2.86zM5.41 20L4 18.59l7.72-7.72 1.47 1.35L5.41 20z\"/>\n",
              "  </svg>\n",
              "      </button>\n",
              "      \n",
              "  <style>\n",
              "    .colab-df-container {\n",
              "      display:flex;\n",
              "      flex-wrap:wrap;\n",
              "      gap: 12px;\n",
              "    }\n",
              "\n",
              "    .colab-df-convert {\n",
              "      background-color: #E8F0FE;\n",
              "      border: none;\n",
              "      border-radius: 50%;\n",
              "      cursor: pointer;\n",
              "      display: none;\n",
              "      fill: #1967D2;\n",
              "      height: 32px;\n",
              "      padding: 0 0 0 0;\n",
              "      width: 32px;\n",
              "    }\n",
              "\n",
              "    .colab-df-convert:hover {\n",
              "      background-color: #E2EBFA;\n",
              "      box-shadow: 0px 1px 2px rgba(60, 64, 67, 0.3), 0px 1px 3px 1px rgba(60, 64, 67, 0.15);\n",
              "      fill: #174EA6;\n",
              "    }\n",
              "\n",
              "    [theme=dark] .colab-df-convert {\n",
              "      background-color: #3B4455;\n",
              "      fill: #D2E3FC;\n",
              "    }\n",
              "\n",
              "    [theme=dark] .colab-df-convert:hover {\n",
              "      background-color: #434B5C;\n",
              "      box-shadow: 0px 1px 3px 1px rgba(0, 0, 0, 0.15);\n",
              "      filter: drop-shadow(0px 1px 2px rgba(0, 0, 0, 0.3));\n",
              "      fill: #FFFFFF;\n",
              "    }\n",
              "  </style>\n",
              "\n",
              "      <script>\n",
              "        const buttonEl =\n",
              "          document.querySelector('#df-804e3498-6571-4f67-b441-97f4822f54a2 button.colab-df-convert');\n",
              "        buttonEl.style.display =\n",
              "          google.colab.kernel.accessAllowed ? 'block' : 'none';\n",
              "\n",
              "        async function convertToInteractive(key) {\n",
              "          const element = document.querySelector('#df-804e3498-6571-4f67-b441-97f4822f54a2');\n",
              "          const dataTable =\n",
              "            await google.colab.kernel.invokeFunction('convertToInteractive',\n",
              "                                                     [key], {});\n",
              "          if (!dataTable) return;\n",
              "\n",
              "          const docLinkHtml = 'Like what you see? Visit the ' +\n",
              "            '<a target=\"_blank\" href=https://colab.research.google.com/notebooks/data_table.ipynb>data table notebook</a>'\n",
              "            + ' to learn more about interactive tables.';\n",
              "          element.innerHTML = '';\n",
              "          dataTable['output_type'] = 'display_data';\n",
              "          await google.colab.output.renderOutput(dataTable, element);\n",
              "          const docLink = document.createElement('div');\n",
              "          docLink.innerHTML = docLinkHtml;\n",
              "          element.appendChild(docLink);\n",
              "        }\n",
              "      </script>\n",
              "    </div>\n",
              "  </div>\n",
              "  "
            ],
            "text/plain": [
              "      linear_train  linear_test\n",
              "R2        0.882940     0.877028\n",
              "mae       1.163276     1.228325\n",
              "mse       2.944704     3.378565\n",
              "rmse      1.716014     1.838087"
            ]
          },
          "metadata": {},
          "execution_count": 39
        }
      ]
    },
    {
      "cell_type": "code",
      "source": [
        "lm.coef_"
      ],
      "metadata": {
        "colab": {
          "base_uri": "https://localhost:8080/"
        },
        "id": "iE5-k5adMwVL",
        "outputId": "e3d9b9e9-9cad-4b10-8885-3e36669fc8f1"
      },
      "execution_count": 41,
      "outputs": [
        {
          "output_type": "execute_result",
          "data": {
            "text/plain": [
              "array([39.12793117, -2.70720041, -3.03404944, -5.13433014, -1.55569004,\n",
              "        2.52959125,  0.76931214, -1.2626059 ])"
            ]
          },
          "metadata": {},
          "execution_count": 41
        }
      ]
    },
    {
      "cell_type": "code",
      "source": [
        "my_dict = {\"Actual\": y_test, \"Pred\": y_pred, \"Residual\":y_test-y_pred}\n",
        "comparing = pd.DataFrame(my_dict)\n",
        "comparing"
      ],
      "metadata": {
        "colab": {
          "base_uri": "https://localhost:8080/",
          "height": 423
        },
        "id": "PuNuKKn-NduV",
        "outputId": "f944100a-8dc4-47e0-aa69-3f9beccbc7c2"
      },
      "execution_count": 42,
      "outputs": [
        {
          "output_type": "execute_result",
          "data": {
            "text/html": [
              "\n",
              "  <div id=\"df-73e00cdc-672c-4820-ab0b-528a0e2b07b9\">\n",
              "    <div class=\"colab-df-container\">\n",
              "      <div>\n",
              "<style scoped>\n",
              "    .dataframe tbody tr th:only-of-type {\n",
              "        vertical-align: middle;\n",
              "    }\n",
              "\n",
              "    .dataframe tbody tr th {\n",
              "        vertical-align: top;\n",
              "    }\n",
              "\n",
              "    .dataframe thead th {\n",
              "        text-align: right;\n",
              "    }\n",
              "</style>\n",
              "<table border=\"1\" class=\"dataframe\">\n",
              "  <thead>\n",
              "    <tr style=\"text-align: right;\">\n",
              "      <th></th>\n",
              "      <th>Actual</th>\n",
              "      <th>Pred</th>\n",
              "      <th>Residual</th>\n",
              "    </tr>\n",
              "  </thead>\n",
              "  <tbody>\n",
              "    <tr>\n",
              "      <th>177</th>\n",
              "      <td>0.35</td>\n",
              "      <td>2.885869</td>\n",
              "      <td>-2.535869</td>\n",
              "    </tr>\n",
              "    <tr>\n",
              "      <th>289</th>\n",
              "      <td>10.11</td>\n",
              "      <td>8.188242</td>\n",
              "      <td>1.921758</td>\n",
              "    </tr>\n",
              "    <tr>\n",
              "      <th>228</th>\n",
              "      <td>4.95</td>\n",
              "      <td>6.435035</td>\n",
              "      <td>-1.485035</td>\n",
              "    </tr>\n",
              "    <tr>\n",
              "      <th>198</th>\n",
              "      <td>0.15</td>\n",
              "      <td>-1.574478</td>\n",
              "      <td>1.724478</td>\n",
              "    </tr>\n",
              "    <tr>\n",
              "      <th>60</th>\n",
              "      <td>6.95</td>\n",
              "      <td>9.055046</td>\n",
              "      <td>-2.105046</td>\n",
              "    </tr>\n",
              "    <tr>\n",
              "      <th>...</th>\n",
              "      <td>...</td>\n",
              "      <td>...</td>\n",
              "      <td>...</td>\n",
              "    </tr>\n",
              "    <tr>\n",
              "      <th>22</th>\n",
              "      <td>4.40</td>\n",
              "      <td>5.328528</td>\n",
              "      <td>-0.928528</td>\n",
              "    </tr>\n",
              "    <tr>\n",
              "      <th>286</th>\n",
              "      <td>5.65</td>\n",
              "      <td>5.676038</td>\n",
              "      <td>-0.026038</td>\n",
              "    </tr>\n",
              "    <tr>\n",
              "      <th>56</th>\n",
              "      <td>4.50</td>\n",
              "      <td>4.977324</td>\n",
              "      <td>-0.477324</td>\n",
              "    </tr>\n",
              "    <tr>\n",
              "      <th>239</th>\n",
              "      <td>2.00</td>\n",
              "      <td>2.764102</td>\n",
              "      <td>-0.764102</td>\n",
              "    </tr>\n",
              "    <tr>\n",
              "      <th>113</th>\n",
              "      <td>1.15</td>\n",
              "      <td>1.622492</td>\n",
              "      <td>-0.472492</td>\n",
              "    </tr>\n",
              "  </tbody>\n",
              "</table>\n",
              "<p>76 rows × 3 columns</p>\n",
              "</div>\n",
              "      <button class=\"colab-df-convert\" onclick=\"convertToInteractive('df-73e00cdc-672c-4820-ab0b-528a0e2b07b9')\"\n",
              "              title=\"Convert this dataframe to an interactive table.\"\n",
              "              style=\"display:none;\">\n",
              "        \n",
              "  <svg xmlns=\"http://www.w3.org/2000/svg\" height=\"24px\"viewBox=\"0 0 24 24\"\n",
              "       width=\"24px\">\n",
              "    <path d=\"M0 0h24v24H0V0z\" fill=\"none\"/>\n",
              "    <path d=\"M18.56 5.44l.94 2.06.94-2.06 2.06-.94-2.06-.94-.94-2.06-.94 2.06-2.06.94zm-11 1L8.5 8.5l.94-2.06 2.06-.94-2.06-.94L8.5 2.5l-.94 2.06-2.06.94zm10 10l.94 2.06.94-2.06 2.06-.94-2.06-.94-.94-2.06-.94 2.06-2.06.94z\"/><path d=\"M17.41 7.96l-1.37-1.37c-.4-.4-.92-.59-1.43-.59-.52 0-1.04.2-1.43.59L10.3 9.45l-7.72 7.72c-.78.78-.78 2.05 0 2.83L4 21.41c.39.39.9.59 1.41.59.51 0 1.02-.2 1.41-.59l7.78-7.78 2.81-2.81c.8-.78.8-2.07 0-2.86zM5.41 20L4 18.59l7.72-7.72 1.47 1.35L5.41 20z\"/>\n",
              "  </svg>\n",
              "      </button>\n",
              "      \n",
              "  <style>\n",
              "    .colab-df-container {\n",
              "      display:flex;\n",
              "      flex-wrap:wrap;\n",
              "      gap: 12px;\n",
              "    }\n",
              "\n",
              "    .colab-df-convert {\n",
              "      background-color: #E8F0FE;\n",
              "      border: none;\n",
              "      border-radius: 50%;\n",
              "      cursor: pointer;\n",
              "      display: none;\n",
              "      fill: #1967D2;\n",
              "      height: 32px;\n",
              "      padding: 0 0 0 0;\n",
              "      width: 32px;\n",
              "    }\n",
              "\n",
              "    .colab-df-convert:hover {\n",
              "      background-color: #E2EBFA;\n",
              "      box-shadow: 0px 1px 2px rgba(60, 64, 67, 0.3), 0px 1px 3px 1px rgba(60, 64, 67, 0.15);\n",
              "      fill: #174EA6;\n",
              "    }\n",
              "\n",
              "    [theme=dark] .colab-df-convert {\n",
              "      background-color: #3B4455;\n",
              "      fill: #D2E3FC;\n",
              "    }\n",
              "\n",
              "    [theme=dark] .colab-df-convert:hover {\n",
              "      background-color: #434B5C;\n",
              "      box-shadow: 0px 1px 3px 1px rgba(0, 0, 0, 0.15);\n",
              "      filter: drop-shadow(0px 1px 2px rgba(0, 0, 0, 0.3));\n",
              "      fill: #FFFFFF;\n",
              "    }\n",
              "  </style>\n",
              "\n",
              "      <script>\n",
              "        const buttonEl =\n",
              "          document.querySelector('#df-73e00cdc-672c-4820-ab0b-528a0e2b07b9 button.colab-df-convert');\n",
              "        buttonEl.style.display =\n",
              "          google.colab.kernel.accessAllowed ? 'block' : 'none';\n",
              "\n",
              "        async function convertToInteractive(key) {\n",
              "          const element = document.querySelector('#df-73e00cdc-672c-4820-ab0b-528a0e2b07b9');\n",
              "          const dataTable =\n",
              "            await google.colab.kernel.invokeFunction('convertToInteractive',\n",
              "                                                     [key], {});\n",
              "          if (!dataTable) return;\n",
              "\n",
              "          const docLinkHtml = 'Like what you see? Visit the ' +\n",
              "            '<a target=\"_blank\" href=https://colab.research.google.com/notebooks/data_table.ipynb>data table notebook</a>'\n",
              "            + ' to learn more about interactive tables.';\n",
              "          element.innerHTML = '';\n",
              "          dataTable['output_type'] = 'display_data';\n",
              "          await google.colab.output.renderOutput(dataTable, element);\n",
              "          const docLink = document.createElement('div');\n",
              "          docLink.innerHTML = docLinkHtml;\n",
              "          element.appendChild(docLink);\n",
              "        }\n",
              "      </script>\n",
              "    </div>\n",
              "  </div>\n",
              "  "
            ],
            "text/plain": [
              "     Actual      Pred  Residual\n",
              "177    0.35  2.885869 -2.535869\n",
              "289   10.11  8.188242  1.921758\n",
              "228    4.95  6.435035 -1.485035\n",
              "198    0.15 -1.574478  1.724478\n",
              "60     6.95  9.055046 -2.105046\n",
              "..      ...       ...       ...\n",
              "22     4.40  5.328528 -0.928528\n",
              "286    5.65  5.676038 -0.026038\n",
              "56     4.50  4.977324 -0.477324\n",
              "239    2.00  2.764102 -0.764102\n",
              "113    1.15  1.622492 -0.472492\n",
              "\n",
              "[76 rows x 3 columns]"
            ]
          },
          "metadata": {},
          "execution_count": 42
        }
      ]
    },
    {
      "cell_type": "markdown",
      "source": [
        "#Model Evaluation"
      ],
      "metadata": {
        "id": "oYnWSqSnsVQQ"
      }
    },
    {
      "cell_type": "code",
      "source": [
        "result_sample = comparing.sample(25)\n",
        "result_sample"
      ],
      "metadata": {
        "colab": {
          "base_uri": "https://localhost:8080/",
          "height": 833
        },
        "id": "0rOI1QBQOFjn",
        "outputId": "2a3e2bc2-636f-4c15-ba54-68ea3faf49c0"
      },
      "execution_count": 43,
      "outputs": [
        {
          "output_type": "execute_result",
          "data": {
            "text/html": [
              "\n",
              "  <div id=\"df-875e2b31-3264-40f9-b57d-e1862d576736\">\n",
              "    <div class=\"colab-df-container\">\n",
              "      <div>\n",
              "<style scoped>\n",
              "    .dataframe tbody tr th:only-of-type {\n",
              "        vertical-align: middle;\n",
              "    }\n",
              "\n",
              "    .dataframe tbody tr th {\n",
              "        vertical-align: top;\n",
              "    }\n",
              "\n",
              "    .dataframe thead th {\n",
              "        text-align: right;\n",
              "    }\n",
              "</style>\n",
              "<table border=\"1\" class=\"dataframe\">\n",
              "  <thead>\n",
              "    <tr style=\"text-align: right;\">\n",
              "      <th></th>\n",
              "      <th>Actual</th>\n",
              "      <th>Pred</th>\n",
              "      <th>Residual</th>\n",
              "    </tr>\n",
              "  </thead>\n",
              "  <tbody>\n",
              "    <tr>\n",
              "      <th>25</th>\n",
              "      <td>3.00</td>\n",
              "      <td>2.654913</td>\n",
              "      <td>0.345087</td>\n",
              "    </tr>\n",
              "    <tr>\n",
              "      <th>173</th>\n",
              "      <td>0.40</td>\n",
              "      <td>3.350196</td>\n",
              "      <td>-2.950196</td>\n",
              "    </tr>\n",
              "    <tr>\n",
              "      <th>42</th>\n",
              "      <td>1.95</td>\n",
              "      <td>2.264615</td>\n",
              "      <td>-0.314615</td>\n",
              "    </tr>\n",
              "    <tr>\n",
              "      <th>78</th>\n",
              "      <td>5.25</td>\n",
              "      <td>11.083070</td>\n",
              "      <td>-5.833070</td>\n",
              "    </tr>\n",
              "    <tr>\n",
              "      <th>140</th>\n",
              "      <td>0.60</td>\n",
              "      <td>0.453735</td>\n",
              "      <td>0.146265</td>\n",
              "    </tr>\n",
              "    <tr>\n",
              "      <th>167</th>\n",
              "      <td>0.42</td>\n",
              "      <td>0.600910</td>\n",
              "      <td>-0.180910</td>\n",
              "    </tr>\n",
              "    <tr>\n",
              "      <th>289</th>\n",
              "      <td>10.11</td>\n",
              "      <td>8.188242</td>\n",
              "      <td>1.921758</td>\n",
              "    </tr>\n",
              "    <tr>\n",
              "      <th>267</th>\n",
              "      <td>8.35</td>\n",
              "      <td>8.121847</td>\n",
              "      <td>0.228153</td>\n",
              "    </tr>\n",
              "    <tr>\n",
              "      <th>248</th>\n",
              "      <td>4.00</td>\n",
              "      <td>3.168826</td>\n",
              "      <td>0.831174</td>\n",
              "    </tr>\n",
              "    <tr>\n",
              "      <th>7</th>\n",
              "      <td>6.50</td>\n",
              "      <td>7.344289</td>\n",
              "      <td>-0.844289</td>\n",
              "    </tr>\n",
              "    <tr>\n",
              "      <th>224</th>\n",
              "      <td>5.11</td>\n",
              "      <td>6.726187</td>\n",
              "      <td>-1.616187</td>\n",
              "    </tr>\n",
              "    <tr>\n",
              "      <th>229</th>\n",
              "      <td>3.10</td>\n",
              "      <td>5.371004</td>\n",
              "      <td>-2.271004</td>\n",
              "    </tr>\n",
              "    <tr>\n",
              "      <th>56</th>\n",
              "      <td>4.50</td>\n",
              "      <td>4.977324</td>\n",
              "      <td>-0.477324</td>\n",
              "    </tr>\n",
              "    <tr>\n",
              "      <th>73</th>\n",
              "      <td>2.65</td>\n",
              "      <td>2.835547</td>\n",
              "      <td>-0.185547</td>\n",
              "    </tr>\n",
              "    <tr>\n",
              "      <th>240</th>\n",
              "      <td>5.35</td>\n",
              "      <td>6.585045</td>\n",
              "      <td>-1.235045</td>\n",
              "    </tr>\n",
              "    <tr>\n",
              "      <th>266</th>\n",
              "      <td>3.65</td>\n",
              "      <td>4.526096</td>\n",
              "      <td>-0.876096</td>\n",
              "    </tr>\n",
              "    <tr>\n",
              "      <th>168</th>\n",
              "      <td>0.42</td>\n",
              "      <td>0.362846</td>\n",
              "      <td>0.057154</td>\n",
              "    </tr>\n",
              "    <tr>\n",
              "      <th>24</th>\n",
              "      <td>2.90</td>\n",
              "      <td>2.942584</td>\n",
              "      <td>-0.042584</td>\n",
              "    </tr>\n",
              "    <tr>\n",
              "      <th>279</th>\n",
              "      <td>6.25</td>\n",
              "      <td>7.296801</td>\n",
              "      <td>-1.046801</td>\n",
              "    </tr>\n",
              "    <tr>\n",
              "      <th>17</th>\n",
              "      <td>7.75</td>\n",
              "      <td>8.583502</td>\n",
              "      <td>-0.833502</td>\n",
              "    </tr>\n",
              "    <tr>\n",
              "      <th>118</th>\n",
              "      <td>1.10</td>\n",
              "      <td>1.334214</td>\n",
              "      <td>-0.234214</td>\n",
              "    </tr>\n",
              "    <tr>\n",
              "      <th>275</th>\n",
              "      <td>10.90</td>\n",
              "      <td>9.636766</td>\n",
              "      <td>1.263234</td>\n",
              "    </tr>\n",
              "    <tr>\n",
              "      <th>158</th>\n",
              "      <td>0.48</td>\n",
              "      <td>1.767662</td>\n",
              "      <td>-1.287662</td>\n",
              "    </tr>\n",
              "    <tr>\n",
              "      <th>285</th>\n",
              "      <td>7.40</td>\n",
              "      <td>7.559358</td>\n",
              "      <td>-0.159358</td>\n",
              "    </tr>\n",
              "    <tr>\n",
              "      <th>184</th>\n",
              "      <td>0.25</td>\n",
              "      <td>-2.549591</td>\n",
              "      <td>2.799591</td>\n",
              "    </tr>\n",
              "  </tbody>\n",
              "</table>\n",
              "</div>\n",
              "      <button class=\"colab-df-convert\" onclick=\"convertToInteractive('df-875e2b31-3264-40f9-b57d-e1862d576736')\"\n",
              "              title=\"Convert this dataframe to an interactive table.\"\n",
              "              style=\"display:none;\">\n",
              "        \n",
              "  <svg xmlns=\"http://www.w3.org/2000/svg\" height=\"24px\"viewBox=\"0 0 24 24\"\n",
              "       width=\"24px\">\n",
              "    <path d=\"M0 0h24v24H0V0z\" fill=\"none\"/>\n",
              "    <path d=\"M18.56 5.44l.94 2.06.94-2.06 2.06-.94-2.06-.94-.94-2.06-.94 2.06-2.06.94zm-11 1L8.5 8.5l.94-2.06 2.06-.94-2.06-.94L8.5 2.5l-.94 2.06-2.06.94zm10 10l.94 2.06.94-2.06 2.06-.94-2.06-.94-.94-2.06-.94 2.06-2.06.94z\"/><path d=\"M17.41 7.96l-1.37-1.37c-.4-.4-.92-.59-1.43-.59-.52 0-1.04.2-1.43.59L10.3 9.45l-7.72 7.72c-.78.78-.78 2.05 0 2.83L4 21.41c.39.39.9.59 1.41.59.51 0 1.02-.2 1.41-.59l7.78-7.78 2.81-2.81c.8-.78.8-2.07 0-2.86zM5.41 20L4 18.59l7.72-7.72 1.47 1.35L5.41 20z\"/>\n",
              "  </svg>\n",
              "      </button>\n",
              "      \n",
              "  <style>\n",
              "    .colab-df-container {\n",
              "      display:flex;\n",
              "      flex-wrap:wrap;\n",
              "      gap: 12px;\n",
              "    }\n",
              "\n",
              "    .colab-df-convert {\n",
              "      background-color: #E8F0FE;\n",
              "      border: none;\n",
              "      border-radius: 50%;\n",
              "      cursor: pointer;\n",
              "      display: none;\n",
              "      fill: #1967D2;\n",
              "      height: 32px;\n",
              "      padding: 0 0 0 0;\n",
              "      width: 32px;\n",
              "    }\n",
              "\n",
              "    .colab-df-convert:hover {\n",
              "      background-color: #E2EBFA;\n",
              "      box-shadow: 0px 1px 2px rgba(60, 64, 67, 0.3), 0px 1px 3px 1px rgba(60, 64, 67, 0.15);\n",
              "      fill: #174EA6;\n",
              "    }\n",
              "\n",
              "    [theme=dark] .colab-df-convert {\n",
              "      background-color: #3B4455;\n",
              "      fill: #D2E3FC;\n",
              "    }\n",
              "\n",
              "    [theme=dark] .colab-df-convert:hover {\n",
              "      background-color: #434B5C;\n",
              "      box-shadow: 0px 1px 3px 1px rgba(0, 0, 0, 0.15);\n",
              "      filter: drop-shadow(0px 1px 2px rgba(0, 0, 0, 0.3));\n",
              "      fill: #FFFFFF;\n",
              "    }\n",
              "  </style>\n",
              "\n",
              "      <script>\n",
              "        const buttonEl =\n",
              "          document.querySelector('#df-875e2b31-3264-40f9-b57d-e1862d576736 button.colab-df-convert');\n",
              "        buttonEl.style.display =\n",
              "          google.colab.kernel.accessAllowed ? 'block' : 'none';\n",
              "\n",
              "        async function convertToInteractive(key) {\n",
              "          const element = document.querySelector('#df-875e2b31-3264-40f9-b57d-e1862d576736');\n",
              "          const dataTable =\n",
              "            await google.colab.kernel.invokeFunction('convertToInteractive',\n",
              "                                                     [key], {});\n",
              "          if (!dataTable) return;\n",
              "\n",
              "          const docLinkHtml = 'Like what you see? Visit the ' +\n",
              "            '<a target=\"_blank\" href=https://colab.research.google.com/notebooks/data_table.ipynb>data table notebook</a>'\n",
              "            + ' to learn more about interactive tables.';\n",
              "          element.innerHTML = '';\n",
              "          dataTable['output_type'] = 'display_data';\n",
              "          await google.colab.output.renderOutput(dataTable, element);\n",
              "          const docLink = document.createElement('div');\n",
              "          docLink.innerHTML = docLinkHtml;\n",
              "          element.appendChild(docLink);\n",
              "        }\n",
              "      </script>\n",
              "    </div>\n",
              "  </div>\n",
              "  "
            ],
            "text/plain": [
              "     Actual       Pred  Residual\n",
              "25     3.00   2.654913  0.345087\n",
              "173    0.40   3.350196 -2.950196\n",
              "42     1.95   2.264615 -0.314615\n",
              "78     5.25  11.083070 -5.833070\n",
              "140    0.60   0.453735  0.146265\n",
              "167    0.42   0.600910 -0.180910\n",
              "289   10.11   8.188242  1.921758\n",
              "267    8.35   8.121847  0.228153\n",
              "248    4.00   3.168826  0.831174\n",
              "7      6.50   7.344289 -0.844289\n",
              "224    5.11   6.726187 -1.616187\n",
              "229    3.10   5.371004 -2.271004\n",
              "56     4.50   4.977324 -0.477324\n",
              "73     2.65   2.835547 -0.185547\n",
              "240    5.35   6.585045 -1.235045\n",
              "266    3.65   4.526096 -0.876096\n",
              "168    0.42   0.362846  0.057154\n",
              "24     2.90   2.942584 -0.042584\n",
              "279    6.25   7.296801 -1.046801\n",
              "17     7.75   8.583502 -0.833502\n",
              "118    1.10   1.334214 -0.234214\n",
              "275   10.90   9.636766  1.263234\n",
              "158    0.48   1.767662 -1.287662\n",
              "285    7.40   7.559358 -0.159358\n",
              "184    0.25  -2.549591  2.799591"
            ]
          },
          "metadata": {},
          "execution_count": 43
        }
      ]
    },
    {
      "cell_type": "code",
      "source": [
        "result_sample.plot(kind =\"bar\", figsize=(15,9))\n",
        "plt.show()"
      ],
      "metadata": {
        "colab": {
          "base_uri": "https://localhost:8080/",
          "height": 546
        },
        "id": "wwjaVx9ROIxS",
        "outputId": "586b8189-2bad-4e39-b21e-379d58faa8ef"
      },
      "execution_count": 44,
      "outputs": [
        {
          "output_type": "display_data",
          "data": {
            "image/png": "[encoded data removed]",
            "text/plain": [
              "<Figure size 1080x648 with 1 Axes>"
            ]
          },
          "metadata": {
            "needs_background": "light"
          }
        }
      ]
    },
    {
      "cell_type": "code",
      "source": [
        "residuals = y_test-y_pred"
      ],
      "metadata": {
        "id": "H8vQdJp3PiOc"
      },
      "execution_count": 45,
      "outputs": []
    },
    {
      "cell_type": "code",
      "source": [
        "sns.displot(residuals, kind=\"kde\");"
      ],
      "metadata": {
        "colab": {
          "base_uri": "https://localhost:8080/",
          "height": 369
        },
        "id": "Eusxxb6MOODV",
        "outputId": "64837898-660c-46ef-a0ab-d87e04f00a8a"
      },
      "execution_count": 46,
      "outputs": [
        {
          "output_type": "display_data",
          "data": {
            "image/png": "[encoded data removed]",
            "text/plain": [
              "<Figure size 360x360 with 1 Axes>"
            ]
          },
          "metadata": {
            "needs_background": "light"
          }
        }
      ]
    },
    {
      "cell_type": "code",
      "source": [
        "R2_score = r2_score(y_test, y_pred) \n",
        "R2_score"
      ],
      "metadata": {
        "colab": {
          "base_uri": "https://localhost:8080/"
        },
        "id": "xDdAbsOXOwA4",
        "outputId": "46711cbd-0794-46ba-ea39-c19493cae04c"
      },
      "execution_count": 48,
      "outputs": [
        {
          "output_type": "execute_result",
          "data": {
            "text/plain": [
              "0.8770281948906468"
            ]
          },
          "metadata": {},
          "execution_count": 48
        }
      ]
    },
    {
      "cell_type": "code",
      "source": [
        "def eval_metric(actual, pred):\n",
        "    mae = mean_absolute_error(actual, pred)\n",
        "    mse = mean_squared_error(actual, pred)\n",
        "    rmse = np.sqrt(mean_squared_error(actual, pred))\n",
        "    R2_score = r2_score(actual, pred)\n",
        "    print(\"Model testing performance:\")\n",
        "    print(\"--------------------------\")\n",
        "    print(f\"R2_score \\t: {R2_score}\")\n",
        "    print(f\"MAE \\t\\t: {mae}\")\n",
        "    print(f\"MSE \\t\\t: {mse}\")\n",
        "    print(f\"RMSE \\t\\t: {rmse}\")"
      ],
      "metadata": {
        "id": "8jQtaOjlO2t2"
      },
      "execution_count": 49,
      "outputs": []
    },
    {
      "cell_type": "code",
      "source": [
        "eval_metric(y_test, y_pred)"
      ],
      "metadata": {
        "colab": {
          "base_uri": "https://localhost:8080/"
        },
        "id": "enaPJAXkO6Ik",
        "outputId": "0c7bd970-da63-477c-de9d-39b6f772b478"
      },
      "execution_count": 50,
      "outputs": [
        {
          "output_type": "stream",
          "name": "stdout",
          "text": [
            "Model testing performance:\n",
            "--------------------------\n",
            "R2_score \t: 0.8770281948906468\n",
            "MAE \t\t: 1.2283245143225237\n",
            "MSE \t\t: 3.378564707950658\n",
            "RMSE \t\t: 1.8380872416592902\n"
          ]
        }
      ]
    },
    {
      "cell_type": "code",
      "source": [
        "y_train_pred = lm.predict(X_train_scaled)"
      ],
      "metadata": {
        "id": "pIkfLWVkPDEu"
      },
      "execution_count": 59,
      "outputs": []
    },
    {
      "cell_type": "code",
      "source": [
        "eval_metric(y_train, y_train_pred)"
      ],
      "metadata": {
        "colab": {
          "base_uri": "https://localhost:8080/"
        },
        "id": "U2H0_lt1PFLa",
        "outputId": "a897235a-ca54-4a30-913a-b72d25ace813"
      },
      "execution_count": 60,
      "outputs": [
        {
          "output_type": "stream",
          "name": "stdout",
          "text": [
            "Model testing performance:\n",
            "--------------------------\n",
            "R2_score \t: 0.8829395727043557\n",
            "MAE \t\t: 1.163276211271992\n",
            "MSE \t\t: 2.944703613033394\n",
            "RMSE \t\t: 1.7160138732053987\n"
          ]
        }
      ]
    },
    {
      "cell_type": "code",
      "source": [
        "plt.scatter(y_test, y_pred)\n",
        "plt.xlabel(\"actual\")\n",
        "plt.ylabel(\"predicted\")\n",
        "plt.plot([0,30], [0,30], \"r\")"
      ],
      "metadata": {
        "colab": {
          "base_uri": "https://localhost:8080/",
          "height": 378
        },
        "id": "2TWbCPbQPGk1",
        "outputId": "4975b07a-0ae0-43a1-a23d-9fcbf5d24969"
      },
      "execution_count": 61,
      "outputs": [
        {
          "output_type": "execute_result",
          "data": {
            "text/plain": [
              "[<matplotlib.lines.Line2D at 0x7f6d84e4de50>]"
            ]
          },
          "metadata": {},
          "execution_count": 61
        },
        {
          "output_type": "display_data",
          "data": {
            "image/png": "[encoded data removed]",
            "text/plain": [
              "<Figure size 576x396 with 1 Axes>"
            ]
          },
          "metadata": {}
        }
      ]
    },
    {
      "cell_type": "code",
      "source": [
        "plt.figure(figsize = (10,6))\n",
        "sns.scatterplot(x = y_test, y = residuals) #-residuals\n",
        "plt.axhline(y = 0, color =\"r\", linestyle = \"--\")\n",
        "plt.ylabel(\"residuals\")\n",
        "plt.show()"
      ],
      "metadata": {
        "colab": {
          "base_uri": "https://localhost:8080/",
          "height": 388
        },
        "id": "lT5txUlEPdIb",
        "outputId": "a2f3efc7-2add-4b56-facd-e615d1548706"
      },
      "execution_count": 62,
      "outputs": [
        {
          "output_type": "display_data",
          "data": {
            "image/png": "[encoded data removed]",
            "text/plain": [
              "<Figure size 720x432 with 1 Axes>"
            ]
          },
          "metadata": {}
        }
      ]
    },
    {
      "cell_type": "code",
      "source": [
        "stats.probplot(residuals, dist =\"norm\", plot =plt);"
      ],
      "metadata": {
        "colab": {
          "base_uri": "https://localhost:8080/",
          "height": 376
        },
        "id": "uZY9JIjfPrSG",
        "outputId": "da4328af-f510-4f82-f9ed-fae93e7edd7d"
      },
      "execution_count": 63,
      "outputs": [
        {
          "output_type": "display_data",
          "data": {
            "image/png": "[encoded data removed]",
            "text/plain": [
              "<Figure size 576x396 with 1 Axes>"
            ]
          },
          "metadata": {}
        }
      ]
    },
    {
      "cell_type": "code",
      "source": [
        "from yellowbrick.regressor import ResidualsPlot"
      ],
      "metadata": {
        "id": "V4vTWO64PxEC"
      },
      "execution_count": 64,
      "outputs": []
    },
    {
      "cell_type": "code",
      "source": [
        "lm = LinearRegression()\n",
        "visualizer = ResidualsPlot(lm)\n",
        "\n",
        "visualizer.fit(X_train_scaled, y_train)  # Fit the training data to the visualizer\n",
        "visualizer.score(X_test_scaled, y_test)  # Evaluate the model on the test data\n",
        "visualizer.show();        # Finalize and render the figure"
      ],
      "metadata": {
        "colab": {
          "base_uri": "https://localhost:8080/",
          "height": 376
        },
        "id": "dalh9X53P0Py",
        "outputId": "6798e7d2-3974-4490-a44e-2ad3612e27bf"
      },
      "execution_count": 65,
      "outputs": [
        {
          "output_type": "display_data",
          "data": {
            "image/png": "[encoded data removed]",
            "text/plain": [
              "<Figure size 576x396 with 2 Axes>"
            ]
          },
          "metadata": {}
        }
      ]
    },
    {
      "cell_type": "code",
      "source": [
        "from yellowbrick.regressor import PredictionError\n",
        "# Instantiate the linear model and visualizer\n",
        "lm = LinearRegression()\n",
        "visualizer = PredictionError(lm)\n",
        "\n",
        "visualizer.fit(X_train_scaled, y_train)  # Fit the training data to the visualizer\n",
        "visualizer.score(X_test_scaled, y_test)  # Evaluate the model on the test data\n",
        "visualizer.show();  "
      ],
      "metadata": {
        "colab": {
          "base_uri": "https://localhost:8080/",
          "height": 378
        },
        "id": "RnR71zhgP4e4",
        "outputId": "f0ec1bec-20ce-4974-a285-8c7f539df114"
      },
      "execution_count": 66,
      "outputs": [
        {
          "output_type": "display_data",
          "data": {
            "image/png": "[encoded data removed]",
            "text/plain": [
              "<Figure size 576x396 with 1 Axes>"
            ]
          },
          "metadata": {}
        }
      ]
    },
    {
      "cell_type": "code",
      "source": [
        "from sklearn.model_selection import cross_validate, cross_val_score"
      ],
      "metadata": {
        "id": "Gd3CRnZfdNJN"
      },
      "execution_count": 67,
      "outputs": []
    },
    {
      "cell_type": "code",
      "source": [
        "lm = LinearRegression()\n",
        "scores = cross_validate(lm, X_train_scaled, y_train, scoring = ['r2', 'neg_mean_absolute_error','neg_mean_squared_error', \\\n",
        "                                                            'neg_root_mean_squared_error'], cv = 10)"
      ],
      "metadata": {
        "id": "L-LJjCbodQmC"
      },
      "execution_count": 71,
      "outputs": []
    },
    {
      "cell_type": "code",
      "source": [
        "pd.DataFrame(scores, index = range(1,11))"
      ],
      "metadata": {
        "colab": {
          "base_uri": "https://localhost:8080/",
          "height": 363
        },
        "id": "18ZrVQK2dZZG",
        "outputId": "1e88e2c9-d71f-4350-f458-4a92849e13bc"
      },
      "execution_count": 73,
      "outputs": [
        {
          "output_type": "execute_result",
          "data": {
            "text/html": [
              "\n",
              "  <div id=\"df-1d2a0edc-0459-43a7-9e27-ba86bc93bf4d\">\n",
              "    <div class=\"colab-df-container\">\n",
              "      <div>\n",
              "<style scoped>\n",
              "    .dataframe tbody tr th:only-of-type {\n",
              "        vertical-align: middle;\n",
              "    }\n",
              "\n",
              "    .dataframe tbody tr th {\n",
              "        vertical-align: top;\n",
              "    }\n",
              "\n",
              "    .dataframe thead th {\n",
              "        text-align: right;\n",
              "    }\n",
              "</style>\n",
              "<table border=\"1\" class=\"dataframe\">\n",
              "  <thead>\n",
              "    <tr style=\"text-align: right;\">\n",
              "      <th></th>\n",
              "      <th>fit_time</th>\n",
              "      <th>score_time</th>\n",
              "      <th>test_r2</th>\n",
              "      <th>test_neg_mean_absolute_error</th>\n",
              "      <th>test_neg_mean_squared_error</th>\n",
              "      <th>test_neg_root_mean_squared_error</th>\n",
              "    </tr>\n",
              "  </thead>\n",
              "  <tbody>\n",
              "    <tr>\n",
              "      <th>1</th>\n",
              "      <td>0.001931</td>\n",
              "      <td>0.002235</td>\n",
              "      <td>0.787837</td>\n",
              "      <td>-1.493040</td>\n",
              "      <td>-5.233773</td>\n",
              "      <td>-2.287744</td>\n",
              "    </tr>\n",
              "    <tr>\n",
              "      <th>2</th>\n",
              "      <td>0.002831</td>\n",
              "      <td>0.001969</td>\n",
              "      <td>0.833024</td>\n",
              "      <td>-1.777425</td>\n",
              "      <td>-10.904358</td>\n",
              "      <td>-3.302175</td>\n",
              "    </tr>\n",
              "    <tr>\n",
              "      <th>3</th>\n",
              "      <td>0.001243</td>\n",
              "      <td>0.001211</td>\n",
              "      <td>0.744250</td>\n",
              "      <td>-0.985946</td>\n",
              "      <td>-1.835898</td>\n",
              "      <td>-1.354953</td>\n",
              "    </tr>\n",
              "    <tr>\n",
              "      <th>4</th>\n",
              "      <td>0.000862</td>\n",
              "      <td>0.001154</td>\n",
              "      <td>0.615509</td>\n",
              "      <td>-1.570008</td>\n",
              "      <td>-4.380717</td>\n",
              "      <td>-2.093016</td>\n",
              "    </tr>\n",
              "    <tr>\n",
              "      <th>5</th>\n",
              "      <td>0.000764</td>\n",
              "      <td>0.001162</td>\n",
              "      <td>0.908810</td>\n",
              "      <td>-0.910328</td>\n",
              "      <td>-1.995391</td>\n",
              "      <td>-1.412583</td>\n",
              "    </tr>\n",
              "    <tr>\n",
              "      <th>6</th>\n",
              "      <td>0.000802</td>\n",
              "      <td>0.001142</td>\n",
              "      <td>0.935047</td>\n",
              "      <td>-0.910817</td>\n",
              "      <td>-1.095594</td>\n",
              "      <td>-1.046706</td>\n",
              "    </tr>\n",
              "    <tr>\n",
              "      <th>7</th>\n",
              "      <td>0.000755</td>\n",
              "      <td>0.001167</td>\n",
              "      <td>0.801636</td>\n",
              "      <td>-1.552596</td>\n",
              "      <td>-8.813761</td>\n",
              "      <td>-2.968798</td>\n",
              "    </tr>\n",
              "    <tr>\n",
              "      <th>8</th>\n",
              "      <td>0.000793</td>\n",
              "      <td>0.001143</td>\n",
              "      <td>0.725367</td>\n",
              "      <td>-1.076204</td>\n",
              "      <td>-3.008823</td>\n",
              "      <td>-1.734596</td>\n",
              "    </tr>\n",
              "    <tr>\n",
              "      <th>9</th>\n",
              "      <td>0.000785</td>\n",
              "      <td>0.001193</td>\n",
              "      <td>0.885845</td>\n",
              "      <td>-1.340482</td>\n",
              "      <td>-3.031236</td>\n",
              "      <td>-1.741045</td>\n",
              "    </tr>\n",
              "    <tr>\n",
              "      <th>10</th>\n",
              "      <td>0.000792</td>\n",
              "      <td>0.001137</td>\n",
              "      <td>0.864855</td>\n",
              "      <td>-0.919926</td>\n",
              "      <td>-1.299339</td>\n",
              "      <td>-1.139886</td>\n",
              "    </tr>\n",
              "  </tbody>\n",
              "</table>\n",
              "</div>\n",
              "      <button class=\"colab-df-convert\" onclick=\"convertToInteractive('df-1d2a0edc-0459-43a7-9e27-ba86bc93bf4d')\"\n",
              "              title=\"Convert this dataframe to an interactive table.\"\n",
              "              style=\"display:none;\">\n",
              "        \n",
              "  <svg xmlns=\"http://www.w3.org/2000/svg\" height=\"24px\"viewBox=\"0 0 24 24\"\n",
              "       width=\"24px\">\n",
              "    <path d=\"M0 0h24v24H0V0z\" fill=\"none\"/>\n",
              "    <path d=\"M18.56 5.44l.94 2.06.94-2.06 2.06-.94-2.06-.94-.94-2.06-.94 2.06-2.06.94zm-11 1L8.5 8.5l.94-2.06 2.06-.94-2.06-.94L8.5 2.5l-.94 2.06-2.06.94zm10 10l.94 2.06.94-2.06 2.06-.94-2.06-.94-.94-2.06-.94 2.06-2.06.94z\"/><path d=\"M17.41 7.96l-1.37-1.37c-.4-.4-.92-.59-1.43-.59-.52 0-1.04.2-1.43.59L10.3 9.45l-7.72 7.72c-.78.78-.78 2.05 0 2.83L4 21.41c.39.39.9.59 1.41.59.51 0 1.02-.2 1.41-.59l7.78-7.78 2.81-2.81c.8-.78.8-2.07 0-2.86zM5.41 20L4 18.59l7.72-7.72 1.47 1.35L5.41 20z\"/>\n",
              "  </svg>\n",
              "      </button>\n",
              "      \n",
              "  <style>\n",
              "    .colab-df-container {\n",
              "      display:flex;\n",
              "      flex-wrap:wrap;\n",
              "      gap: 12px;\n",
              "    }\n",
              "\n",
              "    .colab-df-convert {\n",
              "      background-color: #E8F0FE;\n",
              "      border: none;\n",
              "      border-radius: 50%;\n",
              "      cursor: pointer;\n",
              "      display: none;\n",
              "      fill: #1967D2;\n",
              "      height: 32px;\n",
              "      padding: 0 0 0 0;\n",
              "      width: 32px;\n",
              "    }\n",
              "\n",
              "    .colab-df-convert:hover {\n",
              "      background-color: #E2EBFA;\n",
              "      box-shadow: 0px 1px 2px rgba(60, 64, 67, 0.3), 0px 1px 3px 1px rgba(60, 64, 67, 0.15);\n",
              "      fill: #174EA6;\n",
              "    }\n",
              "\n",
              "    [theme=dark] .colab-df-convert {\n",
              "      background-color: #3B4455;\n",
              "      fill: #D2E3FC;\n",
              "    }\n",
              "\n",
              "    [theme=dark] .colab-df-convert:hover {\n",
              "      background-color: #434B5C;\n",
              "      box-shadow: 0px 1px 3px 1px rgba(0, 0, 0, 0.15);\n",
              "      filter: drop-shadow(0px 1px 2px rgba(0, 0, 0, 0.3));\n",
              "      fill: #FFFFFF;\n",
              "    }\n",
              "  </style>\n",
              "\n",
              "      <script>\n",
              "        const buttonEl =\n",
              "          document.querySelector('#df-1d2a0edc-0459-43a7-9e27-ba86bc93bf4d button.colab-df-convert');\n",
              "        buttonEl.style.display =\n",
              "          google.colab.kernel.accessAllowed ? 'block' : 'none';\n",
              "\n",
              "        async function convertToInteractive(key) {\n",
              "          const element = document.querySelector('#df-1d2a0edc-0459-43a7-9e27-ba86bc93bf4d');\n",
              "          const dataTable =\n",
              "            await google.colab.kernel.invokeFunction('convertToInteractive',\n",
              "                                                     [key], {});\n",
              "          if (!dataTable) return;\n",
              "\n",
              "          const docLinkHtml = 'Like what you see? Visit the ' +\n",
              "            '<a target=\"_blank\" href=https://colab.research.google.com/notebooks/data_table.ipynb>data table notebook</a>'\n",
              "            + ' to learn more about interactive tables.';\n",
              "          element.innerHTML = '';\n",
              "          dataTable['output_type'] = 'display_data';\n",
              "          await google.colab.output.renderOutput(dataTable, element);\n",
              "          const docLink = document.createElement('div');\n",
              "          docLink.innerHTML = docLinkHtml;\n",
              "          element.appendChild(docLink);\n",
              "        }\n",
              "      </script>\n",
              "    </div>\n",
              "  </div>\n",
              "  "
            ],
            "text/plain": [
              "    fit_time  score_time   test_r2  test_neg_mean_absolute_error  \\\n",
              "1   0.001931    0.002235  0.787837                     -1.493040   \n",
              "2   0.002831    0.001969  0.833024                     -1.777425   \n",
              "3   0.001243    0.001211  0.744250                     -0.985946   \n",
              "4   0.000862    0.001154  0.615509                     -1.570008   \n",
              "5   0.000764    0.001162  0.908810                     -0.910328   \n",
              "6   0.000802    0.001142  0.935047                     -0.910817   \n",
              "7   0.000755    0.001167  0.801636                     -1.552596   \n",
              "8   0.000793    0.001143  0.725367                     -1.076204   \n",
              "9   0.000785    0.001193  0.885845                     -1.340482   \n",
              "10  0.000792    0.001137  0.864855                     -0.919926   \n",
              "\n",
              "    test_neg_mean_squared_error  test_neg_root_mean_squared_error  \n",
              "1                     -5.233773                         -2.287744  \n",
              "2                    -10.904358                         -3.302175  \n",
              "3                     -1.835898                         -1.354953  \n",
              "4                     -4.380717                         -2.093016  \n",
              "5                     -1.995391                         -1.412583  \n",
              "6                     -1.095594                         -1.046706  \n",
              "7                     -8.813761                         -2.968798  \n",
              "8                     -3.008823                         -1.734596  \n",
              "9                     -3.031236                         -1.741045  \n",
              "10                    -1.299339                         -1.139886  "
            ]
          },
          "metadata": {},
          "execution_count": 73
        }
      ]
    },
    {
      "cell_type": "code",
      "source": [
        "scores = pd.DataFrame(scores, index=range(1,11))\n",
        "scores.iloc[:, 2:].mean()"
      ],
      "metadata": {
        "colab": {
          "base_uri": "https://localhost:8080/"
        },
        "id": "dWeMFY3WdiTj",
        "outputId": "16a35d29-8111-4549-eb4a-dc7045aa6c42"
      },
      "execution_count": 74,
      "outputs": [
        {
          "output_type": "execute_result",
          "data": {
            "text/plain": [
              "test_r2                             0.810218\n",
              "test_neg_mean_absolute_error       -1.253677\n",
              "test_neg_mean_squared_error        -4.159889\n",
              "test_neg_root_mean_squared_error   -1.908150\n",
              "dtype: float64"
            ]
          },
          "metadata": {},
          "execution_count": 74
        }
      ]
    },
    {
      "cell_type": "code",
      "source": [
        "sns.lineplot(data = scores.iloc[:,2:]);"
      ],
      "metadata": {
        "colab": {
          "base_uri": "https://localhost:8080/",
          "height": 347
        },
        "id": "PvxZ3aIKeaCz",
        "outputId": "71f2c241-665b-4903-f72f-69311f3d0635"
      },
      "execution_count": 76,
      "outputs": [
        {
          "output_type": "display_data",
          "data": {
            "image/png": "[encoded data removed]",
            "text/plain": [
              "<Figure size 576x396 with 1 Axes>"
            ]
          },
          "metadata": {}
        }
      ]
    },
    {
      "cell_type": "markdown",
      "metadata": {
        "id": "6T7pkytsbV9Q"
      },
      "source": [
        "# Interpret the model"
      ]
    },
    {
      "cell_type": "markdown",
      "source": [
        "Model looks good fit to the data. There is not overfitting and underfitting issues. However it can be developed by regularization. "
      ],
      "metadata": {
        "id": "ivZPqKMrsiiV"
      }
    },
    {
      "cell_type": "markdown",
      "metadata": {
        "id": "Xf8mmQdSbV9R"
      },
      "source": [
        "# Model Evaluation"
      ]
    },
    {
      "cell_type": "markdown",
      "metadata": {
        "id": "ngfv0b5vbnO6"
      },
      "source": [
        "# Regularization"
      ]
    },
    {
      "cell_type": "markdown",
      "metadata": {
        "id": "PbnRHneJbV9T"
      },
      "source": [
        "# Ridge"
      ]
    },
    {
      "cell_type": "code",
      "source": [
        "from sklearn.linear_model import Ridge"
      ],
      "metadata": {
        "id": "3DxyxFu1Qunr"
      },
      "execution_count": 77,
      "outputs": []
    },
    {
      "cell_type": "code",
      "source": [
        "ridge_model = Ridge(alpha=1, random_state=42)"
      ],
      "metadata": {
        "id": "Tp3dJrciQwqf"
      },
      "execution_count": 78,
      "outputs": []
    },
    {
      "cell_type": "code",
      "source": [
        "ridge_model.fit(X_train_scaled, y_train)"
      ],
      "metadata": {
        "colab": {
          "base_uri": "https://localhost:8080/"
        },
        "id": "t-BEfrlVQ2AD",
        "outputId": "4fe922d0-7b59-45bc-e280-e8a6db7771bc"
      },
      "execution_count": 79,
      "outputs": [
        {
          "output_type": "execute_result",
          "data": {
            "text/plain": [
              "Ridge(alpha=1, random_state=42)"
            ]
          },
          "metadata": {},
          "execution_count": 79
        }
      ]
    },
    {
      "cell_type": "code",
      "source": [
        "y_pred = ridge_model.predict(X_test_scaled)\n",
        "y_train_pred = ridge_model.predict(X_train_scaled)"
      ],
      "metadata": {
        "id": "w39hUdcgQ4VH"
      },
      "execution_count": 80,
      "outputs": []
    },
    {
      "cell_type": "code",
      "source": [
        "rs = train_val(y_train, y_train_pred, y_test, y_pred, \"ridge\") \n",
        "rs"
      ],
      "metadata": {
        "colab": {
          "base_uri": "https://localhost:8080/",
          "height": 174
        },
        "id": "FxJgkAhfQ6u0",
        "outputId": "41e09740-66fd-41af-aa21-585c8927ac46"
      },
      "execution_count": 81,
      "outputs": [
        {
          "output_type": "execute_result",
          "data": {
            "text/html": [
              "\n",
              "  <div id=\"df-2fbd8c3a-c90e-432e-bcaa-13b405deefdd\">\n",
              "    <div class=\"colab-df-container\">\n",
              "      <div>\n",
              "<style scoped>\n",
              "    .dataframe tbody tr th:only-of-type {\n",
              "        vertical-align: middle;\n",
              "    }\n",
              "\n",
              "    .dataframe tbody tr th {\n",
              "        vertical-align: top;\n",
              "    }\n",
              "\n",
              "    .dataframe thead th {\n",
              "        text-align: right;\n",
              "    }\n",
              "</style>\n",
              "<table border=\"1\" class=\"dataframe\">\n",
              "  <thead>\n",
              "    <tr style=\"text-align: right;\">\n",
              "      <th></th>\n",
              "      <th>ridge_train</th>\n",
              "      <th>ridge_test</th>\n",
              "    </tr>\n",
              "  </thead>\n",
              "  <tbody>\n",
              "    <tr>\n",
              "      <th>R2</th>\n",
              "      <td>0.816034</td>\n",
              "      <td>0.812492</td>\n",
              "    </tr>\n",
              "    <tr>\n",
              "      <th>mae</th>\n",
              "      <td>1.409496</td>\n",
              "      <td>1.448459</td>\n",
              "    </tr>\n",
              "    <tr>\n",
              "      <th>mse</th>\n",
              "      <td>4.627747</td>\n",
              "      <td>5.151661</td>\n",
              "    </tr>\n",
              "    <tr>\n",
              "      <th>rmse</th>\n",
              "      <td>2.151220</td>\n",
              "      <td>2.269727</td>\n",
              "    </tr>\n",
              "  </tbody>\n",
              "</table>\n",
              "</div>\n",
              "      <button class=\"colab-df-convert\" onclick=\"convertToInteractive('df-2fbd8c3a-c90e-432e-bcaa-13b405deefdd')\"\n",
              "              title=\"Convert this dataframe to an interactive table.\"\n",
              "              style=\"display:none;\">\n",
              "        \n",
              "  <svg xmlns=\"http://www.w3.org/2000/svg\" height=\"24px\"viewBox=\"0 0 24 24\"\n",
              "       width=\"24px\">\n",
              "    <path d=\"M0 0h24v24H0V0z\" fill=\"none\"/>\n",
              "    <path d=\"M18.56 5.44l.94 2.06.94-2.06 2.06-.94-2.06-.94-.94-2.06-.94 2.06-2.06.94zm-11 1L8.5 8.5l.94-2.06 2.06-.94-2.06-.94L8.5 2.5l-.94 2.06-2.06.94zm10 10l.94 2.06.94-2.06 2.06-.94-2.06-.94-.94-2.06-.94 2.06-2.06.94z\"/><path d=\"M17.41 7.96l-1.37-1.37c-.4-.4-.92-.59-1.43-.59-.52 0-1.04.2-1.43.59L10.3 9.45l-7.72 7.72c-.78.78-.78 2.05 0 2.83L4 21.41c.39.39.9.59 1.41.59.51 0 1.02-.2 1.41-.59l7.78-7.78 2.81-2.81c.8-.78.8-2.07 0-2.86zM5.41 20L4 18.59l7.72-7.72 1.47 1.35L5.41 20z\"/>\n",
              "  </svg>\n",
              "      </button>\n",
              "      \n",
              "  <style>\n",
              "    .colab-df-container {\n",
              "      display:flex;\n",
              "      flex-wrap:wrap;\n",
              "      gap: 12px;\n",
              "    }\n",
              "\n",
              "    .colab-df-convert {\n",
              "      background-color: #E8F0FE;\n",
              "      border: none;\n",
              "      border-radius: 50%;\n",
              "      cursor: pointer;\n",
              "      display: none;\n",
              "      fill: #1967D2;\n",
              "      height: 32px;\n",
              "      padding: 0 0 0 0;\n",
              "      width: 32px;\n",
              "    }\n",
              "\n",
              "    .colab-df-convert:hover {\n",
              "      background-color: #E2EBFA;\n",
              "      box-shadow: 0px 1px 2px rgba(60, 64, 67, 0.3), 0px 1px 3px 1px rgba(60, 64, 67, 0.15);\n",
              "      fill: #174EA6;\n",
              "    }\n",
              "\n",
              "    [theme=dark] .colab-df-convert {\n",
              "      background-color: #3B4455;\n",
              "      fill: #D2E3FC;\n",
              "    }\n",
              "\n",
              "    [theme=dark] .colab-df-convert:hover {\n",
              "      background-color: #434B5C;\n",
              "      box-shadow: 0px 1px 3px 1px rgba(0, 0, 0, 0.15);\n",
              "      filter: drop-shadow(0px 1px 2px rgba(0, 0, 0, 0.3));\n",
              "      fill: #FFFFFF;\n",
              "    }\n",
              "  </style>\n",
              "\n",
              "      <script>\n",
              "        const buttonEl =\n",
              "          document.querySelector('#df-2fbd8c3a-c90e-432e-bcaa-13b405deefdd button.colab-df-convert');\n",
              "        buttonEl.style.display =\n",
              "          google.colab.kernel.accessAllowed ? 'block' : 'none';\n",
              "\n",
              "        async function convertToInteractive(key) {\n",
              "          const element = document.querySelector('#df-2fbd8c3a-c90e-432e-bcaa-13b405deefdd');\n",
              "          const dataTable =\n",
              "            await google.colab.kernel.invokeFunction('convertToInteractive',\n",
              "                                                     [key], {});\n",
              "          if (!dataTable) return;\n",
              "\n",
              "          const docLinkHtml = 'Like what you see? Visit the ' +\n",
              "            '<a target=\"_blank\" href=https://colab.research.google.com/notebooks/data_table.ipynb>data table notebook</a>'\n",
              "            + ' to learn more about interactive tables.';\n",
              "          element.innerHTML = '';\n",
              "          dataTable['output_type'] = 'display_data';\n",
              "          await google.colab.output.renderOutput(dataTable, element);\n",
              "          const docLink = document.createElement('div');\n",
              "          docLink.innerHTML = docLinkHtml;\n",
              "          element.appendChild(docLink);\n",
              "        }\n",
              "      </script>\n",
              "    </div>\n",
              "  </div>\n",
              "  "
            ],
            "text/plain": [
              "      ridge_train  ridge_test\n",
              "R2       0.816034    0.812492\n",
              "mae      1.409496    1.448459\n",
              "mse      4.627747    5.151661\n",
              "rmse     2.151220    2.269727"
            ]
          },
          "metadata": {},
          "execution_count": 81
        }
      ]
    },
    {
      "cell_type": "code",
      "source": [
        "pd.concat([ls, rs], axis=1)"
      ],
      "metadata": {
        "colab": {
          "base_uri": "https://localhost:8080/",
          "height": 174
        },
        "id": "MJm5SJYeQ-Ta",
        "outputId": "4864d925-1ea2-48a0-d72b-d5dbce7e47a4"
      },
      "execution_count": 82,
      "outputs": [
        {
          "output_type": "execute_result",
          "data": {
            "text/html": [
              "\n",
              "  <div id=\"df-ba0cfb52-17a4-47a0-a138-b630da311c1a\">\n",
              "    <div class=\"colab-df-container\">\n",
              "      <div>\n",
              "<style scoped>\n",
              "    .dataframe tbody tr th:only-of-type {\n",
              "        vertical-align: middle;\n",
              "    }\n",
              "\n",
              "    .dataframe tbody tr th {\n",
              "        vertical-align: top;\n",
              "    }\n",
              "\n",
              "    .dataframe thead th {\n",
              "        text-align: right;\n",
              "    }\n",
              "</style>\n",
              "<table border=\"1\" class=\"dataframe\">\n",
              "  <thead>\n",
              "    <tr style=\"text-align: right;\">\n",
              "      <th></th>\n",
              "      <th>linear_train</th>\n",
              "      <th>linear_test</th>\n",
              "      <th>ridge_train</th>\n",
              "      <th>ridge_test</th>\n",
              "    </tr>\n",
              "  </thead>\n",
              "  <tbody>\n",
              "    <tr>\n",
              "      <th>R2</th>\n",
              "      <td>0.882940</td>\n",
              "      <td>0.877028</td>\n",
              "      <td>0.816034</td>\n",
              "      <td>0.812492</td>\n",
              "    </tr>\n",
              "    <tr>\n",
              "      <th>mae</th>\n",
              "      <td>1.163276</td>\n",
              "      <td>1.228325</td>\n",
              "      <td>1.409496</td>\n",
              "      <td>1.448459</td>\n",
              "    </tr>\n",
              "    <tr>\n",
              "      <th>mse</th>\n",
              "      <td>2.944704</td>\n",
              "      <td>3.378565</td>\n",
              "      <td>4.627747</td>\n",
              "      <td>5.151661</td>\n",
              "    </tr>\n",
              "    <tr>\n",
              "      <th>rmse</th>\n",
              "      <td>1.716014</td>\n",
              "      <td>1.838087</td>\n",
              "      <td>2.151220</td>\n",
              "      <td>2.269727</td>\n",
              "    </tr>\n",
              "  </tbody>\n",
              "</table>\n",
              "</div>\n",
              "      <button class=\"colab-df-convert\" onclick=\"convertToInteractive('df-ba0cfb52-17a4-47a0-a138-b630da311c1a')\"\n",
              "              title=\"Convert this dataframe to an interactive table.\"\n",
              "              style=\"display:none;\">\n",
              "        \n",
              "  <svg xmlns=\"http://www.w3.org/2000/svg\" height=\"24px\"viewBox=\"0 0 24 24\"\n",
              "       width=\"24px\">\n",
              "    <path d=\"M0 0h24v24H0V0z\" fill=\"none\"/>\n",
              "    <path d=\"M18.56 5.44l.94 2.06.94-2.06 2.06-.94-2.06-.94-.94-2.06-.94 2.06-2.06.94zm-11 1L8.5 8.5l.94-2.06 2.06-.94-2.06-.94L8.5 2.5l-.94 2.06-2.06.94zm10 10l.94 2.06.94-2.06 2.06-.94-2.06-.94-.94-2.06-.94 2.06-2.06.94z\"/><path d=\"M17.41 7.96l-1.37-1.37c-.4-.4-.92-.59-1.43-.59-.52 0-1.04.2-1.43.59L10.3 9.45l-7.72 7.72c-.78.78-.78 2.05 0 2.83L4 21.41c.39.39.9.59 1.41.59.51 0 1.02-.2 1.41-.59l7.78-7.78 2.81-2.81c.8-.78.8-2.07 0-2.86zM5.41 20L4 18.59l7.72-7.72 1.47 1.35L5.41 20z\"/>\n",
              "  </svg>\n",
              "      </button>\n",
              "      \n",
              "  <style>\n",
              "    .colab-df-container {\n",
              "      display:flex;\n",
              "      flex-wrap:wrap;\n",
              "      gap: 12px;\n",
              "    }\n",
              "\n",
              "    .colab-df-convert {\n",
              "      background-color: #E8F0FE;\n",
              "      border: none;\n",
              "      border-radius: 50%;\n",
              "      cursor: pointer;\n",
              "      display: none;\n",
              "      fill: #1967D2;\n",
              "      height: 32px;\n",
              "      padding: 0 0 0 0;\n",
              "      width: 32px;\n",
              "    }\n",
              "\n",
              "    .colab-df-convert:hover {\n",
              "      background-color: #E2EBFA;\n",
              "      box-shadow: 0px 1px 2px rgba(60, 64, 67, 0.3), 0px 1px 3px 1px rgba(60, 64, 67, 0.15);\n",
              "      fill: #174EA6;\n",
              "    }\n",
              "\n",
              "    [theme=dark] .colab-df-convert {\n",
              "      background-color: #3B4455;\n",
              "      fill: #D2E3FC;\n",
              "    }\n",
              "\n",
              "    [theme=dark] .colab-df-convert:hover {\n",
              "      background-color: #434B5C;\n",
              "      box-shadow: 0px 1px 3px 1px rgba(0, 0, 0, 0.15);\n",
              "      filter: drop-shadow(0px 1px 2px rgba(0, 0, 0, 0.3));\n",
              "      fill: #FFFFFF;\n",
              "    }\n",
              "  </style>\n",
              "\n",
              "      <script>\n",
              "        const buttonEl =\n",
              "          document.querySelector('#df-ba0cfb52-17a4-47a0-a138-b630da311c1a button.colab-df-convert');\n",
              "        buttonEl.style.display =\n",
              "          google.colab.kernel.accessAllowed ? 'block' : 'none';\n",
              "\n",
              "        async function convertToInteractive(key) {\n",
              "          const element = document.querySelector('#df-ba0cfb52-17a4-47a0-a138-b630da311c1a');\n",
              "          const dataTable =\n",
              "            await google.colab.kernel.invokeFunction('convertToInteractive',\n",
              "                                                     [key], {});\n",
              "          if (!dataTable) return;\n",
              "\n",
              "          const docLinkHtml = 'Like what you see? Visit the ' +\n",
              "            '<a target=\"_blank\" href=https://colab.research.google.com/notebooks/data_table.ipynb>data table notebook</a>'\n",
              "            + ' to learn more about interactive tables.';\n",
              "          element.innerHTML = '';\n",
              "          dataTable['output_type'] = 'display_data';\n",
              "          await google.colab.output.renderOutput(dataTable, element);\n",
              "          const docLink = document.createElement('div');\n",
              "          docLink.innerHTML = docLinkHtml;\n",
              "          element.appendChild(docLink);\n",
              "        }\n",
              "      </script>\n",
              "    </div>\n",
              "  </div>\n",
              "  "
            ],
            "text/plain": [
              "      linear_train  linear_test  ridge_train  ridge_test\n",
              "R2        0.882940     0.877028     0.816034    0.812492\n",
              "mae       1.163276     1.228325     1.409496    1.448459\n",
              "mse       2.944704     3.378565     4.627747    5.151661\n",
              "rmse      1.716014     1.838087     2.151220    2.269727"
            ]
          },
          "metadata": {},
          "execution_count": 82
        }
      ]
    },
    {
      "cell_type": "code",
      "source": [
        "model = Ridge(alpha=1, random_state=5) \n",
        "scores = cross_validate(model, X_train_scaled, y_train,\n",
        "                    scoring=['r2', 'neg_mean_absolute_error','neg_mean_squared_error','neg_root_mean_squared_error'], cv=10)"
      ],
      "metadata": {
        "id": "5QSBJFKlRBHf"
      },
      "execution_count": 83,
      "outputs": []
    },
    {
      "cell_type": "code",
      "source": [
        "pd.DataFrame(scores, index = range(1, 11))"
      ],
      "metadata": {
        "colab": {
          "base_uri": "https://localhost:8080/",
          "height": 363
        },
        "id": "HvmqsQDJRE6A",
        "outputId": "fa9652dd-7c94-4e75-b0c3-2be9e805e9b4"
      },
      "execution_count": 84,
      "outputs": [
        {
          "output_type": "execute_result",
          "data": {
            "text/html": [
              "\n",
              "  <div id=\"df-67f1d2da-1734-4820-a5e7-a94a680d621b\">\n",
              "    <div class=\"colab-df-container\">\n",
              "      <div>\n",
              "<style scoped>\n",
              "    .dataframe tbody tr th:only-of-type {\n",
              "        vertical-align: middle;\n",
              "    }\n",
              "\n",
              "    .dataframe tbody tr th {\n",
              "        vertical-align: top;\n",
              "    }\n",
              "\n",
              "    .dataframe thead th {\n",
              "        text-align: right;\n",
              "    }\n",
              "</style>\n",
              "<table border=\"1\" class=\"dataframe\">\n",
              "  <thead>\n",
              "    <tr style=\"text-align: right;\">\n",
              "      <th></th>\n",
              "      <th>fit_time</th>\n",
              "      <th>score_time</th>\n",
              "      <th>test_r2</th>\n",
              "      <th>test_neg_mean_absolute_error</th>\n",
              "      <th>test_neg_mean_squared_error</th>\n",
              "      <th>test_neg_root_mean_squared_error</th>\n",
              "    </tr>\n",
              "  </thead>\n",
              "  <tbody>\n",
              "    <tr>\n",
              "      <th>1</th>\n",
              "      <td>0.004003</td>\n",
              "      <td>0.002345</td>\n",
              "      <td>0.794272</td>\n",
              "      <td>-1.462251</td>\n",
              "      <td>-5.075028</td>\n",
              "      <td>-2.252782</td>\n",
              "    </tr>\n",
              "    <tr>\n",
              "      <th>2</th>\n",
              "      <td>0.002151</td>\n",
              "      <td>0.002121</td>\n",
              "      <td>0.764538</td>\n",
              "      <td>-2.397466</td>\n",
              "      <td>-15.376849</td>\n",
              "      <td>-3.921333</td>\n",
              "    </tr>\n",
              "    <tr>\n",
              "      <th>3</th>\n",
              "      <td>0.001115</td>\n",
              "      <td>0.001192</td>\n",
              "      <td>0.560459</td>\n",
              "      <td>-1.264774</td>\n",
              "      <td>-3.155235</td>\n",
              "      <td>-1.776298</td>\n",
              "    </tr>\n",
              "    <tr>\n",
              "      <th>4</th>\n",
              "      <td>0.001019</td>\n",
              "      <td>0.001228</td>\n",
              "      <td>0.548774</td>\n",
              "      <td>-1.867589</td>\n",
              "      <td>-5.141068</td>\n",
              "      <td>-2.267392</td>\n",
              "    </tr>\n",
              "    <tr>\n",
              "      <th>5</th>\n",
              "      <td>0.001022</td>\n",
              "      <td>0.001172</td>\n",
              "      <td>0.864495</td>\n",
              "      <td>-0.937351</td>\n",
              "      <td>-2.965098</td>\n",
              "      <td>-1.721946</td>\n",
              "    </tr>\n",
              "    <tr>\n",
              "      <th>6</th>\n",
              "      <td>0.001041</td>\n",
              "      <td>0.001179</td>\n",
              "      <td>0.832328</td>\n",
              "      <td>-1.315880</td>\n",
              "      <td>-2.828190</td>\n",
              "      <td>-1.681722</td>\n",
              "    </tr>\n",
              "    <tr>\n",
              "      <th>7</th>\n",
              "      <td>0.000980</td>\n",
              "      <td>0.001147</td>\n",
              "      <td>0.675392</td>\n",
              "      <td>-2.031086</td>\n",
              "      <td>-14.423070</td>\n",
              "      <td>-3.797772</td>\n",
              "    </tr>\n",
              "    <tr>\n",
              "      <th>8</th>\n",
              "      <td>0.000964</td>\n",
              "      <td>0.001140</td>\n",
              "      <td>0.647531</td>\n",
              "      <td>-1.503130</td>\n",
              "      <td>-3.861576</td>\n",
              "      <td>-1.965089</td>\n",
              "    </tr>\n",
              "    <tr>\n",
              "      <th>9</th>\n",
              "      <td>0.000985</td>\n",
              "      <td>0.001160</td>\n",
              "      <td>0.875685</td>\n",
              "      <td>-1.342934</td>\n",
              "      <td>-3.301002</td>\n",
              "      <td>-1.816866</td>\n",
              "    </tr>\n",
              "    <tr>\n",
              "      <th>10</th>\n",
              "      <td>0.000986</td>\n",
              "      <td>0.001156</td>\n",
              "      <td>0.786711</td>\n",
              "      <td>-1.028181</td>\n",
              "      <td>-2.050655</td>\n",
              "      <td>-1.432011</td>\n",
              "    </tr>\n",
              "  </tbody>\n",
              "</table>\n",
              "</div>\n",
              "      <button class=\"colab-df-convert\" onclick=\"convertToInteractive('df-67f1d2da-1734-4820-a5e7-a94a680d621b')\"\n",
              "              title=\"Convert this dataframe to an interactive table.\"\n",
              "              style=\"display:none;\">\n",
              "        \n",
              "  <svg xmlns=\"http://www.w3.org/2000/svg\" height=\"24px\"viewBox=\"0 0 24 24\"\n",
              "       width=\"24px\">\n",
              "    <path d=\"M0 0h24v24H0V0z\" fill=\"none\"/>\n",
              "    <path d=\"M18.56 5.44l.94 2.06.94-2.06 2.06-.94-2.06-.94-.94-2.06-.94 2.06-2.06.94zm-11 1L8.5 8.5l.94-2.06 2.06-.94-2.06-.94L8.5 2.5l-.94 2.06-2.06.94zm10 10l.94 2.06.94-2.06 2.06-.94-2.06-.94-.94-2.06-.94 2.06-2.06.94z\"/><path d=\"M17.41 7.96l-1.37-1.37c-.4-.4-.92-.59-1.43-.59-.52 0-1.04.2-1.43.59L10.3 9.45l-7.72 7.72c-.78.78-.78 2.05 0 2.83L4 21.41c.39.39.9.59 1.41.59.51 0 1.02-.2 1.41-.59l7.78-7.78 2.81-2.81c.8-.78.8-2.07 0-2.86zM5.41 20L4 18.59l7.72-7.72 1.47 1.35L5.41 20z\"/>\n",
              "  </svg>\n",
              "      </button>\n",
              "      \n",
              "  <style>\n",
              "    .colab-df-container {\n",
              "      display:flex;\n",
              "      flex-wrap:wrap;\n",
              "      gap: 12px;\n",
              "    }\n",
              "\n",
              "    .colab-df-convert {\n",
              "      background-color: #E8F0FE;\n",
              "      border: none;\n",
              "      border-radius: 50%;\n",
              "      cursor: pointer;\n",
              "      display: none;\n",
              "      fill: #1967D2;\n",
              "      height: 32px;\n",
              "      padding: 0 0 0 0;\n",
              "      width: 32px;\n",
              "    }\n",
              "\n",
              "    .colab-df-convert:hover {\n",
              "      background-color: #E2EBFA;\n",
              "      box-shadow: 0px 1px 2px rgba(60, 64, 67, 0.3), 0px 1px 3px 1px rgba(60, 64, 67, 0.15);\n",
              "      fill: #174EA6;\n",
              "    }\n",
              "\n",
              "    [theme=dark] .colab-df-convert {\n",
              "      background-color: #3B4455;\n",
              "      fill: #D2E3FC;\n",
              "    }\n",
              "\n",
              "    [theme=dark] .colab-df-convert:hover {\n",
              "      background-color: #434B5C;\n",
              "      box-shadow: 0px 1px 3px 1px rgba(0, 0, 0, 0.15);\n",
              "      filter: drop-shadow(0px 1px 2px rgba(0, 0, 0, 0.3));\n",
              "      fill: #FFFFFF;\n",
              "    }\n",
              "  </style>\n",
              "\n",
              "      <script>\n",
              "        const buttonEl =\n",
              "          document.querySelector('#df-67f1d2da-1734-4820-a5e7-a94a680d621b button.colab-df-convert');\n",
              "        buttonEl.style.display =\n",
              "          google.colab.kernel.accessAllowed ? 'block' : 'none';\n",
              "\n",
              "        async function convertToInteractive(key) {\n",
              "          const element = document.querySelector('#df-67f1d2da-1734-4820-a5e7-a94a680d621b');\n",
              "          const dataTable =\n",
              "            await google.colab.kernel.invokeFunction('convertToInteractive',\n",
              "                                                     [key], {});\n",
              "          if (!dataTable) return;\n",
              "\n",
              "          const docLinkHtml = 'Like what you see? Visit the ' +\n",
              "            '<a target=\"_blank\" href=https://colab.research.google.com/notebooks/data_table.ipynb>data table notebook</a>'\n",
              "            + ' to learn more about interactive tables.';\n",
              "          element.innerHTML = '';\n",
              "          dataTable['output_type'] = 'display_data';\n",
              "          await google.colab.output.renderOutput(dataTable, element);\n",
              "          const docLink = document.createElement('div');\n",
              "          docLink.innerHTML = docLinkHtml;\n",
              "          element.appendChild(docLink);\n",
              "        }\n",
              "      </script>\n",
              "    </div>\n",
              "  </div>\n",
              "  "
            ],
            "text/plain": [
              "    fit_time  score_time   test_r2  test_neg_mean_absolute_error  \\\n",
              "1   0.004003    0.002345  0.794272                     -1.462251   \n",
              "2   0.002151    0.002121  0.764538                     -2.397466   \n",
              "3   0.001115    0.001192  0.560459                     -1.264774   \n",
              "4   0.001019    0.001228  0.548774                     -1.867589   \n",
              "5   0.001022    0.001172  0.864495                     -0.937351   \n",
              "6   0.001041    0.001179  0.832328                     -1.315880   \n",
              "7   0.000980    0.001147  0.675392                     -2.031086   \n",
              "8   0.000964    0.001140  0.647531                     -1.503130   \n",
              "9   0.000985    0.001160  0.875685                     -1.342934   \n",
              "10  0.000986    0.001156  0.786711                     -1.028181   \n",
              "\n",
              "    test_neg_mean_squared_error  test_neg_root_mean_squared_error  \n",
              "1                     -5.075028                         -2.252782  \n",
              "2                    -15.376849                         -3.921333  \n",
              "3                     -3.155235                         -1.776298  \n",
              "4                     -5.141068                         -2.267392  \n",
              "5                     -2.965098                         -1.721946  \n",
              "6                     -2.828190                         -1.681722  \n",
              "7                    -14.423070                         -3.797772  \n",
              "8                     -3.861576                         -1.965089  \n",
              "9                     -3.301002                         -1.816866  \n",
              "10                    -2.050655                         -1.432011  "
            ]
          },
          "metadata": {},
          "execution_count": 84
        }
      ]
    },
    {
      "cell_type": "code",
      "source": [
        "scores = pd.DataFrame(scores, index = range(1, 11)) \n",
        "scores.iloc[:,2:].mean()"
      ],
      "metadata": {
        "colab": {
          "base_uri": "https://localhost:8080/"
        },
        "id": "1eTqHwcFRJKA",
        "outputId": "d3aafc98-b688-43f7-fe6c-7d6c6a776b37"
      },
      "execution_count": 85,
      "outputs": [
        {
          "output_type": "execute_result",
          "data": {
            "text/plain": [
              "test_r2                             0.735018\n",
              "test_neg_mean_absolute_error       -1.515064\n",
              "test_neg_mean_squared_error        -5.817777\n",
              "test_neg_root_mean_squared_error   -2.263321\n",
              "dtype: float64"
            ]
          },
          "metadata": {},
          "execution_count": 85
        }
      ]
    },
    {
      "cell_type": "code",
      "source": [
        "from sklearn.linear_model import RidgeCV"
      ],
      "metadata": {
        "id": "BYt9uknORQXA"
      },
      "execution_count": 87,
      "outputs": []
    },
    {
      "cell_type": "code",
      "source": [
        "alpha_space = np.linspace(0.1, 1, 100)\n",
        "alpha_space"
      ],
      "metadata": {
        "colab": {
          "base_uri": "https://localhost:8080/"
        },
        "id": "IAmoTMpuRTBv",
        "outputId": "2ba1b99c-9202-4a8a-f16d-4629ad09ddcc"
      },
      "execution_count": 96,
      "outputs": [
        {
          "output_type": "execute_result",
          "data": {
            "text/plain": [
              "array([0.1       , 0.10909091, 0.11818182, 0.12727273, 0.13636364,\n",
              "       0.14545455, 0.15454545, 0.16363636, 0.17272727, 0.18181818,\n",
              "       0.19090909, 0.2       , 0.20909091, 0.21818182, 0.22727273,\n",
              "       0.23636364, 0.24545455, 0.25454545, 0.26363636, 0.27272727,\n",
              "       0.28181818, 0.29090909, 0.3       , 0.30909091, 0.31818182,\n",
              "       0.32727273, 0.33636364, 0.34545455, 0.35454545, 0.36363636,\n",
              "       0.37272727, 0.38181818, 0.39090909, 0.4       , 0.40909091,\n",
              "       0.41818182, 0.42727273, 0.43636364, 0.44545455, 0.45454545,\n",
              "       0.46363636, 0.47272727, 0.48181818, 0.49090909, 0.5       ,\n",
              "       0.50909091, 0.51818182, 0.52727273, 0.53636364, 0.54545455,\n",
              "       0.55454545, 0.56363636, 0.57272727, 0.58181818, 0.59090909,\n",
              "       0.6       , 0.60909091, 0.61818182, 0.62727273, 0.63636364,\n",
              "       0.64545455, 0.65454545, 0.66363636, 0.67272727, 0.68181818,\n",
              "       0.69090909, 0.7       , 0.70909091, 0.71818182, 0.72727273,\n",
              "       0.73636364, 0.74545455, 0.75454545, 0.76363636, 0.77272727,\n",
              "       0.78181818, 0.79090909, 0.8       , 0.80909091, 0.81818182,\n",
              "       0.82727273, 0.83636364, 0.84545455, 0.85454545, 0.86363636,\n",
              "       0.87272727, 0.88181818, 0.89090909, 0.9       , 0.90909091,\n",
              "       0.91818182, 0.92727273, 0.93636364, 0.94545455, 0.95454545,\n",
              "       0.96363636, 0.97272727, 0.98181818, 0.99090909, 1.        ])"
            ]
          },
          "metadata": {},
          "execution_count": 96
        }
      ]
    },
    {
      "cell_type": "code",
      "source": [
        "ridge_cv_model = RidgeCV(alphas=alpha_space, cv = 10, scoring= \"neg_root_mean_squared_error\")"
      ],
      "metadata": {
        "id": "lLr5FexTRZWI"
      },
      "execution_count": 98,
      "outputs": []
    },
    {
      "cell_type": "code",
      "source": [
        "ridge_cv_model.fit(X_train_scaled, y_train)"
      ],
      "metadata": {
        "colab": {
          "base_uri": "https://localhost:8080/"
        },
        "id": "gX38yqQkRbVu",
        "outputId": "6971882b-3b67-4f7f-c687-b94e61ca0f8e"
      },
      "execution_count": 99,
      "outputs": [
        {
          "output_type": "execute_result",
          "data": {
            "text/plain": [
              "RidgeCV(alphas=array([0.1       , 0.10909091, 0.11818182, 0.12727273, 0.13636364,\n",
              "       0.14545455, 0.15454545, 0.16363636, 0.17272727, 0.18181818,\n",
              "       0.19090909, 0.2       , 0.20909091, 0.21818182, 0.22727273,\n",
              "       0.23636364, 0.24545455, 0.25454545, 0.26363636, 0.27272727,\n",
              "       0.28181818, 0.29090909, 0.3       , 0.30909091, 0.31818182,\n",
              "       0.32727273, 0.33636364, 0.34545455, 0.35454545, 0.36363636,\n",
              "       0.37272727, 0.381818...\n",
              "       0.73636364, 0.74545455, 0.75454545, 0.76363636, 0.77272727,\n",
              "       0.78181818, 0.79090909, 0.8       , 0.80909091, 0.81818182,\n",
              "       0.82727273, 0.83636364, 0.84545455, 0.85454545, 0.86363636,\n",
              "       0.87272727, 0.88181818, 0.89090909, 0.9       , 0.90909091,\n",
              "       0.91818182, 0.92727273, 0.93636364, 0.94545455, 0.95454545,\n",
              "       0.96363636, 0.97272727, 0.98181818, 0.99090909, 1.        ]),\n",
              "        cv=10, scoring='neg_root_mean_squared_error')"
            ]
          },
          "metadata": {},
          "execution_count": 99
        }
      ]
    },
    {
      "cell_type": "code",
      "source": [
        "ridge_cv_model.alpha_"
      ],
      "metadata": {
        "colab": {
          "base_uri": "https://localhost:8080/"
        },
        "id": "Mi2J14FHRdx6",
        "outputId": "bcce9a25-7e71-4bd5-f90a-25f297f29424"
      },
      "execution_count": 100,
      "outputs": [
        {
          "output_type": "execute_result",
          "data": {
            "text/plain": [
              "0.14545454545454545"
            ]
          },
          "metadata": {},
          "execution_count": 100
        }
      ]
    },
    {
      "cell_type": "code",
      "source": [
        "ridge_cv_model.best_score_"
      ],
      "metadata": {
        "colab": {
          "base_uri": "https://localhost:8080/"
        },
        "id": "LOouYcfuRgXO",
        "outputId": "43c01602-9030-473a-c54b-0007b61fa341"
      },
      "execution_count": 101,
      "outputs": [
        {
          "output_type": "execute_result",
          "data": {
            "text/plain": [
              "-1.7906599464112933"
            ]
          },
          "metadata": {},
          "execution_count": 101
        }
      ]
    },
    {
      "cell_type": "code",
      "source": [
        "y_pred = ridge_cv_model.predict(X_test_scaled)\n",
        "y_train_pred = ridge_cv_model.predict(X_train_scaled)"
      ],
      "metadata": {
        "id": "emnp1Qe_Rl2p"
      },
      "execution_count": 102,
      "outputs": []
    },
    {
      "cell_type": "code",
      "source": [
        "rcs = train_val(y_train, y_train_pred, y_test, y_pred, \"ridge_cv\")\n",
        "rcs"
      ],
      "metadata": {
        "colab": {
          "base_uri": "https://localhost:8080/",
          "height": 174
        },
        "id": "ZUipCfaiRoCV",
        "outputId": "a42d4ecc-7c24-40dc-e7f8-520c0b120e47"
      },
      "execution_count": 103,
      "outputs": [
        {
          "output_type": "execute_result",
          "data": {
            "text/html": [
              "\n",
              "  <div id=\"df-5435f291-067e-4433-8949-f46f748bed79\">\n",
              "    <div class=\"colab-df-container\">\n",
              "      <div>\n",
              "<style scoped>\n",
              "    .dataframe tbody tr th:only-of-type {\n",
              "        vertical-align: middle;\n",
              "    }\n",
              "\n",
              "    .dataframe tbody tr th {\n",
              "        vertical-align: top;\n",
              "    }\n",
              "\n",
              "    .dataframe thead th {\n",
              "        text-align: right;\n",
              "    }\n",
              "</style>\n",
              "<table border=\"1\" class=\"dataframe\">\n",
              "  <thead>\n",
              "    <tr style=\"text-align: right;\">\n",
              "      <th></th>\n",
              "      <th>ridge_cv_train</th>\n",
              "      <th>ridge_cv_test</th>\n",
              "    </tr>\n",
              "  </thead>\n",
              "  <tbody>\n",
              "    <tr>\n",
              "      <th>R2</th>\n",
              "      <td>0.879144</td>\n",
              "      <td>0.868172</td>\n",
              "    </tr>\n",
              "    <tr>\n",
              "      <th>mae</th>\n",
              "      <td>1.189737</td>\n",
              "      <td>1.263949</td>\n",
              "    </tr>\n",
              "    <tr>\n",
              "      <th>mse</th>\n",
              "      <td>3.040184</td>\n",
              "      <td>3.621874</td>\n",
              "    </tr>\n",
              "    <tr>\n",
              "      <th>rmse</th>\n",
              "      <td>1.743612</td>\n",
              "      <td>1.903122</td>\n",
              "    </tr>\n",
              "  </tbody>\n",
              "</table>\n",
              "</div>\n",
              "      <button class=\"colab-df-convert\" onclick=\"convertToInteractive('df-5435f291-067e-4433-8949-f46f748bed79')\"\n",
              "              title=\"Convert this dataframe to an interactive table.\"\n",
              "              style=\"display:none;\">\n",
              "        \n",
              "  <svg xmlns=\"http://www.w3.org/2000/svg\" height=\"24px\"viewBox=\"0 0 24 24\"\n",
              "       width=\"24px\">\n",
              "    <path d=\"M0 0h24v24H0V0z\" fill=\"none\"/>\n",
              "    <path d=\"M18.56 5.44l.94 2.06.94-2.06 2.06-.94-2.06-.94-.94-2.06-.94 2.06-2.06.94zm-11 1L8.5 8.5l.94-2.06 2.06-.94-2.06-.94L8.5 2.5l-.94 2.06-2.06.94zm10 10l.94 2.06.94-2.06 2.06-.94-2.06-.94-.94-2.06-.94 2.06-2.06.94z\"/><path d=\"M17.41 7.96l-1.37-1.37c-.4-.4-.92-.59-1.43-.59-.52 0-1.04.2-1.43.59L10.3 9.45l-7.72 7.72c-.78.78-.78 2.05 0 2.83L4 21.41c.39.39.9.59 1.41.59.51 0 1.02-.2 1.41-.59l7.78-7.78 2.81-2.81c.8-.78.8-2.07 0-2.86zM5.41 20L4 18.59l7.72-7.72 1.47 1.35L5.41 20z\"/>\n",
              "  </svg>\n",
              "      </button>\n",
              "      \n",
              "  <style>\n",
              "    .colab-df-container {\n",
              "      display:flex;\n",
              "      flex-wrap:wrap;\n",
              "      gap: 12px;\n",
              "    }\n",
              "\n",
              "    .colab-df-convert {\n",
              "      background-color: #E8F0FE;\n",
              "      border: none;\n",
              "      border-radius: 50%;\n",
              "      cursor: pointer;\n",
              "      display: none;\n",
              "      fill: #1967D2;\n",
              "      height: 32px;\n",
              "      padding: 0 0 0 0;\n",
              "      width: 32px;\n",
              "    }\n",
              "\n",
              "    .colab-df-convert:hover {\n",
              "      background-color: #E2EBFA;\n",
              "      box-shadow: 0px 1px 2px rgba(60, 64, 67, 0.3), 0px 1px 3px 1px rgba(60, 64, 67, 0.15);\n",
              "      fill: #174EA6;\n",
              "    }\n",
              "\n",
              "    [theme=dark] .colab-df-convert {\n",
              "      background-color: #3B4455;\n",
              "      fill: #D2E3FC;\n",
              "    }\n",
              "\n",
              "    [theme=dark] .colab-df-convert:hover {\n",
              "      background-color: #434B5C;\n",
              "      box-shadow: 0px 1px 3px 1px rgba(0, 0, 0, 0.15);\n",
              "      filter: drop-shadow(0px 1px 2px rgba(0, 0, 0, 0.3));\n",
              "      fill: #FFFFFF;\n",
              "    }\n",
              "  </style>\n",
              "\n",
              "      <script>\n",
              "        const buttonEl =\n",
              "          document.querySelector('#df-5435f291-067e-4433-8949-f46f748bed79 button.colab-df-convert');\n",
              "        buttonEl.style.display =\n",
              "          google.colab.kernel.accessAllowed ? 'block' : 'none';\n",
              "\n",
              "        async function convertToInteractive(key) {\n",
              "          const element = document.querySelector('#df-5435f291-067e-4433-8949-f46f748bed79');\n",
              "          const dataTable =\n",
              "            await google.colab.kernel.invokeFunction('convertToInteractive',\n",
              "                                                     [key], {});\n",
              "          if (!dataTable) return;\n",
              "\n",
              "          const docLinkHtml = 'Like what you see? Visit the ' +\n",
              "            '<a target=\"_blank\" href=https://colab.research.google.com/notebooks/data_table.ipynb>data table notebook</a>'\n",
              "            + ' to learn more about interactive tables.';\n",
              "          element.innerHTML = '';\n",
              "          dataTable['output_type'] = 'display_data';\n",
              "          await google.colab.output.renderOutput(dataTable, element);\n",
              "          const docLink = document.createElement('div');\n",
              "          docLink.innerHTML = docLinkHtml;\n",
              "          element.appendChild(docLink);\n",
              "        }\n",
              "      </script>\n",
              "    </div>\n",
              "  </div>\n",
              "  "
            ],
            "text/plain": [
              "      ridge_cv_train  ridge_cv_test\n",
              "R2          0.879144       0.868172\n",
              "mae         1.189737       1.263949\n",
              "mse         3.040184       3.621874\n",
              "rmse        1.743612       1.903122"
            ]
          },
          "metadata": {},
          "execution_count": 103
        }
      ]
    },
    {
      "cell_type": "code",
      "source": [
        "pd.concat([ls, rs, rcs], axis = 1)"
      ],
      "metadata": {
        "colab": {
          "base_uri": "https://localhost:8080/",
          "height": 174
        },
        "id": "GQ2M2l72RrSU",
        "outputId": "c4e64d68-c2e7-47ed-91ee-1e50173659df"
      },
      "execution_count": 104,
      "outputs": [
        {
          "output_type": "execute_result",
          "data": {
            "text/html": [
              "\n",
              "  <div id=\"df-9c612697-32a3-4a2f-82f0-7a1c15e9607a\">\n",
              "    <div class=\"colab-df-container\">\n",
              "      <div>\n",
              "<style scoped>\n",
              "    .dataframe tbody tr th:only-of-type {\n",
              "        vertical-align: middle;\n",
              "    }\n",
              "\n",
              "    .dataframe tbody tr th {\n",
              "        vertical-align: top;\n",
              "    }\n",
              "\n",
              "    .dataframe thead th {\n",
              "        text-align: right;\n",
              "    }\n",
              "</style>\n",
              "<table border=\"1\" class=\"dataframe\">\n",
              "  <thead>\n",
              "    <tr style=\"text-align: right;\">\n",
              "      <th></th>\n",
              "      <th>linear_train</th>\n",
              "      <th>linear_test</th>\n",
              "      <th>ridge_train</th>\n",
              "      <th>ridge_test</th>\n",
              "      <th>ridge_cv_train</th>\n",
              "      <th>ridge_cv_test</th>\n",
              "    </tr>\n",
              "  </thead>\n",
              "  <tbody>\n",
              "    <tr>\n",
              "      <th>R2</th>\n",
              "      <td>0.882940</td>\n",
              "      <td>0.877028</td>\n",
              "      <td>0.816034</td>\n",
              "      <td>0.812492</td>\n",
              "      <td>0.879144</td>\n",
              "      <td>0.868172</td>\n",
              "    </tr>\n",
              "    <tr>\n",
              "      <th>mae</th>\n",
              "      <td>1.163276</td>\n",
              "      <td>1.228325</td>\n",
              "      <td>1.409496</td>\n",
              "      <td>1.448459</td>\n",
              "      <td>1.189737</td>\n",
              "      <td>1.263949</td>\n",
              "    </tr>\n",
              "    <tr>\n",
              "      <th>mse</th>\n",
              "      <td>2.944704</td>\n",
              "      <td>3.378565</td>\n",
              "      <td>4.627747</td>\n",
              "      <td>5.151661</td>\n",
              "      <td>3.040184</td>\n",
              "      <td>3.621874</td>\n",
              "    </tr>\n",
              "    <tr>\n",
              "      <th>rmse</th>\n",
              "      <td>1.716014</td>\n",
              "      <td>1.838087</td>\n",
              "      <td>2.151220</td>\n",
              "      <td>2.269727</td>\n",
              "      <td>1.743612</td>\n",
              "      <td>1.903122</td>\n",
              "    </tr>\n",
              "  </tbody>\n",
              "</table>\n",
              "</div>\n",
              "      <button class=\"colab-df-convert\" onclick=\"convertToInteractive('df-9c612697-32a3-4a2f-82f0-7a1c15e9607a')\"\n",
              "              title=\"Convert this dataframe to an interactive table.\"\n",
              "              style=\"display:none;\">\n",
              "        \n",
              "  <svg xmlns=\"http://www.w3.org/2000/svg\" height=\"24px\"viewBox=\"0 0 24 24\"\n",
              "       width=\"24px\">\n",
              "    <path d=\"M0 0h24v24H0V0z\" fill=\"none\"/>\n",
              "    <path d=\"M18.56 5.44l.94 2.06.94-2.06 2.06-.94-2.06-.94-.94-2.06-.94 2.06-2.06.94zm-11 1L8.5 8.5l.94-2.06 2.06-.94-2.06-.94L8.5 2.5l-.94 2.06-2.06.94zm10 10l.94 2.06.94-2.06 2.06-.94-2.06-.94-.94-2.06-.94 2.06-2.06.94z\"/><path d=\"M17.41 7.96l-1.37-1.37c-.4-.4-.92-.59-1.43-.59-.52 0-1.04.2-1.43.59L10.3 9.45l-7.72 7.72c-.78.78-.78 2.05 0 2.83L4 21.41c.39.39.9.59 1.41.59.51 0 1.02-.2 1.41-.59l7.78-7.78 2.81-2.81c.8-.78.8-2.07 0-2.86zM5.41 20L4 18.59l7.72-7.72 1.47 1.35L5.41 20z\"/>\n",
              "  </svg>\n",
              "      </button>\n",
              "      \n",
              "  <style>\n",
              "    .colab-df-container {\n",
              "      display:flex;\n",
              "      flex-wrap:wrap;\n",
              "      gap: 12px;\n",
              "    }\n",
              "\n",
              "    .colab-df-convert {\n",
              "      background-color: #E8F0FE;\n",
              "      border: none;\n",
              "      border-radius: 50%;\n",
              "      cursor: pointer;\n",
              "      display: none;\n",
              "      fill: #1967D2;\n",
              "      height: 32px;\n",
              "      padding: 0 0 0 0;\n",
              "      width: 32px;\n",
              "    }\n",
              "\n",
              "    .colab-df-convert:hover {\n",
              "      background-color: #E2EBFA;\n",
              "      box-shadow: 0px 1px 2px rgba(60, 64, 67, 0.3), 0px 1px 3px 1px rgba(60, 64, 67, 0.15);\n",
              "      fill: #174EA6;\n",
              "    }\n",
              "\n",
              "    [theme=dark] .colab-df-convert {\n",
              "      background-color: #3B4455;\n",
              "      fill: #D2E3FC;\n",
              "    }\n",
              "\n",
              "    [theme=dark] .colab-df-convert:hover {\n",
              "      background-color: #434B5C;\n",
              "      box-shadow: 0px 1px 3px 1px rgba(0, 0, 0, 0.15);\n",
              "      filter: drop-shadow(0px 1px 2px rgba(0, 0, 0, 0.3));\n",
              "      fill: #FFFFFF;\n",
              "    }\n",
              "  </style>\n",
              "\n",
              "      <script>\n",
              "        const buttonEl =\n",
              "          document.querySelector('#df-9c612697-32a3-4a2f-82f0-7a1c15e9607a button.colab-df-convert');\n",
              "        buttonEl.style.display =\n",
              "          google.colab.kernel.accessAllowed ? 'block' : 'none';\n",
              "\n",
              "        async function convertToInteractive(key) {\n",
              "          const element = document.querySelector('#df-9c612697-32a3-4a2f-82f0-7a1c15e9607a');\n",
              "          const dataTable =\n",
              "            await google.colab.kernel.invokeFunction('convertToInteractive',\n",
              "                                                     [key], {});\n",
              "          if (!dataTable) return;\n",
              "\n",
              "          const docLinkHtml = 'Like what you see? Visit the ' +\n",
              "            '<a target=\"_blank\" href=https://colab.research.google.com/notebooks/data_table.ipynb>data table notebook</a>'\n",
              "            + ' to learn more about interactive tables.';\n",
              "          element.innerHTML = '';\n",
              "          dataTable['output_type'] = 'display_data';\n",
              "          await google.colab.output.renderOutput(dataTable, element);\n",
              "          const docLink = document.createElement('div');\n",
              "          docLink.innerHTML = docLinkHtml;\n",
              "          element.appendChild(docLink);\n",
              "        }\n",
              "      </script>\n",
              "    </div>\n",
              "  </div>\n",
              "  "
            ],
            "text/plain": [
              "      linear_train  linear_test  ridge_train  ridge_test  ridge_cv_train  \\\n",
              "R2        0.882940     0.877028     0.816034    0.812492        0.879144   \n",
              "mae       1.163276     1.228325     1.409496    1.448459        1.189737   \n",
              "mse       2.944704     3.378565     4.627747    5.151661        3.040184   \n",
              "rmse      1.716014     1.838087     2.151220    2.269727        1.743612   \n",
              "\n",
              "      ridge_cv_test  \n",
              "R2         0.868172  \n",
              "mae        1.263949  \n",
              "mse        3.621874  \n",
              "rmse       1.903122  "
            ]
          },
          "metadata": {},
          "execution_count": 104
        }
      ]
    },
    {
      "cell_type": "markdown",
      "metadata": {
        "id": "B_T57TpNbV9V"
      },
      "source": [
        "# Lasso"
      ]
    },
    {
      "cell_type": "code",
      "metadata": {
        "id": "MBAiMxBAbV9W"
      },
      "source": [
        "from sklearn.linear_model import Lasso, LassoCV"
      ],
      "execution_count": 105,
      "outputs": []
    },
    {
      "cell_type": "code",
      "source": [
        "lasso_model = Lasso(alpha=1, random_state=42)\n",
        "lasso_model.fit(X_train_scaled, y_train)"
      ],
      "metadata": {
        "colab": {
          "base_uri": "https://localhost:8080/"
        },
        "id": "0vIy3cl3RwfC",
        "outputId": "5c0292a5-7337-441e-b01d-36a069b19445"
      },
      "execution_count": 106,
      "outputs": [
        {
          "output_type": "execute_result",
          "data": {
            "text/plain": [
              "Lasso(alpha=1, random_state=42)"
            ]
          },
          "metadata": {},
          "execution_count": 106
        }
      ]
    },
    {
      "cell_type": "code",
      "source": [
        "y_pred = lasso_model.predict(X_test_scaled)\n",
        "y_train_pred = lasso_model.predict(X_train_scaled)"
      ],
      "metadata": {
        "id": "T_UvpB7jRyuT"
      },
      "execution_count": 107,
      "outputs": []
    },
    {
      "cell_type": "code",
      "source": [
        "lss = train_val(y_train, y_train_pred, y_test, y_pred, \"lasso\")\n",
        "lss"
      ],
      "metadata": {
        "colab": {
          "base_uri": "https://localhost:8080/",
          "height": 174
        },
        "id": "w6iyggK-R003",
        "outputId": "ba23dc3b-497a-4b2f-dd77-c949c616a54e"
      },
      "execution_count": 108,
      "outputs": [
        {
          "output_type": "execute_result",
          "data": {
            "text/html": [
              "\n",
              "  <div id=\"df-0364a951-072a-4b50-99dd-76408b2efb64\">\n",
              "    <div class=\"colab-df-container\">\n",
              "      <div>\n",
              "<style scoped>\n",
              "    .dataframe tbody tr th:only-of-type {\n",
              "        vertical-align: middle;\n",
              "    }\n",
              "\n",
              "    .dataframe tbody tr th {\n",
              "        vertical-align: top;\n",
              "    }\n",
              "\n",
              "    .dataframe thead th {\n",
              "        text-align: right;\n",
              "    }\n",
              "</style>\n",
              "<table border=\"1\" class=\"dataframe\">\n",
              "  <thead>\n",
              "    <tr style=\"text-align: right;\">\n",
              "      <th></th>\n",
              "      <th>lasso_train</th>\n",
              "      <th>lasso_test</th>\n",
              "    </tr>\n",
              "  </thead>\n",
              "  <tbody>\n",
              "    <tr>\n",
              "      <th>R2</th>\n",
              "      <td>0.123966</td>\n",
              "      <td>0.122134</td>\n",
              "    </tr>\n",
              "    <tr>\n",
              "      <th>mae</th>\n",
              "      <td>3.041904</td>\n",
              "      <td>3.221916</td>\n",
              "    </tr>\n",
              "    <tr>\n",
              "      <th>mse</th>\n",
              "      <td>22.036991</td>\n",
              "      <td>24.118765</td>\n",
              "    </tr>\n",
              "    <tr>\n",
              "      <th>rmse</th>\n",
              "      <td>4.694357</td>\n",
              "      <td>4.911086</td>\n",
              "    </tr>\n",
              "  </tbody>\n",
              "</table>\n",
              "</div>\n",
              "      <button class=\"colab-df-convert\" onclick=\"convertToInteractive('df-0364a951-072a-4b50-99dd-76408b2efb64')\"\n",
              "              title=\"Convert this dataframe to an interactive table.\"\n",
              "              style=\"display:none;\">\n",
              "        \n",
              "  <svg xmlns=\"http://www.w3.org/2000/svg\" height=\"24px\"viewBox=\"0 0 24 24\"\n",
              "       width=\"24px\">\n",
              "    <path d=\"M0 0h24v24H0V0z\" fill=\"none\"/>\n",
              "    <path d=\"M18.56 5.44l.94 2.06.94-2.06 2.06-.94-2.06-.94-.94-2.06-.94 2.06-2.06.94zm-11 1L8.5 8.5l.94-2.06 2.06-.94-2.06-.94L8.5 2.5l-.94 2.06-2.06.94zm10 10l.94 2.06.94-2.06 2.06-.94-2.06-.94-.94-2.06-.94 2.06-2.06.94z\"/><path d=\"M17.41 7.96l-1.37-1.37c-.4-.4-.92-.59-1.43-.59-.52 0-1.04.2-1.43.59L10.3 9.45l-7.72 7.72c-.78.78-.78 2.05 0 2.83L4 21.41c.39.39.9.59 1.41.59.51 0 1.02-.2 1.41-.59l7.78-7.78 2.81-2.81c.8-.78.8-2.07 0-2.86zM5.41 20L4 18.59l7.72-7.72 1.47 1.35L5.41 20z\"/>\n",
              "  </svg>\n",
              "      </button>\n",
              "      \n",
              "  <style>\n",
              "    .colab-df-container {\n",
              "      display:flex;\n",
              "      flex-wrap:wrap;\n",
              "      gap: 12px;\n",
              "    }\n",
              "\n",
              "    .colab-df-convert {\n",
              "      background-color: #E8F0FE;\n",
              "      border: none;\n",
              "      border-radius: 50%;\n",
              "      cursor: pointer;\n",
              "      display: none;\n",
              "      fill: #1967D2;\n",
              "      height: 32px;\n",
              "      padding: 0 0 0 0;\n",
              "      width: 32px;\n",
              "    }\n",
              "\n",
              "    .colab-df-convert:hover {\n",
              "      background-color: #E2EBFA;\n",
              "      box-shadow: 0px 1px 2px rgba(60, 64, 67, 0.3), 0px 1px 3px 1px rgba(60, 64, 67, 0.15);\n",
              "      fill: #174EA6;\n",
              "    }\n",
              "\n",
              "    [theme=dark] .colab-df-convert {\n",
              "      background-color: #3B4455;\n",
              "      fill: #D2E3FC;\n",
              "    }\n",
              "\n",
              "    [theme=dark] .colab-df-convert:hover {\n",
              "      background-color: #434B5C;\n",
              "      box-shadow: 0px 1px 3px 1px rgba(0, 0, 0, 0.15);\n",
              "      filter: drop-shadow(0px 1px 2px rgba(0, 0, 0, 0.3));\n",
              "      fill: #FFFFFF;\n",
              "    }\n",
              "  </style>\n",
              "\n",
              "      <script>\n",
              "        const buttonEl =\n",
              "          document.querySelector('#df-0364a951-072a-4b50-99dd-76408b2efb64 button.colab-df-convert');\n",
              "        buttonEl.style.display =\n",
              "          google.colab.kernel.accessAllowed ? 'block' : 'none';\n",
              "\n",
              "        async function convertToInteractive(key) {\n",
              "          const element = document.querySelector('#df-0364a951-072a-4b50-99dd-76408b2efb64');\n",
              "          const dataTable =\n",
              "            await google.colab.kernel.invokeFunction('convertToInteractive',\n",
              "                                                     [key], {});\n",
              "          if (!dataTable) return;\n",
              "\n",
              "          const docLinkHtml = 'Like what you see? Visit the ' +\n",
              "            '<a target=\"_blank\" href=https://colab.research.google.com/notebooks/data_table.ipynb>data table notebook</a>'\n",
              "            + ' to learn more about interactive tables.';\n",
              "          element.innerHTML = '';\n",
              "          dataTable['output_type'] = 'display_data';\n",
              "          await google.colab.output.renderOutput(dataTable, element);\n",
              "          const docLink = document.createElement('div');\n",
              "          docLink.innerHTML = docLinkHtml;\n",
              "          element.appendChild(docLink);\n",
              "        }\n",
              "      </script>\n",
              "    </div>\n",
              "  </div>\n",
              "  "
            ],
            "text/plain": [
              "      lasso_train  lasso_test\n",
              "R2       0.123966    0.122134\n",
              "mae      3.041904    3.221916\n",
              "mse     22.036991   24.118765\n",
              "rmse     4.694357    4.911086"
            ]
          },
          "metadata": {},
          "execution_count": 108
        }
      ]
    },
    {
      "cell_type": "code",
      "source": [
        "pd.concat([ls, rs, rcs, lss], axis = 1)"
      ],
      "metadata": {
        "colab": {
          "base_uri": "https://localhost:8080/",
          "height": 174
        },
        "id": "5bZg57O2R4uh",
        "outputId": "7725a731-c193-4360-80d0-a20b210b733f"
      },
      "execution_count": 109,
      "outputs": [
        {
          "output_type": "execute_result",
          "data": {
            "text/html": [
              "\n",
              "  <div id=\"df-85d42d72-7290-4d3a-b06f-9ac19c3608b5\">\n",
              "    <div class=\"colab-df-container\">\n",
              "      <div>\n",
              "<style scoped>\n",
              "    .dataframe tbody tr th:only-of-type {\n",
              "        vertical-align: middle;\n",
              "    }\n",
              "\n",
              "    .dataframe tbody tr th {\n",
              "        vertical-align: top;\n",
              "    }\n",
              "\n",
              "    .dataframe thead th {\n",
              "        text-align: right;\n",
              "    }\n",
              "</style>\n",
              "<table border=\"1\" class=\"dataframe\">\n",
              "  <thead>\n",
              "    <tr style=\"text-align: right;\">\n",
              "      <th></th>\n",
              "      <th>linear_train</th>\n",
              "      <th>linear_test</th>\n",
              "      <th>ridge_train</th>\n",
              "      <th>ridge_test</th>\n",
              "      <th>ridge_cv_train</th>\n",
              "      <th>ridge_cv_test</th>\n",
              "      <th>lasso_train</th>\n",
              "      <th>lasso_test</th>\n",
              "    </tr>\n",
              "  </thead>\n",
              "  <tbody>\n",
              "    <tr>\n",
              "      <th>R2</th>\n",
              "      <td>0.882940</td>\n",
              "      <td>0.877028</td>\n",
              "      <td>0.816034</td>\n",
              "      <td>0.812492</td>\n",
              "      <td>0.879144</td>\n",
              "      <td>0.868172</td>\n",
              "      <td>0.123966</td>\n",
              "      <td>0.122134</td>\n",
              "    </tr>\n",
              "    <tr>\n",
              "      <th>mae</th>\n",
              "      <td>1.163276</td>\n",
              "      <td>1.228325</td>\n",
              "      <td>1.409496</td>\n",
              "      <td>1.448459</td>\n",
              "      <td>1.189737</td>\n",
              "      <td>1.263949</td>\n",
              "      <td>3.041904</td>\n",
              "      <td>3.221916</td>\n",
              "    </tr>\n",
              "    <tr>\n",
              "      <th>mse</th>\n",
              "      <td>2.944704</td>\n",
              "      <td>3.378565</td>\n",
              "      <td>4.627747</td>\n",
              "      <td>5.151661</td>\n",
              "      <td>3.040184</td>\n",
              "      <td>3.621874</td>\n",
              "      <td>22.036991</td>\n",
              "      <td>24.118765</td>\n",
              "    </tr>\n",
              "    <tr>\n",
              "      <th>rmse</th>\n",
              "      <td>1.716014</td>\n",
              "      <td>1.838087</td>\n",
              "      <td>2.151220</td>\n",
              "      <td>2.269727</td>\n",
              "      <td>1.743612</td>\n",
              "      <td>1.903122</td>\n",
              "      <td>4.694357</td>\n",
              "      <td>4.911086</td>\n",
              "    </tr>\n",
              "  </tbody>\n",
              "</table>\n",
              "</div>\n",
              "      <button class=\"colab-df-convert\" onclick=\"convertToInteractive('df-85d42d72-7290-4d3a-b06f-9ac19c3608b5')\"\n",
              "              title=\"Convert this dataframe to an interactive table.\"\n",
              "              style=\"display:none;\">\n",
              "        \n",
              "  <svg xmlns=\"http://www.w3.org/2000/svg\" height=\"24px\"viewBox=\"0 0 24 24\"\n",
              "       width=\"24px\">\n",
              "    <path d=\"M0 0h24v24H0V0z\" fill=\"none\"/>\n",
              "    <path d=\"M18.56 5.44l.94 2.06.94-2.06 2.06-.94-2.06-.94-.94-2.06-.94 2.06-2.06.94zm-11 1L8.5 8.5l.94-2.06 2.06-.94-2.06-.94L8.5 2.5l-.94 2.06-2.06.94zm10 10l.94 2.06.94-2.06 2.06-.94-2.06-.94-.94-2.06-.94 2.06-2.06.94z\"/><path d=\"M17.41 7.96l-1.37-1.37c-.4-.4-.92-.59-1.43-.59-.52 0-1.04.2-1.43.59L10.3 9.45l-7.72 7.72c-.78.78-.78 2.05 0 2.83L4 21.41c.39.39.9.59 1.41.59.51 0 1.02-.2 1.41-.59l7.78-7.78 2.81-2.81c.8-.78.8-2.07 0-2.86zM5.41 20L4 18.59l7.72-7.72 1.47 1.35L5.41 20z\"/>\n",
              "  </svg>\n",
              "      </button>\n",
              "      \n",
              "  <style>\n",
              "    .colab-df-container {\n",
              "      display:flex;\n",
              "      flex-wrap:wrap;\n",
              "      gap: 12px;\n",
              "    }\n",
              "\n",
              "    .colab-df-convert {\n",
              "      background-color: #E8F0FE;\n",
              "      border: none;\n",
              "      border-radius: 50%;\n",
              "      cursor: pointer;\n",
              "      display: none;\n",
              "      fill: #1967D2;\n",
              "      height: 32px;\n",
              "      padding: 0 0 0 0;\n",
              "      width: 32px;\n",
              "    }\n",
              "\n",
              "    .colab-df-convert:hover {\n",
              "      background-color: #E2EBFA;\n",
              "      box-shadow: 0px 1px 2px rgba(60, 64, 67, 0.3), 0px 1px 3px 1px rgba(60, 64, 67, 0.15);\n",
              "      fill: #174EA6;\n",
              "    }\n",
              "\n",
              "    [theme=dark] .colab-df-convert {\n",
              "      background-color: #3B4455;\n",
              "      fill: #D2E3FC;\n",
              "    }\n",
              "\n",
              "    [theme=dark] .colab-df-convert:hover {\n",
              "      background-color: #434B5C;\n",
              "      box-shadow: 0px 1px 3px 1px rgba(0, 0, 0, 0.15);\n",
              "      filter: drop-shadow(0px 1px 2px rgba(0, 0, 0, 0.3));\n",
              "      fill: #FFFFFF;\n",
              "    }\n",
              "  </style>\n",
              "\n",
              "      <script>\n",
              "        const buttonEl =\n",
              "          document.querySelector('#df-85d42d72-7290-4d3a-b06f-9ac19c3608b5 button.colab-df-convert');\n",
              "        buttonEl.style.display =\n",
              "          google.colab.kernel.accessAllowed ? 'block' : 'none';\n",
              "\n",
              "        async function convertToInteractive(key) {\n",
              "          const element = document.querySelector('#df-85d42d72-7290-4d3a-b06f-9ac19c3608b5');\n",
              "          const dataTable =\n",
              "            await google.colab.kernel.invokeFunction('convertToInteractive',\n",
              "                                                     [key], {});\n",
              "          if (!dataTable) return;\n",
              "\n",
              "          const docLinkHtml = 'Like what you see? Visit the ' +\n",
              "            '<a target=\"_blank\" href=https://colab.research.google.com/notebooks/data_table.ipynb>data table notebook</a>'\n",
              "            + ' to learn more about interactive tables.';\n",
              "          element.innerHTML = '';\n",
              "          dataTable['output_type'] = 'display_data';\n",
              "          await google.colab.output.renderOutput(dataTable, element);\n",
              "          const docLink = document.createElement('div');\n",
              "          docLink.innerHTML = docLinkHtml;\n",
              "          element.appendChild(docLink);\n",
              "        }\n",
              "      </script>\n",
              "    </div>\n",
              "  </div>\n",
              "  "
            ],
            "text/plain": [
              "      linear_train  linear_test  ridge_train  ridge_test  ridge_cv_train  \\\n",
              "R2        0.882940     0.877028     0.816034    0.812492        0.879144   \n",
              "mae       1.163276     1.228325     1.409496    1.448459        1.189737   \n",
              "mse       2.944704     3.378565     4.627747    5.151661        3.040184   \n",
              "rmse      1.716014     1.838087     2.151220    2.269727        1.743612   \n",
              "\n",
              "      ridge_cv_test  lasso_train  lasso_test  \n",
              "R2         0.868172     0.123966    0.122134  \n",
              "mae        1.263949     3.041904    3.221916  \n",
              "mse        3.621874    22.036991   24.118765  \n",
              "rmse       1.903122     4.694357    4.911086  "
            ]
          },
          "metadata": {},
          "execution_count": 109
        }
      ]
    },
    {
      "cell_type": "code",
      "source": [
        "model = Lasso(alpha=1, random_state=42)\n",
        "scores = cross_validate(model, X_train_scaled, y_train,\n",
        "                        scoring=['r2', 'neg_mean_absolute_error','neg_mean_squared_error','neg_root_mean_squared_error'], cv=10)"
      ],
      "metadata": {
        "id": "j98dXTRaR8eH"
      },
      "execution_count": 110,
      "outputs": []
    },
    {
      "cell_type": "code",
      "source": [
        "pd.DataFrame(scores, index = range(1, 11))"
      ],
      "metadata": {
        "colab": {
          "base_uri": "https://localhost:8080/",
          "height": 363
        },
        "id": "zuwKBENDR_cc",
        "outputId": "8e20b74d-f41b-4e55-9312-cbbda7db54ed"
      },
      "execution_count": 111,
      "outputs": [
        {
          "output_type": "execute_result",
          "data": {
            "text/html": [
              "\n",
              "  <div id=\"df-28b6ff9a-0fa6-4996-b61d-85fdda873ad3\">\n",
              "    <div class=\"colab-df-container\">\n",
              "      <div>\n",
              "<style scoped>\n",
              "    .dataframe tbody tr th:only-of-type {\n",
              "        vertical-align: middle;\n",
              "    }\n",
              "\n",
              "    .dataframe tbody tr th {\n",
              "        vertical-align: top;\n",
              "    }\n",
              "\n",
              "    .dataframe thead th {\n",
              "        text-align: right;\n",
              "    }\n",
              "</style>\n",
              "<table border=\"1\" class=\"dataframe\">\n",
              "  <thead>\n",
              "    <tr style=\"text-align: right;\">\n",
              "      <th></th>\n",
              "      <th>fit_time</th>\n",
              "      <th>score_time</th>\n",
              "      <th>test_r2</th>\n",
              "      <th>test_neg_mean_absolute_error</th>\n",
              "      <th>test_neg_mean_squared_error</th>\n",
              "      <th>test_neg_root_mean_squared_error</th>\n",
              "    </tr>\n",
              "  </thead>\n",
              "  <tbody>\n",
              "    <tr>\n",
              "      <th>1</th>\n",
              "      <td>0.001812</td>\n",
              "      <td>0.002134</td>\n",
              "      <td>0.137569</td>\n",
              "      <td>-3.438456</td>\n",
              "      <td>-21.274996</td>\n",
              "      <td>-4.612483</td>\n",
              "    </tr>\n",
              "    <tr>\n",
              "      <th>2</th>\n",
              "      <td>0.002056</td>\n",
              "      <td>0.002274</td>\n",
              "      <td>0.007171</td>\n",
              "      <td>-5.052171</td>\n",
              "      <td>-64.836703</td>\n",
              "      <td>-8.052124</td>\n",
              "    </tr>\n",
              "    <tr>\n",
              "      <th>3</th>\n",
              "      <td>0.001845</td>\n",
              "      <td>0.001261</td>\n",
              "      <td>-0.106482</td>\n",
              "      <td>-2.594865</td>\n",
              "      <td>-7.942858</td>\n",
              "      <td>-2.818308</td>\n",
              "    </tr>\n",
              "    <tr>\n",
              "      <th>4</th>\n",
              "      <td>0.001164</td>\n",
              "      <td>0.001234</td>\n",
              "      <td>0.256573</td>\n",
              "      <td>-2.409981</td>\n",
              "      <td>-8.470278</td>\n",
              "      <td>-2.910374</td>\n",
              "    </tr>\n",
              "    <tr>\n",
              "      <th>5</th>\n",
              "      <td>0.001101</td>\n",
              "      <td>0.001176</td>\n",
              "      <td>0.123385</td>\n",
              "      <td>-2.791489</td>\n",
              "      <td>-19.181910</td>\n",
              "      <td>-4.379716</td>\n",
              "    </tr>\n",
              "    <tr>\n",
              "      <th>6</th>\n",
              "      <td>0.001053</td>\n",
              "      <td>0.001208</td>\n",
              "      <td>0.156772</td>\n",
              "      <td>-2.428900</td>\n",
              "      <td>-14.223030</td>\n",
              "      <td>-3.771343</td>\n",
              "    </tr>\n",
              "    <tr>\n",
              "      <th>7</th>\n",
              "      <td>0.001039</td>\n",
              "      <td>0.001220</td>\n",
              "      <td>0.028783</td>\n",
              "      <td>-3.422057</td>\n",
              "      <td>-43.153372</td>\n",
              "      <td>-6.569123</td>\n",
              "    </tr>\n",
              "    <tr>\n",
              "      <th>8</th>\n",
              "      <td>0.001018</td>\n",
              "      <td>0.001163</td>\n",
              "      <td>-0.169668</td>\n",
              "      <td>-2.676915</td>\n",
              "      <td>-12.814631</td>\n",
              "      <td>-3.579753</td>\n",
              "    </tr>\n",
              "    <tr>\n",
              "      <th>9</th>\n",
              "      <td>0.001050</td>\n",
              "      <td>0.001302</td>\n",
              "      <td>0.029453</td>\n",
              "      <td>-3.786762</td>\n",
              "      <td>-25.771496</td>\n",
              "      <td>-5.076563</td>\n",
              "    </tr>\n",
              "    <tr>\n",
              "      <th>10</th>\n",
              "      <td>0.001075</td>\n",
              "      <td>0.001181</td>\n",
              "      <td>0.273551</td>\n",
              "      <td>-2.252116</td>\n",
              "      <td>-6.984388</td>\n",
              "      <td>-2.642799</td>\n",
              "    </tr>\n",
              "  </tbody>\n",
              "</table>\n",
              "</div>\n",
              "      <button class=\"colab-df-convert\" onclick=\"convertToInteractive('df-28b6ff9a-0fa6-4996-b61d-85fdda873ad3')\"\n",
              "              title=\"Convert this dataframe to an interactive table.\"\n",
              "              style=\"display:none;\">\n",
              "        \n",
              "  <svg xmlns=\"http://www.w3.org/2000/svg\" height=\"24px\"viewBox=\"0 0 24 24\"\n",
              "       width=\"24px\">\n",
              "    <path d=\"M0 0h24v24H0V0z\" fill=\"none\"/>\n",
              "    <path d=\"M18.56 5.44l.94 2.06.94-2.06 2.06-.94-2.06-.94-.94-2.06-.94 2.06-2.06.94zm-11 1L8.5 8.5l.94-2.06 2.06-.94-2.06-.94L8.5 2.5l-.94 2.06-2.06.94zm10 10l.94 2.06.94-2.06 2.06-.94-2.06-.94-.94-2.06-.94 2.06-2.06.94z\"/><path d=\"M17.41 7.96l-1.37-1.37c-.4-.4-.92-.59-1.43-.59-.52 0-1.04.2-1.43.59L10.3 9.45l-7.72 7.72c-.78.78-.78 2.05 0 2.83L4 21.41c.39.39.9.59 1.41.59.51 0 1.02-.2 1.41-.59l7.78-7.78 2.81-2.81c.8-.78.8-2.07 0-2.86zM5.41 20L4 18.59l7.72-7.72 1.47 1.35L5.41 20z\"/>\n",
              "  </svg>\n",
              "      </button>\n",
              "      \n",
              "  <style>\n",
              "    .colab-df-container {\n",
              "      display:flex;\n",
              "      flex-wrap:wrap;\n",
              "      gap: 12px;\n",
              "    }\n",
              "\n",
              "    .colab-df-convert {\n",
              "      background-color: #E8F0FE;\n",
              "      border: none;\n",
              "      border-radius: 50%;\n",
              "      cursor: pointer;\n",
              "      display: none;\n",
              "      fill: #1967D2;\n",
              "      height: 32px;\n",
              "      padding: 0 0 0 0;\n",
              "      width: 32px;\n",
              "    }\n",
              "\n",
              "    .colab-df-convert:hover {\n",
              "      background-color: #E2EBFA;\n",
              "      box-shadow: 0px 1px 2px rgba(60, 64, 67, 0.3), 0px 1px 3px 1px rgba(60, 64, 67, 0.15);\n",
              "      fill: #174EA6;\n",
              "    }\n",
              "\n",
              "    [theme=dark] .colab-df-convert {\n",
              "      background-color: #3B4455;\n",
              "      fill: #D2E3FC;\n",
              "    }\n",
              "\n",
              "    [theme=dark] .colab-df-convert:hover {\n",
              "      background-color: #434B5C;\n",
              "      box-shadow: 0px 1px 3px 1px rgba(0, 0, 0, 0.15);\n",
              "      filter: drop-shadow(0px 1px 2px rgba(0, 0, 0, 0.3));\n",
              "      fill: #FFFFFF;\n",
              "    }\n",
              "  </style>\n",
              "\n",
              "      <script>\n",
              "        const buttonEl =\n",
              "          document.querySelector('#df-28b6ff9a-0fa6-4996-b61d-85fdda873ad3 button.colab-df-convert');\n",
              "        buttonEl.style.display =\n",
              "          google.colab.kernel.accessAllowed ? 'block' : 'none';\n",
              "\n",
              "        async function convertToInteractive(key) {\n",
              "          const element = document.querySelector('#df-28b6ff9a-0fa6-4996-b61d-85fdda873ad3');\n",
              "          const dataTable =\n",
              "            await google.colab.kernel.invokeFunction('convertToInteractive',\n",
              "                                                     [key], {});\n",
              "          if (!dataTable) return;\n",
              "\n",
              "          const docLinkHtml = 'Like what you see? Visit the ' +\n",
              "            '<a target=\"_blank\" href=https://colab.research.google.com/notebooks/data_table.ipynb>data table notebook</a>'\n",
              "            + ' to learn more about interactive tables.';\n",
              "          element.innerHTML = '';\n",
              "          dataTable['output_type'] = 'display_data';\n",
              "          await google.colab.output.renderOutput(dataTable, element);\n",
              "          const docLink = document.createElement('div');\n",
              "          docLink.innerHTML = docLinkHtml;\n",
              "          element.appendChild(docLink);\n",
              "        }\n",
              "      </script>\n",
              "    </div>\n",
              "  </div>\n",
              "  "
            ],
            "text/plain": [
              "    fit_time  score_time   test_r2  test_neg_mean_absolute_error  \\\n",
              "1   0.001812    0.002134  0.137569                     -3.438456   \n",
              "2   0.002056    0.002274  0.007171                     -5.052171   \n",
              "3   0.001845    0.001261 -0.106482                     -2.594865   \n",
              "4   0.001164    0.001234  0.256573                     -2.409981   \n",
              "5   0.001101    0.001176  0.123385                     -2.791489   \n",
              "6   0.001053    0.001208  0.156772                     -2.428900   \n",
              "7   0.001039    0.001220  0.028783                     -3.422057   \n",
              "8   0.001018    0.001163 -0.169668                     -2.676915   \n",
              "9   0.001050    0.001302  0.029453                     -3.786762   \n",
              "10  0.001075    0.001181  0.273551                     -2.252116   \n",
              "\n",
              "    test_neg_mean_squared_error  test_neg_root_mean_squared_error  \n",
              "1                    -21.274996                         -4.612483  \n",
              "2                    -64.836703                         -8.052124  \n",
              "3                     -7.942858                         -2.818308  \n",
              "4                     -8.470278                         -2.910374  \n",
              "5                    -19.181910                         -4.379716  \n",
              "6                    -14.223030                         -3.771343  \n",
              "7                    -43.153372                         -6.569123  \n",
              "8                    -12.814631                         -3.579753  \n",
              "9                    -25.771496                         -5.076563  \n",
              "10                    -6.984388                         -2.642799  "
            ]
          },
          "metadata": {},
          "execution_count": 111
        }
      ]
    },
    {
      "cell_type": "code",
      "source": [
        "scores = pd.DataFrame(scores, index = range(1, 11))\n",
        "scores.iloc[:,2:].mean()"
      ],
      "metadata": {
        "colab": {
          "base_uri": "https://localhost:8080/"
        },
        "id": "vvZaopgzSCNS",
        "outputId": "e6f21e1b-4573-4b52-e0f1-ef3870e4512b"
      },
      "execution_count": 112,
      "outputs": [
        {
          "output_type": "execute_result",
          "data": {
            "text/plain": [
              "test_r2                              0.073711\n",
              "test_neg_mean_absolute_error        -3.085371\n",
              "test_neg_mean_squared_error        -22.465366\n",
              "test_neg_root_mean_squared_error    -4.441259\n",
              "dtype: float64"
            ]
          },
          "metadata": {},
          "execution_count": 112
        }
      ]
    },
    {
      "cell_type": "code",
      "source": [
        "lasso_model.coef_"
      ],
      "metadata": {
        "colab": {
          "base_uri": "https://localhost:8080/"
        },
        "id": "PzfITMLDiI68",
        "outputId": "9e9b08f3-5752-4c9f-aa5b-147099a6c7c6"
      },
      "execution_count": 130,
      "outputs": [
        {
          "output_type": "execute_result",
          "data": {
            "text/plain": [
              "array([ 0.        ,  0.        , -0.        , -0.        , -0.        ,\n",
              "        0.        , -0.        , -1.35031466])"
            ]
          },
          "metadata": {},
          "execution_count": 130
        }
      ]
    },
    {
      "cell_type": "code",
      "source": [
        "lasso_cv_model = LassoCV( cv = 10, max_iter=100000, random_state=42)"
      ],
      "metadata": {
        "id": "8NVGsHJqSJsB"
      },
      "execution_count": 114,
      "outputs": []
    },
    {
      "cell_type": "code",
      "source": [
        "lasso_cv_model.fit(X_train_scaled, y_train)"
      ],
      "metadata": {
        "colab": {
          "base_uri": "https://localhost:8080/"
        },
        "id": "QYOBLI1xSNRn",
        "outputId": "7c8f66bd-e53e-44ef-cdf7-09d0b6f1d0b1"
      },
      "execution_count": 115,
      "outputs": [
        {
          "output_type": "execute_result",
          "data": {
            "text/plain": [
              "LassoCV(cv=10, max_iter=100000, random_state=42)"
            ]
          },
          "metadata": {},
          "execution_count": 115
        }
      ]
    },
    {
      "cell_type": "code",
      "source": [
        "lasso_cv_model.alpha_"
      ],
      "metadata": {
        "colab": {
          "base_uri": "https://localhost:8080/"
        },
        "id": "D9_2tAGJSP-M",
        "outputId": "7f827913-9310-4b60-f072-bb81856c409c"
      },
      "execution_count": 116,
      "outputs": [
        {
          "output_type": "execute_result",
          "data": {
            "text/plain": [
              "0.026309006079107855"
            ]
          },
          "metadata": {},
          "execution_count": 116
        }
      ]
    },
    {
      "cell_type": "code",
      "source": [
        "lasso_cv_model.mse_path_[-1].mean()"
      ],
      "metadata": {
        "colab": {
          "base_uri": "https://localhost:8080/"
        },
        "id": "V-37go7RSUtY",
        "outputId": "de5e976b-84bd-4758-8ada-564e5582f646"
      },
      "execution_count": 117,
      "outputs": [
        {
          "output_type": "execute_result",
          "data": {
            "text/plain": [
              "4.094498599479063"
            ]
          },
          "metadata": {},
          "execution_count": 117
        }
      ]
    },
    {
      "cell_type": "code",
      "source": [
        "y_pred = lasso_cv_model.predict(X_test_scaled)  \n",
        "y_train_pred = lasso_cv_model.predict(X_train_scaled)"
      ],
      "metadata": {
        "id": "LeY0p1N4SW0K"
      },
      "execution_count": 118,
      "outputs": []
    },
    {
      "cell_type": "code",
      "source": [
        "lcs = train_val(y_train, y_train_pred, y_test, y_pred, \"lasso_cv\")\n",
        "lcs"
      ],
      "metadata": {
        "colab": {
          "base_uri": "https://localhost:8080/",
          "height": 174
        },
        "id": "QHSxdPajSYzA",
        "outputId": "eaef969b-9ecb-4dfe-db3a-89f59c7ee68e"
      },
      "execution_count": 119,
      "outputs": [
        {
          "output_type": "execute_result",
          "data": {
            "text/html": [
              "\n",
              "  <div id=\"df-9593c368-4bcf-4231-9b2a-d12519ecee56\">\n",
              "    <div class=\"colab-df-container\">\n",
              "      <div>\n",
              "<style scoped>\n",
              "    .dataframe tbody tr th:only-of-type {\n",
              "        vertical-align: middle;\n",
              "    }\n",
              "\n",
              "    .dataframe tbody tr th {\n",
              "        vertical-align: top;\n",
              "    }\n",
              "\n",
              "    .dataframe thead th {\n",
              "        text-align: right;\n",
              "    }\n",
              "</style>\n",
              "<table border=\"1\" class=\"dataframe\">\n",
              "  <thead>\n",
              "    <tr style=\"text-align: right;\">\n",
              "      <th></th>\n",
              "      <th>lasso_cv_train</th>\n",
              "      <th>lasso_cv_test</th>\n",
              "    </tr>\n",
              "  </thead>\n",
              "  <tbody>\n",
              "    <tr>\n",
              "      <th>R2</th>\n",
              "      <td>0.874045</td>\n",
              "      <td>0.865978</td>\n",
              "    </tr>\n",
              "    <tr>\n",
              "      <th>mae</th>\n",
              "      <td>1.172058</td>\n",
              "      <td>1.248272</td>\n",
              "    </tr>\n",
              "    <tr>\n",
              "      <th>mse</th>\n",
              "      <td>3.168459</td>\n",
              "      <td>3.682173</td>\n",
              "    </tr>\n",
              "    <tr>\n",
              "      <th>rmse</th>\n",
              "      <td>1.780017</td>\n",
              "      <td>1.918899</td>\n",
              "    </tr>\n",
              "  </tbody>\n",
              "</table>\n",
              "</div>\n",
              "      <button class=\"colab-df-convert\" onclick=\"convertToInteractive('df-9593c368-4bcf-4231-9b2a-d12519ecee56')\"\n",
              "              title=\"Convert this dataframe to an interactive table.\"\n",
              "              style=\"display:none;\">\n",
              "        \n",
              "  <svg xmlns=\"http://www.w3.org/2000/svg\" height=\"24px\"viewBox=\"0 0 24 24\"\n",
              "       width=\"24px\">\n",
              "    <path d=\"M0 0h24v24H0V0z\" fill=\"none\"/>\n",
              "    <path d=\"M18.56 5.44l.94 2.06.94-2.06 2.06-.94-2.06-.94-.94-2.06-.94 2.06-2.06.94zm-11 1L8.5 8.5l.94-2.06 2.06-.94-2.06-.94L8.5 2.5l-.94 2.06-2.06.94zm10 10l.94 2.06.94-2.06 2.06-.94-2.06-.94-.94-2.06-.94 2.06-2.06.94z\"/><path d=\"M17.41 7.96l-1.37-1.37c-.4-.4-.92-.59-1.43-.59-.52 0-1.04.2-1.43.59L10.3 9.45l-7.72 7.72c-.78.78-.78 2.05 0 2.83L4 21.41c.39.39.9.59 1.41.59.51 0 1.02-.2 1.41-.59l7.78-7.78 2.81-2.81c.8-.78.8-2.07 0-2.86zM5.41 20L4 18.59l7.72-7.72 1.47 1.35L5.41 20z\"/>\n",
              "  </svg>\n",
              "      </button>\n",
              "      \n",
              "  <style>\n",
              "    .colab-df-container {\n",
              "      display:flex;\n",
              "      flex-wrap:wrap;\n",
              "      gap: 12px;\n",
              "    }\n",
              "\n",
              "    .colab-df-convert {\n",
              "      background-color: #E8F0FE;\n",
              "      border: none;\n",
              "      border-radius: 50%;\n",
              "      cursor: pointer;\n",
              "      display: none;\n",
              "      fill: #1967D2;\n",
              "      height: 32px;\n",
              "      padding: 0 0 0 0;\n",
              "      width: 32px;\n",
              "    }\n",
              "\n",
              "    .colab-df-convert:hover {\n",
              "      background-color: #E2EBFA;\n",
              "      box-shadow: 0px 1px 2px rgba(60, 64, 67, 0.3), 0px 1px 3px 1px rgba(60, 64, 67, 0.15);\n",
              "      fill: #174EA6;\n",
              "    }\n",
              "\n",
              "    [theme=dark] .colab-df-convert {\n",
              "      background-color: #3B4455;\n",
              "      fill: #D2E3FC;\n",
              "    }\n",
              "\n",
              "    [theme=dark] .colab-df-convert:hover {\n",
              "      background-color: #434B5C;\n",
              "      box-shadow: 0px 1px 3px 1px rgba(0, 0, 0, 0.15);\n",
              "      filter: drop-shadow(0px 1px 2px rgba(0, 0, 0, 0.3));\n",
              "      fill: #FFFFFF;\n",
              "    }\n",
              "  </style>\n",
              "\n",
              "      <script>\n",
              "        const buttonEl =\n",
              "          document.querySelector('#df-9593c368-4bcf-4231-9b2a-d12519ecee56 button.colab-df-convert');\n",
              "        buttonEl.style.display =\n",
              "          google.colab.kernel.accessAllowed ? 'block' : 'none';\n",
              "\n",
              "        async function convertToInteractive(key) {\n",
              "          const element = document.querySelector('#df-9593c368-4bcf-4231-9b2a-d12519ecee56');\n",
              "          const dataTable =\n",
              "            await google.colab.kernel.invokeFunction('convertToInteractive',\n",
              "                                                     [key], {});\n",
              "          if (!dataTable) return;\n",
              "\n",
              "          const docLinkHtml = 'Like what you see? Visit the ' +\n",
              "            '<a target=\"_blank\" href=https://colab.research.google.com/notebooks/data_table.ipynb>data table notebook</a>'\n",
              "            + ' to learn more about interactive tables.';\n",
              "          element.innerHTML = '';\n",
              "          dataTable['output_type'] = 'display_data';\n",
              "          await google.colab.output.renderOutput(dataTable, element);\n",
              "          const docLink = document.createElement('div');\n",
              "          docLink.innerHTML = docLinkHtml;\n",
              "          element.appendChild(docLink);\n",
              "        }\n",
              "      </script>\n",
              "    </div>\n",
              "  </div>\n",
              "  "
            ],
            "text/plain": [
              "      lasso_cv_train  lasso_cv_test\n",
              "R2          0.874045       0.865978\n",
              "mae         1.172058       1.248272\n",
              "mse         3.168459       3.682173\n",
              "rmse        1.780017       1.918899"
            ]
          },
          "metadata": {},
          "execution_count": 119
        }
      ]
    },
    {
      "cell_type": "code",
      "source": [
        "pd.concat([ls,rs, rcs, lss, lcs], axis = 1)"
      ],
      "metadata": {
        "colab": {
          "base_uri": "https://localhost:8080/",
          "height": 174
        },
        "id": "A7ZYdHz3Scx3",
        "outputId": "92ec121f-84f5-40b7-9f4f-83ad5b25718c"
      },
      "execution_count": 120,
      "outputs": [
        {
          "output_type": "execute_result",
          "data": {
            "text/html": [
              "\n",
              "  <div id=\"df-06b1e362-a3f7-46db-a572-360e2a1f4338\">\n",
              "    <div class=\"colab-df-container\">\n",
              "      <div>\n",
              "<style scoped>\n",
              "    .dataframe tbody tr th:only-of-type {\n",
              "        vertical-align: middle;\n",
              "    }\n",
              "\n",
              "    .dataframe tbody tr th {\n",
              "        vertical-align: top;\n",
              "    }\n",
              "\n",
              "    .dataframe thead th {\n",
              "        text-align: right;\n",
              "    }\n",
              "</style>\n",
              "<table border=\"1\" class=\"dataframe\">\n",
              "  <thead>\n",
              "    <tr style=\"text-align: right;\">\n",
              "      <th></th>\n",
              "      <th>linear_train</th>\n",
              "      <th>linear_test</th>\n",
              "      <th>ridge_train</th>\n",
              "      <th>ridge_test</th>\n",
              "      <th>ridge_cv_train</th>\n",
              "      <th>ridge_cv_test</th>\n",
              "      <th>lasso_train</th>\n",
              "      <th>lasso_test</th>\n",
              "      <th>lasso_cv_train</th>\n",
              "      <th>lasso_cv_test</th>\n",
              "    </tr>\n",
              "  </thead>\n",
              "  <tbody>\n",
              "    <tr>\n",
              "      <th>R2</th>\n",
              "      <td>0.882940</td>\n",
              "      <td>0.877028</td>\n",
              "      <td>0.816034</td>\n",
              "      <td>0.812492</td>\n",
              "      <td>0.879144</td>\n",
              "      <td>0.868172</td>\n",
              "      <td>0.123966</td>\n",
              "      <td>0.122134</td>\n",
              "      <td>0.874045</td>\n",
              "      <td>0.865978</td>\n",
              "    </tr>\n",
              "    <tr>\n",
              "      <th>mae</th>\n",
              "      <td>1.163276</td>\n",
              "      <td>1.228325</td>\n",
              "      <td>1.409496</td>\n",
              "      <td>1.448459</td>\n",
              "      <td>1.189737</td>\n",
              "      <td>1.263949</td>\n",
              "      <td>3.041904</td>\n",
              "      <td>3.221916</td>\n",
              "      <td>1.172058</td>\n",
              "      <td>1.248272</td>\n",
              "    </tr>\n",
              "    <tr>\n",
              "      <th>mse</th>\n",
              "      <td>2.944704</td>\n",
              "      <td>3.378565</td>\n",
              "      <td>4.627747</td>\n",
              "      <td>5.151661</td>\n",
              "      <td>3.040184</td>\n",
              "      <td>3.621874</td>\n",
              "      <td>22.036991</td>\n",
              "      <td>24.118765</td>\n",
              "      <td>3.168459</td>\n",
              "      <td>3.682173</td>\n",
              "    </tr>\n",
              "    <tr>\n",
              "      <th>rmse</th>\n",
              "      <td>1.716014</td>\n",
              "      <td>1.838087</td>\n",
              "      <td>2.151220</td>\n",
              "      <td>2.269727</td>\n",
              "      <td>1.743612</td>\n",
              "      <td>1.903122</td>\n",
              "      <td>4.694357</td>\n",
              "      <td>4.911086</td>\n",
              "      <td>1.780017</td>\n",
              "      <td>1.918899</td>\n",
              "    </tr>\n",
              "  </tbody>\n",
              "</table>\n",
              "</div>\n",
              "      <button class=\"colab-df-convert\" onclick=\"convertToInteractive('df-06b1e362-a3f7-46db-a572-360e2a1f4338')\"\n",
              "              title=\"Convert this dataframe to an interactive table.\"\n",
              "              style=\"display:none;\">\n",
              "        \n",
              "  <svg xmlns=\"http://www.w3.org/2000/svg\" height=\"24px\"viewBox=\"0 0 24 24\"\n",
              "       width=\"24px\">\n",
              "    <path d=\"M0 0h24v24H0V0z\" fill=\"none\"/>\n",
              "    <path d=\"M18.56 5.44l.94 2.06.94-2.06 2.06-.94-2.06-.94-.94-2.06-.94 2.06-2.06.94zm-11 1L8.5 8.5l.94-2.06 2.06-.94-2.06-.94L8.5 2.5l-.94 2.06-2.06.94zm10 10l.94 2.06.94-2.06 2.06-.94-2.06-.94-.94-2.06-.94 2.06-2.06.94z\"/><path d=\"M17.41 7.96l-1.37-1.37c-.4-.4-.92-.59-1.43-.59-.52 0-1.04.2-1.43.59L10.3 9.45l-7.72 7.72c-.78.78-.78 2.05 0 2.83L4 21.41c.39.39.9.59 1.41.59.51 0 1.02-.2 1.41-.59l7.78-7.78 2.81-2.81c.8-.78.8-2.07 0-2.86zM5.41 20L4 18.59l7.72-7.72 1.47 1.35L5.41 20z\"/>\n",
              "  </svg>\n",
              "      </button>\n",
              "      \n",
              "  <style>\n",
              "    .colab-df-container {\n",
              "      display:flex;\n",
              "      flex-wrap:wrap;\n",
              "      gap: 12px;\n",
              "    }\n",
              "\n",
              "    .colab-df-convert {\n",
              "      background-color: #E8F0FE;\n",
              "      border: none;\n",
              "      border-radius: 50%;\n",
              "      cursor: pointer;\n",
              "      display: none;\n",
              "      fill: #1967D2;\n",
              "      height: 32px;\n",
              "      padding: 0 0 0 0;\n",
              "      width: 32px;\n",
              "    }\n",
              "\n",
              "    .colab-df-convert:hover {\n",
              "      background-color: #E2EBFA;\n",
              "      box-shadow: 0px 1px 2px rgba(60, 64, 67, 0.3), 0px 1px 3px 1px rgba(60, 64, 67, 0.15);\n",
              "      fill: #174EA6;\n",
              "    }\n",
              "\n",
              "    [theme=dark] .colab-df-convert {\n",
              "      background-color: #3B4455;\n",
              "      fill: #D2E3FC;\n",
              "    }\n",
              "\n",
              "    [theme=dark] .colab-df-convert:hover {\n",
              "      background-color: #434B5C;\n",
              "      box-shadow: 0px 1px 3px 1px rgba(0, 0, 0, 0.15);\n",
              "      filter: drop-shadow(0px 1px 2px rgba(0, 0, 0, 0.3));\n",
              "      fill: #FFFFFF;\n",
              "    }\n",
              "  </style>\n",
              "\n",
              "      <script>\n",
              "        const buttonEl =\n",
              "          document.querySelector('#df-06b1e362-a3f7-46db-a572-360e2a1f4338 button.colab-df-convert');\n",
              "        buttonEl.style.display =\n",
              "          google.colab.kernel.accessAllowed ? 'block' : 'none';\n",
              "\n",
              "        async function convertToInteractive(key) {\n",
              "          const element = document.querySelector('#df-06b1e362-a3f7-46db-a572-360e2a1f4338');\n",
              "          const dataTable =\n",
              "            await google.colab.kernel.invokeFunction('convertToInteractive',\n",
              "                                                     [key], {});\n",
              "          if (!dataTable) return;\n",
              "\n",
              "          const docLinkHtml = 'Like what you see? Visit the ' +\n",
              "            '<a target=\"_blank\" href=https://colab.research.google.com/notebooks/data_table.ipynb>data table notebook</a>'\n",
              "            + ' to learn more about interactive tables.';\n",
              "          element.innerHTML = '';\n",
              "          dataTable['output_type'] = 'display_data';\n",
              "          await google.colab.output.renderOutput(dataTable, element);\n",
              "          const docLink = document.createElement('div');\n",
              "          docLink.innerHTML = docLinkHtml;\n",
              "          element.appendChild(docLink);\n",
              "        }\n",
              "      </script>\n",
              "    </div>\n",
              "  </div>\n",
              "  "
            ],
            "text/plain": [
              "      linear_train  linear_test  ridge_train  ridge_test  ridge_cv_train  \\\n",
              "R2        0.882940     0.877028     0.816034    0.812492        0.879144   \n",
              "mae       1.163276     1.228325     1.409496    1.448459        1.189737   \n",
              "mse       2.944704     3.378565     4.627747    5.151661        3.040184   \n",
              "rmse      1.716014     1.838087     2.151220    2.269727        1.743612   \n",
              "\n",
              "      ridge_cv_test  lasso_train  lasso_test  lasso_cv_train  lasso_cv_test  \n",
              "R2         0.868172     0.123966    0.122134        0.874045       0.865978  \n",
              "mae        1.263949     3.041904    3.221916        1.172058       1.248272  \n",
              "mse        3.621874    22.036991   24.118765        3.168459       3.682173  \n",
              "rmse       1.903122     4.694357    4.911086        1.780017       1.918899  "
            ]
          },
          "metadata": {},
          "execution_count": 120
        }
      ]
    },
    {
      "cell_type": "code",
      "source": [
        "lasso_cv_model.coef_"
      ],
      "metadata": {
        "colab": {
          "base_uri": "https://localhost:8080/"
        },
        "id": "6lF3bAgkShdw",
        "outputId": "b7c6179f-5c27-4e79-be87-c528481262f2"
      },
      "execution_count": 129,
      "outputs": [
        {
          "output_type": "execute_result",
          "data": {
            "text/plain": [
              "array([34.88180738, -0.        , -0.        , -5.16702536, -1.46368763,\n",
              "        1.91399766, -0.        , -1.5334208 ])"
            ]
          },
          "metadata": {},
          "execution_count": 129
        }
      ]
    },
    {
      "cell_type": "markdown",
      "metadata": {
        "id": "26QEobIEbV9X"
      },
      "source": [
        "## Elastic-Net "
      ]
    },
    {
      "cell_type": "code",
      "metadata": {
        "id": "hIgltF9YbV9Y"
      },
      "source": [
        "from sklearn.linear_model import ElasticNet, ElasticNetCV"
      ],
      "execution_count": 152,
      "outputs": []
    },
    {
      "cell_type": "code",
      "source": [
        "elastic_model = ElasticNet(alpha=1, l1_ratio=0.5, random_state=42)\n",
        "elastic_model.fit(X_train_scaled, y_train)"
      ],
      "metadata": {
        "colab": {
          "base_uri": "https://localhost:8080/"
        },
        "id": "r2Mlrg-iSlSM",
        "outputId": "aa358835-7870-4aa2-afd8-f82a0ce2d930"
      },
      "execution_count": 153,
      "outputs": [
        {
          "output_type": "execute_result",
          "data": {
            "text/plain": [
              "ElasticNet(alpha=1, random_state=42)"
            ]
          },
          "metadata": {},
          "execution_count": 153
        }
      ]
    },
    {
      "cell_type": "code",
      "source": [
        "y_pred = elastic_model.predict(X_test_scaled)\n",
        "y_train_pred = elastic_model.predict(X_train_scaled)"
      ],
      "metadata": {
        "id": "c8Ojz1VzSrXc"
      },
      "execution_count": 154,
      "outputs": []
    },
    {
      "cell_type": "code",
      "source": [
        "es = train_val(y_train, y_train_pred, y_test, y_pred, \"elastic\")\n",
        "es"
      ],
      "metadata": {
        "colab": {
          "base_uri": "https://localhost:8080/",
          "height": 174
        },
        "id": "jt1N6EIUStlW",
        "outputId": "567f2891-b720-4966-fe7b-bfe5726e61fc"
      },
      "execution_count": 155,
      "outputs": [
        {
          "output_type": "execute_result",
          "data": {
            "text/html": [
              "\n",
              "  <div id=\"df-a9f47dfa-74ab-4342-a229-a88e285df1fb\">\n",
              "    <div class=\"colab-df-container\">\n",
              "      <div>\n",
              "<style scoped>\n",
              "    .dataframe tbody tr th:only-of-type {\n",
              "        vertical-align: middle;\n",
              "    }\n",
              "\n",
              "    .dataframe tbody tr th {\n",
              "        vertical-align: top;\n",
              "    }\n",
              "\n",
              "    .dataframe thead th {\n",
              "        text-align: right;\n",
              "    }\n",
              "</style>\n",
              "<table border=\"1\" class=\"dataframe\">\n",
              "  <thead>\n",
              "    <tr style=\"text-align: right;\">\n",
              "      <th></th>\n",
              "      <th>elastic_train</th>\n",
              "      <th>elastic_test</th>\n",
              "    </tr>\n",
              "  </thead>\n",
              "  <tbody>\n",
              "    <tr>\n",
              "      <th>R2</th>\n",
              "      <td>0.184431</td>\n",
              "      <td>0.192168</td>\n",
              "    </tr>\n",
              "    <tr>\n",
              "      <th>mae</th>\n",
              "      <td>2.976123</td>\n",
              "      <td>3.073580</td>\n",
              "    </tr>\n",
              "    <tr>\n",
              "      <th>mse</th>\n",
              "      <td>20.515987</td>\n",
              "      <td>22.194625</td>\n",
              "    </tr>\n",
              "    <tr>\n",
              "      <th>rmse</th>\n",
              "      <td>4.529458</td>\n",
              "      <td>4.711117</td>\n",
              "    </tr>\n",
              "  </tbody>\n",
              "</table>\n",
              "</div>\n",
              "      <button class=\"colab-df-convert\" onclick=\"convertToInteractive('df-a9f47dfa-74ab-4342-a229-a88e285df1fb')\"\n",
              "              title=\"Convert this dataframe to an interactive table.\"\n",
              "              style=\"display:none;\">\n",
              "        \n",
              "  <svg xmlns=\"http://www.w3.org/2000/svg\" height=\"24px\"viewBox=\"0 0 24 24\"\n",
              "       width=\"24px\">\n",
              "    <path d=\"M0 0h24v24H0V0z\" fill=\"none\"/>\n",
              "    <path d=\"M18.56 5.44l.94 2.06.94-2.06 2.06-.94-2.06-.94-.94-2.06-.94 2.06-2.06.94zm-11 1L8.5 8.5l.94-2.06 2.06-.94-2.06-.94L8.5 2.5l-.94 2.06-2.06.94zm10 10l.94 2.06.94-2.06 2.06-.94-2.06-.94-.94-2.06-.94 2.06-2.06.94z\"/><path d=\"M17.41 7.96l-1.37-1.37c-.4-.4-.92-.59-1.43-.59-.52 0-1.04.2-1.43.59L10.3 9.45l-7.72 7.72c-.78.78-.78 2.05 0 2.83L4 21.41c.39.39.9.59 1.41.59.51 0 1.02-.2 1.41-.59l7.78-7.78 2.81-2.81c.8-.78.8-2.07 0-2.86zM5.41 20L4 18.59l7.72-7.72 1.47 1.35L5.41 20z\"/>\n",
              "  </svg>\n",
              "      </button>\n",
              "      \n",
              "  <style>\n",
              "    .colab-df-container {\n",
              "      display:flex;\n",
              "      flex-wrap:wrap;\n",
              "      gap: 12px;\n",
              "    }\n",
              "\n",
              "    .colab-df-convert {\n",
              "      background-color: #E8F0FE;\n",
              "      border: none;\n",
              "      border-radius: 50%;\n",
              "      cursor: pointer;\n",
              "      display: none;\n",
              "      fill: #1967D2;\n",
              "      height: 32px;\n",
              "      padding: 0 0 0 0;\n",
              "      width: 32px;\n",
              "    }\n",
              "\n",
              "    .colab-df-convert:hover {\n",
              "      background-color: #E2EBFA;\n",
              "      box-shadow: 0px 1px 2px rgba(60, 64, 67, 0.3), 0px 1px 3px 1px rgba(60, 64, 67, 0.15);\n",
              "      fill: #174EA6;\n",
              "    }\n",
              "\n",
              "    [theme=dark] .colab-df-convert {\n",
              "      background-color: #3B4455;\n",
              "      fill: #D2E3FC;\n",
              "    }\n",
              "\n",
              "    [theme=dark] .colab-df-convert:hover {\n",
              "      background-color: #434B5C;\n",
              "      box-shadow: 0px 1px 3px 1px rgba(0, 0, 0, 0.15);\n",
              "      filter: drop-shadow(0px 1px 2px rgba(0, 0, 0, 0.3));\n",
              "      fill: #FFFFFF;\n",
              "    }\n",
              "  </style>\n",
              "\n",
              "      <script>\n",
              "        const buttonEl =\n",
              "          document.querySelector('#df-a9f47dfa-74ab-4342-a229-a88e285df1fb button.colab-df-convert');\n",
              "        buttonEl.style.display =\n",
              "          google.colab.kernel.accessAllowed ? 'block' : 'none';\n",
              "\n",
              "        async function convertToInteractive(key) {\n",
              "          const element = document.querySelector('#df-a9f47dfa-74ab-4342-a229-a88e285df1fb');\n",
              "          const dataTable =\n",
              "            await google.colab.kernel.invokeFunction('convertToInteractive',\n",
              "                                                     [key], {});\n",
              "          if (!dataTable) return;\n",
              "\n",
              "          const docLinkHtml = 'Like what you see? Visit the ' +\n",
              "            '<a target=\"_blank\" href=https://colab.research.google.com/notebooks/data_table.ipynb>data table notebook</a>'\n",
              "            + ' to learn more about interactive tables.';\n",
              "          element.innerHTML = '';\n",
              "          dataTable['output_type'] = 'display_data';\n",
              "          await google.colab.output.renderOutput(dataTable, element);\n",
              "          const docLink = document.createElement('div');\n",
              "          docLink.innerHTML = docLinkHtml;\n",
              "          element.appendChild(docLink);\n",
              "        }\n",
              "      </script>\n",
              "    </div>\n",
              "  </div>\n",
              "  "
            ],
            "text/plain": [
              "      elastic_train  elastic_test\n",
              "R2         0.184431      0.192168\n",
              "mae        2.976123      3.073580\n",
              "mse       20.515987     22.194625\n",
              "rmse       4.529458      4.711117"
            ]
          },
          "metadata": {},
          "execution_count": 155
        }
      ]
    },
    {
      "cell_type": "code",
      "source": [
        "pd.concat([ls,rs, rcs, lss, lcs, es], axis = 1)"
      ],
      "metadata": {
        "colab": {
          "base_uri": "https://localhost:8080/",
          "height": 239
        },
        "id": "NsJhN0xoS74G",
        "outputId": "3aa9cabe-5da0-47ad-949c-f0470b5a7bdf"
      },
      "execution_count": 126,
      "outputs": [
        {
          "output_type": "execute_result",
          "data": {
            "text/html": [
              "\n",
              "  <div id=\"df-c262c25b-37fc-47cf-83f2-379ed8e4f083\">\n",
              "    <div class=\"colab-df-container\">\n",
              "      <div>\n",
              "<style scoped>\n",
              "    .dataframe tbody tr th:only-of-type {\n",
              "        vertical-align: middle;\n",
              "    }\n",
              "\n",
              "    .dataframe tbody tr th {\n",
              "        vertical-align: top;\n",
              "    }\n",
              "\n",
              "    .dataframe thead th {\n",
              "        text-align: right;\n",
              "    }\n",
              "</style>\n",
              "<table border=\"1\" class=\"dataframe\">\n",
              "  <thead>\n",
              "    <tr style=\"text-align: right;\">\n",
              "      <th></th>\n",
              "      <th>linear_train</th>\n",
              "      <th>linear_test</th>\n",
              "      <th>ridge_train</th>\n",
              "      <th>ridge_test</th>\n",
              "      <th>ridge_cv_train</th>\n",
              "      <th>ridge_cv_test</th>\n",
              "      <th>lasso_train</th>\n",
              "      <th>lasso_test</th>\n",
              "      <th>lasso_cv_train</th>\n",
              "      <th>lasso_cv_test</th>\n",
              "      <th>elastic_train</th>\n",
              "      <th>elastic_test</th>\n",
              "    </tr>\n",
              "  </thead>\n",
              "  <tbody>\n",
              "    <tr>\n",
              "      <th>R2</th>\n",
              "      <td>0.882940</td>\n",
              "      <td>0.877028</td>\n",
              "      <td>0.816034</td>\n",
              "      <td>0.812492</td>\n",
              "      <td>0.879144</td>\n",
              "      <td>0.868172</td>\n",
              "      <td>0.123966</td>\n",
              "      <td>0.122134</td>\n",
              "      <td>0.874045</td>\n",
              "      <td>0.865978</td>\n",
              "      <td>0.184431</td>\n",
              "      <td>0.192168</td>\n",
              "    </tr>\n",
              "    <tr>\n",
              "      <th>mae</th>\n",
              "      <td>1.163276</td>\n",
              "      <td>1.228325</td>\n",
              "      <td>1.409496</td>\n",
              "      <td>1.448459</td>\n",
              "      <td>1.189737</td>\n",
              "      <td>1.263949</td>\n",
              "      <td>3.041904</td>\n",
              "      <td>3.221916</td>\n",
              "      <td>1.172058</td>\n",
              "      <td>1.248272</td>\n",
              "      <td>2.976123</td>\n",
              "      <td>3.073580</td>\n",
              "    </tr>\n",
              "    <tr>\n",
              "      <th>mse</th>\n",
              "      <td>2.944704</td>\n",
              "      <td>3.378565</td>\n",
              "      <td>4.627747</td>\n",
              "      <td>5.151661</td>\n",
              "      <td>3.040184</td>\n",
              "      <td>3.621874</td>\n",
              "      <td>22.036991</td>\n",
              "      <td>24.118765</td>\n",
              "      <td>3.168459</td>\n",
              "      <td>3.682173</td>\n",
              "      <td>20.515987</td>\n",
              "      <td>22.194625</td>\n",
              "    </tr>\n",
              "    <tr>\n",
              "      <th>rmse</th>\n",
              "      <td>1.716014</td>\n",
              "      <td>1.838087</td>\n",
              "      <td>2.151220</td>\n",
              "      <td>2.269727</td>\n",
              "      <td>1.743612</td>\n",
              "      <td>1.903122</td>\n",
              "      <td>4.694357</td>\n",
              "      <td>4.911086</td>\n",
              "      <td>1.780017</td>\n",
              "      <td>1.918899</td>\n",
              "      <td>4.529458</td>\n",
              "      <td>4.711117</td>\n",
              "    </tr>\n",
              "  </tbody>\n",
              "</table>\n",
              "</div>\n",
              "      <button class=\"colab-df-convert\" onclick=\"convertToInteractive('df-c262c25b-37fc-47cf-83f2-379ed8e4f083')\"\n",
              "              title=\"Convert this dataframe to an interactive table.\"\n",
              "              style=\"display:none;\">\n",
              "        \n",
              "  <svg xmlns=\"http://www.w3.org/2000/svg\" height=\"24px\"viewBox=\"0 0 24 24\"\n",
              "       width=\"24px\">\n",
              "    <path d=\"M0 0h24v24H0V0z\" fill=\"none\"/>\n",
              "    <path d=\"M18.56 5.44l.94 2.06.94-2.06 2.06-.94-2.06-.94-.94-2.06-.94 2.06-2.06.94zm-11 1L8.5 8.5l.94-2.06 2.06-.94-2.06-.94L8.5 2.5l-.94 2.06-2.06.94zm10 10l.94 2.06.94-2.06 2.06-.94-2.06-.94-.94-2.06-.94 2.06-2.06.94z\"/><path d=\"M17.41 7.96l-1.37-1.37c-.4-.4-.92-.59-1.43-.59-.52 0-1.04.2-1.43.59L10.3 9.45l-7.72 7.72c-.78.78-.78 2.05 0 2.83L4 21.41c.39.39.9.59 1.41.59.51 0 1.02-.2 1.41-.59l7.78-7.78 2.81-2.81c.8-.78.8-2.07 0-2.86zM5.41 20L4 18.59l7.72-7.72 1.47 1.35L5.41 20z\"/>\n",
              "  </svg>\n",
              "      </button>\n",
              "      \n",
              "  <style>\n",
              "    .colab-df-container {\n",
              "      display:flex;\n",
              "      flex-wrap:wrap;\n",
              "      gap: 12px;\n",
              "    }\n",
              "\n",
              "    .colab-df-convert {\n",
              "      background-color: #E8F0FE;\n",
              "      border: none;\n",
              "      border-radius: 50%;\n",
              "      cursor: pointer;\n",
              "      display: none;\n",
              "      fill: #1967D2;\n",
              "      height: 32px;\n",
              "      padding: 0 0 0 0;\n",
              "      width: 32px;\n",
              "    }\n",
              "\n",
              "    .colab-df-convert:hover {\n",
              "      background-color: #E2EBFA;\n",
              "      box-shadow: 0px 1px 2px rgba(60, 64, 67, 0.3), 0px 1px 3px 1px rgba(60, 64, 67, 0.15);\n",
              "      fill: #174EA6;\n",
              "    }\n",
              "\n",
              "    [theme=dark] .colab-df-convert {\n",
              "      background-color: #3B4455;\n",
              "      fill: #D2E3FC;\n",
              "    }\n",
              "\n",
              "    [theme=dark] .colab-df-convert:hover {\n",
              "      background-color: #434B5C;\n",
              "      box-shadow: 0px 1px 3px 1px rgba(0, 0, 0, 0.15);\n",
              "      filter: drop-shadow(0px 1px 2px rgba(0, 0, 0, 0.3));\n",
              "      fill: #FFFFFF;\n",
              "    }\n",
              "  </style>\n",
              "\n",
              "      <script>\n",
              "        const buttonEl =\n",
              "          document.querySelector('#df-c262c25b-37fc-47cf-83f2-379ed8e4f083 button.colab-df-convert');\n",
              "        buttonEl.style.display =\n",
              "          google.colab.kernel.accessAllowed ? 'block' : 'none';\n",
              "\n",
              "        async function convertToInteractive(key) {\n",
              "          const element = document.querySelector('#df-c262c25b-37fc-47cf-83f2-379ed8e4f083');\n",
              "          const dataTable =\n",
              "            await google.colab.kernel.invokeFunction('convertToInteractive',\n",
              "                                                     [key], {});\n",
              "          if (!dataTable) return;\n",
              "\n",
              "          const docLinkHtml = 'Like what you see? Visit the ' +\n",
              "            '<a target=\"_blank\" href=https://colab.research.google.com/notebooks/data_table.ipynb>data table notebook</a>'\n",
              "            + ' to learn more about interactive tables.';\n",
              "          element.innerHTML = '';\n",
              "          dataTable['output_type'] = 'display_data';\n",
              "          await google.colab.output.renderOutput(dataTable, element);\n",
              "          const docLink = document.createElement('div');\n",
              "          docLink.innerHTML = docLinkHtml;\n",
              "          element.appendChild(docLink);\n",
              "        }\n",
              "      </script>\n",
              "    </div>\n",
              "  </div>\n",
              "  "
            ],
            "text/plain": [
              "      linear_train  linear_test  ridge_train  ridge_test  ridge_cv_train  \\\n",
              "R2        0.882940     0.877028     0.816034    0.812492        0.879144   \n",
              "mae       1.163276     1.228325     1.409496    1.448459        1.189737   \n",
              "mse       2.944704     3.378565     4.627747    5.151661        3.040184   \n",
              "rmse      1.716014     1.838087     2.151220    2.269727        1.743612   \n",
              "\n",
              "      ridge_cv_test  lasso_train  lasso_test  lasso_cv_train  lasso_cv_test  \\\n",
              "R2         0.868172     0.123966    0.122134        0.874045       0.865978   \n",
              "mae        1.263949     3.041904    3.221916        1.172058       1.248272   \n",
              "mse        3.621874    22.036991   24.118765        3.168459       3.682173   \n",
              "rmse       1.903122     4.694357    4.911086        1.780017       1.918899   \n",
              "\n",
              "      elastic_train  elastic_test  \n",
              "R2         0.184431      0.192168  \n",
              "mae        2.976123      3.073580  \n",
              "mse       20.515987     22.194625  \n",
              "rmse       4.529458      4.711117  "
            ]
          },
          "metadata": {},
          "execution_count": 126
        }
      ]
    },
    {
      "cell_type": "markdown",
      "source": [
        "Choosing best alpha and l1_ratio values with Cross-Validation"
      ],
      "metadata": {
        "id": "cgHSAVyukZ8t"
      }
    },
    {
      "cell_type": "code",
      "source": [
        "elastic_cv_model = ElasticNetCV(alphas = alpha_space, l1_ratio=[0.1, 0.5, 0.7,0.9, 0.95, 1], cv = 10, \n",
        "                                max_iter = 100000,random_state=42)"
      ],
      "metadata": {
        "id": "BZJ-zkzgmzX3"
      },
      "execution_count": 182,
      "outputs": []
    },
    {
      "cell_type": "code",
      "source": [
        "elastic_cv_model.fit(X_train_scaled, y_train)"
      ],
      "metadata": {
        "colab": {
          "base_uri": "https://localhost:8080/"
        },
        "id": "R5B1DA7dnBDa",
        "outputId": "9022f316-b3be-43ca-dd18-8312842182e7"
      },
      "execution_count": 183,
      "outputs": [
        {
          "output_type": "execute_result",
          "data": {
            "text/plain": [
              "ElasticNetCV(alphas=array([0.1       , 0.10909091, 0.11818182, 0.12727273, 0.13636364,\n",
              "       0.14545455, 0.15454545, 0.16363636, 0.17272727, 0.18181818,\n",
              "       0.19090909, 0.2       , 0.20909091, 0.21818182, 0.22727273,\n",
              "       0.23636364, 0.24545455, 0.25454545, 0.26363636, 0.27272727,\n",
              "       0.28181818, 0.29090909, 0.3       , 0.30909091, 0.31818182,\n",
              "       0.32727273, 0.33636364, 0.34545455, 0.35454545, 0.36363636,\n",
              "       0.37272727, 0.3...\n",
              "       0.73636364, 0.74545455, 0.75454545, 0.76363636, 0.77272727,\n",
              "       0.78181818, 0.79090909, 0.8       , 0.80909091, 0.81818182,\n",
              "       0.82727273, 0.83636364, 0.84545455, 0.85454545, 0.86363636,\n",
              "       0.87272727, 0.88181818, 0.89090909, 0.9       , 0.90909091,\n",
              "       0.91818182, 0.92727273, 0.93636364, 0.94545455, 0.95454545,\n",
              "       0.96363636, 0.97272727, 0.98181818, 0.99090909, 1.        ]),\n",
              "             cv=10, l1_ratio=[0.1, 0.5, 0.7, 0.9, 0.95, 1], max_iter=100000,\n",
              "             random_state=42)"
            ]
          },
          "metadata": {},
          "execution_count": 183
        }
      ]
    },
    {
      "cell_type": "code",
      "source": [
        "elastic_cv_model.alpha_"
      ],
      "metadata": {
        "colab": {
          "base_uri": "https://localhost:8080/"
        },
        "id": "SDTdYHbMnFiy",
        "outputId": "0b4add2f-bfbe-41eb-e87c-1c02f115b34c"
      },
      "execution_count": 184,
      "outputs": [
        {
          "output_type": "execute_result",
          "data": {
            "text/plain": [
              "0.1"
            ]
          },
          "metadata": {},
          "execution_count": 184
        }
      ]
    },
    {
      "cell_type": "code",
      "source": [
        "elastic_cv_model.l1_ratio_"
      ],
      "metadata": {
        "colab": {
          "base_uri": "https://localhost:8080/"
        },
        "id": "4RmWcZZ8n2rc",
        "outputId": "e6ae1282-125b-4170-86ce-253db6e722e5"
      },
      "execution_count": 185,
      "outputs": [
        {
          "output_type": "execute_result",
          "data": {
            "text/plain": [
              "1.0"
            ]
          },
          "metadata": {},
          "execution_count": 185
        }
      ]
    },
    {
      "cell_type": "code",
      "source": [
        "elastic_cv_model.mse_path_[5][-1].mean()"
      ],
      "metadata": {
        "colab": {
          "base_uri": "https://localhost:8080/"
        },
        "id": "molCkM29nKG0",
        "outputId": "ada71962-0523-419d-8f98-70e6f381b5c8"
      },
      "execution_count": 186,
      "outputs": [
        {
          "output_type": "execute_result",
          "data": {
            "text/plain": [
              "6.385158908692639"
            ]
          },
          "metadata": {},
          "execution_count": 186
        }
      ]
    },
    {
      "cell_type": "code",
      "source": [
        "y_pred = elastic_cv_model.predict(X_test_scaled)\n",
        "y_train_pred = elastic_cv_model.predict(X_train_scaled)"
      ],
      "metadata": {
        "id": "oL0vsRWMnSFk"
      },
      "execution_count": 187,
      "outputs": []
    },
    {
      "cell_type": "code",
      "source": [
        "ecs = train_val(y_train, y_train_pred, y_test, y_pred, \"elastic_cv\")\n",
        "ecs"
      ],
      "metadata": {
        "colab": {
          "base_uri": "https://localhost:8080/",
          "height": 174
        },
        "id": "nGCHEIAIn_HO",
        "outputId": "b2a71dc6-2987-4cca-92ff-f2b89edf45f2"
      },
      "execution_count": 188,
      "outputs": [
        {
          "output_type": "execute_result",
          "data": {
            "text/html": [
              "\n",
              "  <div id=\"df-32e4cc85-a87a-457e-9bab-1297fd049d35\">\n",
              "    <div class=\"colab-df-container\">\n",
              "      <div>\n",
              "<style scoped>\n",
              "    .dataframe tbody tr th:only-of-type {\n",
              "        vertical-align: middle;\n",
              "    }\n",
              "\n",
              "    .dataframe tbody tr th {\n",
              "        vertical-align: top;\n",
              "    }\n",
              "\n",
              "    .dataframe thead th {\n",
              "        text-align: right;\n",
              "    }\n",
              "</style>\n",
              "<table border=\"1\" class=\"dataframe\">\n",
              "  <thead>\n",
              "    <tr style=\"text-align: right;\">\n",
              "      <th></th>\n",
              "      <th>elastic_cv_train</th>\n",
              "      <th>elastic_cv_test</th>\n",
              "    </tr>\n",
              "  </thead>\n",
              "  <tbody>\n",
              "    <tr>\n",
              "      <th>R2</th>\n",
              "      <td>0.814563</td>\n",
              "      <td>0.795535</td>\n",
              "    </tr>\n",
              "    <tr>\n",
              "      <th>mae</th>\n",
              "      <td>1.348979</td>\n",
              "      <td>1.429285</td>\n",
              "    </tr>\n",
              "    <tr>\n",
              "      <th>mse</th>\n",
              "      <td>4.664753</td>\n",
              "      <td>5.617544</td>\n",
              "    </tr>\n",
              "    <tr>\n",
              "      <th>rmse</th>\n",
              "      <td>2.159804</td>\n",
              "      <td>2.370136</td>\n",
              "    </tr>\n",
              "  </tbody>\n",
              "</table>\n",
              "</div>\n",
              "      <button class=\"colab-df-convert\" onclick=\"convertToInteractive('df-32e4cc85-a87a-457e-9bab-1297fd049d35')\"\n",
              "              title=\"Convert this dataframe to an interactive table.\"\n",
              "              style=\"display:none;\">\n",
              "        \n",
              "  <svg xmlns=\"http://www.w3.org/2000/svg\" height=\"24px\"viewBox=\"0 0 24 24\"\n",
              "       width=\"24px\">\n",
              "    <path d=\"M0 0h24v24H0V0z\" fill=\"none\"/>\n",
              "    <path d=\"M18.56 5.44l.94 2.06.94-2.06 2.06-.94-2.06-.94-.94-2.06-.94 2.06-2.06.94zm-11 1L8.5 8.5l.94-2.06 2.06-.94-2.06-.94L8.5 2.5l-.94 2.06-2.06.94zm10 10l.94 2.06.94-2.06 2.06-.94-2.06-.94-.94-2.06-.94 2.06-2.06.94z\"/><path d=\"M17.41 7.96l-1.37-1.37c-.4-.4-.92-.59-1.43-.59-.52 0-1.04.2-1.43.59L10.3 9.45l-7.72 7.72c-.78.78-.78 2.05 0 2.83L4 21.41c.39.39.9.59 1.41.59.51 0 1.02-.2 1.41-.59l7.78-7.78 2.81-2.81c.8-.78.8-2.07 0-2.86zM5.41 20L4 18.59l7.72-7.72 1.47 1.35L5.41 20z\"/>\n",
              "  </svg>\n",
              "      </button>\n",
              "      \n",
              "  <style>\n",
              "    .colab-df-container {\n",
              "      display:flex;\n",
              "      flex-wrap:wrap;\n",
              "      gap: 12px;\n",
              "    }\n",
              "\n",
              "    .colab-df-convert {\n",
              "      background-color: #E8F0FE;\n",
              "      border: none;\n",
              "      border-radius: 50%;\n",
              "      cursor: pointer;\n",
              "      display: none;\n",
              "      fill: #1967D2;\n",
              "      height: 32px;\n",
              "      padding: 0 0 0 0;\n",
              "      width: 32px;\n",
              "    }\n",
              "\n",
              "    .colab-df-convert:hover {\n",
              "      background-color: #E2EBFA;\n",
              "      box-shadow: 0px 1px 2px rgba(60, 64, 67, 0.3), 0px 1px 3px 1px rgba(60, 64, 67, 0.15);\n",
              "      fill: #174EA6;\n",
              "    }\n",
              "\n",
              "    [theme=dark] .colab-df-convert {\n",
              "      background-color: #3B4455;\n",
              "      fill: #D2E3FC;\n",
              "    }\n",
              "\n",
              "    [theme=dark] .colab-df-convert:hover {\n",
              "      background-color: #434B5C;\n",
              "      box-shadow: 0px 1px 3px 1px rgba(0, 0, 0, 0.15);\n",
              "      filter: drop-shadow(0px 1px 2px rgba(0, 0, 0, 0.3));\n",
              "      fill: #FFFFFF;\n",
              "    }\n",
              "  </style>\n",
              "\n",
              "      <script>\n",
              "        const buttonEl =\n",
              "          document.querySelector('#df-32e4cc85-a87a-457e-9bab-1297fd049d35 button.colab-df-convert');\n",
              "        buttonEl.style.display =\n",
              "          google.colab.kernel.accessAllowed ? 'block' : 'none';\n",
              "\n",
              "        async function convertToInteractive(key) {\n",
              "          const element = document.querySelector('#df-32e4cc85-a87a-457e-9bab-1297fd049d35');\n",
              "          const dataTable =\n",
              "            await google.colab.kernel.invokeFunction('convertToInteractive',\n",
              "                                                     [key], {});\n",
              "          if (!dataTable) return;\n",
              "\n",
              "          const docLinkHtml = 'Like what you see? Visit the ' +\n",
              "            '<a target=\"_blank\" href=https://colab.research.google.com/notebooks/data_table.ipynb>data table notebook</a>'\n",
              "            + ' to learn more about interactive tables.';\n",
              "          element.innerHTML = '';\n",
              "          dataTable['output_type'] = 'display_data';\n",
              "          await google.colab.output.renderOutput(dataTable, element);\n",
              "          const docLink = document.createElement('div');\n",
              "          docLink.innerHTML = docLinkHtml;\n",
              "          element.appendChild(docLink);\n",
              "        }\n",
              "      </script>\n",
              "    </div>\n",
              "  </div>\n",
              "  "
            ],
            "text/plain": [
              "      elastic_cv_train  elastic_cv_test\n",
              "R2            0.814563         0.795535\n",
              "mae           1.348979         1.429285\n",
              "mse           4.664753         5.617544\n",
              "rmse          2.159804         2.370136"
            ]
          },
          "metadata": {},
          "execution_count": 188
        }
      ]
    },
    {
      "cell_type": "code",
      "source": [
        "pd.concat([ls,rs, rcs, lss, lcs, es, ecs], axis = 1)"
      ],
      "metadata": {
        "colab": {
          "base_uri": "https://localhost:8080/",
          "height": 239
        },
        "id": "gqq6CvSDoCVT",
        "outputId": "bf09fd6d-d1f0-4c9a-ff4d-0c6b0bf93155"
      },
      "execution_count": 189,
      "outputs": [
        {
          "output_type": "execute_result",
          "data": {
            "text/html": [
              "\n",
              "  <div id=\"df-f85b388e-96c2-411a-a744-367b856315ff\">\n",
              "    <div class=\"colab-df-container\">\n",
              "      <div>\n",
              "<style scoped>\n",
              "    .dataframe tbody tr th:only-of-type {\n",
              "        vertical-align: middle;\n",
              "    }\n",
              "\n",
              "    .dataframe tbody tr th {\n",
              "        vertical-align: top;\n",
              "    }\n",
              "\n",
              "    .dataframe thead th {\n",
              "        text-align: right;\n",
              "    }\n",
              "</style>\n",
              "<table border=\"1\" class=\"dataframe\">\n",
              "  <thead>\n",
              "    <tr style=\"text-align: right;\">\n",
              "      <th></th>\n",
              "      <th>linear_train</th>\n",
              "      <th>linear_test</th>\n",
              "      <th>ridge_train</th>\n",
              "      <th>ridge_test</th>\n",
              "      <th>ridge_cv_train</th>\n",
              "      <th>ridge_cv_test</th>\n",
              "      <th>lasso_train</th>\n",
              "      <th>lasso_test</th>\n",
              "      <th>lasso_cv_train</th>\n",
              "      <th>lasso_cv_test</th>\n",
              "      <th>elastic_train</th>\n",
              "      <th>elastic_test</th>\n",
              "      <th>elastic_cv_train</th>\n",
              "      <th>elastic_cv_test</th>\n",
              "    </tr>\n",
              "  </thead>\n",
              "  <tbody>\n",
              "    <tr>\n",
              "      <th>R2</th>\n",
              "      <td>0.882940</td>\n",
              "      <td>0.877028</td>\n",
              "      <td>0.816034</td>\n",
              "      <td>0.812492</td>\n",
              "      <td>0.879144</td>\n",
              "      <td>0.868172</td>\n",
              "      <td>0.123966</td>\n",
              "      <td>0.122134</td>\n",
              "      <td>0.874045</td>\n",
              "      <td>0.865978</td>\n",
              "      <td>0.184431</td>\n",
              "      <td>0.192168</td>\n",
              "      <td>0.814563</td>\n",
              "      <td>0.795535</td>\n",
              "    </tr>\n",
              "    <tr>\n",
              "      <th>mae</th>\n",
              "      <td>1.163276</td>\n",
              "      <td>1.228325</td>\n",
              "      <td>1.409496</td>\n",
              "      <td>1.448459</td>\n",
              "      <td>1.189737</td>\n",
              "      <td>1.263949</td>\n",
              "      <td>3.041904</td>\n",
              "      <td>3.221916</td>\n",
              "      <td>1.172058</td>\n",
              "      <td>1.248272</td>\n",
              "      <td>2.976123</td>\n",
              "      <td>3.073580</td>\n",
              "      <td>1.348979</td>\n",
              "      <td>1.429285</td>\n",
              "    </tr>\n",
              "    <tr>\n",
              "      <th>mse</th>\n",
              "      <td>2.944704</td>\n",
              "      <td>3.378565</td>\n",
              "      <td>4.627747</td>\n",
              "      <td>5.151661</td>\n",
              "      <td>3.040184</td>\n",
              "      <td>3.621874</td>\n",
              "      <td>22.036991</td>\n",
              "      <td>24.118765</td>\n",
              "      <td>3.168459</td>\n",
              "      <td>3.682173</td>\n",
              "      <td>20.515987</td>\n",
              "      <td>22.194625</td>\n",
              "      <td>4.664753</td>\n",
              "      <td>5.617544</td>\n",
              "    </tr>\n",
              "    <tr>\n",
              "      <th>rmse</th>\n",
              "      <td>1.716014</td>\n",
              "      <td>1.838087</td>\n",
              "      <td>2.151220</td>\n",
              "      <td>2.269727</td>\n",
              "      <td>1.743612</td>\n",
              "      <td>1.903122</td>\n",
              "      <td>4.694357</td>\n",
              "      <td>4.911086</td>\n",
              "      <td>1.780017</td>\n",
              "      <td>1.918899</td>\n",
              "      <td>4.529458</td>\n",
              "      <td>4.711117</td>\n",
              "      <td>2.159804</td>\n",
              "      <td>2.370136</td>\n",
              "    </tr>\n",
              "  </tbody>\n",
              "</table>\n",
              "</div>\n",
              "      <button class=\"colab-df-convert\" onclick=\"convertToInteractive('df-f85b388e-96c2-411a-a744-367b856315ff')\"\n",
              "              title=\"Convert this dataframe to an interactive table.\"\n",
              "              style=\"display:none;\">\n",
              "        \n",
              "  <svg xmlns=\"http://www.w3.org/2000/svg\" height=\"24px\"viewBox=\"0 0 24 24\"\n",
              "       width=\"24px\">\n",
              "    <path d=\"M0 0h24v24H0V0z\" fill=\"none\"/>\n",
              "    <path d=\"M18.56 5.44l.94 2.06.94-2.06 2.06-.94-2.06-.94-.94-2.06-.94 2.06-2.06.94zm-11 1L8.5 8.5l.94-2.06 2.06-.94-2.06-.94L8.5 2.5l-.94 2.06-2.06.94zm10 10l.94 2.06.94-2.06 2.06-.94-2.06-.94-.94-2.06-.94 2.06-2.06.94z\"/><path d=\"M17.41 7.96l-1.37-1.37c-.4-.4-.92-.59-1.43-.59-.52 0-1.04.2-1.43.59L10.3 9.45l-7.72 7.72c-.78.78-.78 2.05 0 2.83L4 21.41c.39.39.9.59 1.41.59.51 0 1.02-.2 1.41-.59l7.78-7.78 2.81-2.81c.8-.78.8-2.07 0-2.86zM5.41 20L4 18.59l7.72-7.72 1.47 1.35L5.41 20z\"/>\n",
              "  </svg>\n",
              "      </button>\n",
              "      \n",
              "  <style>\n",
              "    .colab-df-container {\n",
              "      display:flex;\n",
              "      flex-wrap:wrap;\n",
              "      gap: 12px;\n",
              "    }\n",
              "\n",
              "    .colab-df-convert {\n",
              "      background-color: #E8F0FE;\n",
              "      border: none;\n",
              "      border-radius: 50%;\n",
              "      cursor: pointer;\n",
              "      display: none;\n",
              "      fill: #1967D2;\n",
              "      height: 32px;\n",
              "      padding: 0 0 0 0;\n",
              "      width: 32px;\n",
              "    }\n",
              "\n",
              "    .colab-df-convert:hover {\n",
              "      background-color: #E2EBFA;\n",
              "      box-shadow: 0px 1px 2px rgba(60, 64, 67, 0.3), 0px 1px 3px 1px rgba(60, 64, 67, 0.15);\n",
              "      fill: #174EA6;\n",
              "    }\n",
              "\n",
              "    [theme=dark] .colab-df-convert {\n",
              "      background-color: #3B4455;\n",
              "      fill: #D2E3FC;\n",
              "    }\n",
              "\n",
              "    [theme=dark] .colab-df-convert:hover {\n",
              "      background-color: #434B5C;\n",
              "      box-shadow: 0px 1px 3px 1px rgba(0, 0, 0, 0.15);\n",
              "      filter: drop-shadow(0px 1px 2px rgba(0, 0, 0, 0.3));\n",
              "      fill: #FFFFFF;\n",
              "    }\n",
              "  </style>\n",
              "\n",
              "      <script>\n",
              "        const buttonEl =\n",
              "          document.querySelector('#df-f85b388e-96c2-411a-a744-367b856315ff button.colab-df-convert');\n",
              "        buttonEl.style.display =\n",
              "          google.colab.kernel.accessAllowed ? 'block' : 'none';\n",
              "\n",
              "        async function convertToInteractive(key) {\n",
              "          const element = document.querySelector('#df-f85b388e-96c2-411a-a744-367b856315ff');\n",
              "          const dataTable =\n",
              "            await google.colab.kernel.invokeFunction('convertToInteractive',\n",
              "                                                     [key], {});\n",
              "          if (!dataTable) return;\n",
              "\n",
              "          const docLinkHtml = 'Like what you see? Visit the ' +\n",
              "            '<a target=\"_blank\" href=https://colab.research.google.com/notebooks/data_table.ipynb>data table notebook</a>'\n",
              "            + ' to learn more about interactive tables.';\n",
              "          element.innerHTML = '';\n",
              "          dataTable['output_type'] = 'display_data';\n",
              "          await google.colab.output.renderOutput(dataTable, element);\n",
              "          const docLink = document.createElement('div');\n",
              "          docLink.innerHTML = docLinkHtml;\n",
              "          element.appendChild(docLink);\n",
              "        }\n",
              "      </script>\n",
              "    </div>\n",
              "  </div>\n",
              "  "
            ],
            "text/plain": [
              "      linear_train  linear_test  ridge_train  ridge_test  ridge_cv_train  \\\n",
              "R2        0.882940     0.877028     0.816034    0.812492        0.879144   \n",
              "mae       1.163276     1.228325     1.409496    1.448459        1.189737   \n",
              "mse       2.944704     3.378565     4.627747    5.151661        3.040184   \n",
              "rmse      1.716014     1.838087     2.151220    2.269727        1.743612   \n",
              "\n",
              "      ridge_cv_test  lasso_train  lasso_test  lasso_cv_train  lasso_cv_test  \\\n",
              "R2         0.868172     0.123966    0.122134        0.874045       0.865978   \n",
              "mae        1.263949     3.041904    3.221916        1.172058       1.248272   \n",
              "mse        3.621874    22.036991   24.118765        3.168459       3.682173   \n",
              "rmse       1.903122     4.694357    4.911086        1.780017       1.918899   \n",
              "\n",
              "      elastic_train  elastic_test  elastic_cv_train  elastic_cv_test  \n",
              "R2         0.184431      0.192168          0.814563         0.795535  \n",
              "mae        2.976123      3.073580          1.348979         1.429285  \n",
              "mse       20.515987     22.194625          4.664753         5.617544  \n",
              "rmse       4.529458      4.711117          2.159804         2.370136  "
            ]
          },
          "metadata": {},
          "execution_count": 189
        }
      ]
    },
    {
      "cell_type": "code",
      "source": [
        "elastic_cv_model.coef_"
      ],
      "metadata": {
        "colab": {
          "base_uri": "https://localhost:8080/"
        },
        "id": "cy0tjNi_oG_m",
        "outputId": "97480d59-5199-42bb-9825-14e47eb94726"
      },
      "execution_count": 190,
      "outputs": [
        {
          "output_type": "execute_result",
          "data": {
            "text/plain": [
              "array([23.81229305, -0.        , -0.        , -2.97938024, -1.64756413,\n",
              "        2.46963357, -0.        , -2.20398314])"
            ]
          },
          "metadata": {},
          "execution_count": 190
        }
      ]
    },
    {
      "cell_type": "markdown",
      "source": [
        "Grid Search"
      ],
      "metadata": {
        "id": "Edp0dlmeoNKy"
      }
    },
    {
      "cell_type": "code",
      "source": [
        "from sklearn.model_selection import GridSearchCV"
      ],
      "metadata": {
        "id": "6FWqo0dsoOL2"
      },
      "execution_count": 191,
      "outputs": []
    },
    {
      "cell_type": "code",
      "source": [
        "elastic_model = ElasticNet(max_iter=10000, random_state=42) "
      ],
      "metadata": {
        "id": "pMVYirgjoSLc"
      },
      "execution_count": 192,
      "outputs": []
    },
    {
      "cell_type": "code",
      "source": [
        "param_grid = {\"alpha\":[0.01, 0.012, 0.2, 0.5, 0.6, 0.7, 1],\n",
        "            \"l1_ratio\":[0.1, 0.5, 0.7, 0.9, 0.95, 0.99, 1]}"
      ],
      "metadata": {
        "id": "6wiTJD7roU_v"
      },
      "execution_count": 193,
      "outputs": []
    },
    {
      "cell_type": "code",
      "source": [
        "grid_model = GridSearchCV(estimator = elastic_model, param_grid = param_grid, scoring = 'neg_root_mean_squared_error',\n",
        "                         cv =5, verbose =2)"
      ],
      "metadata": {
        "id": "chbjs2xxoYdn"
      },
      "execution_count": 194,
      "outputs": []
    },
    {
      "cell_type": "code",
      "source": [
        "grid_model.fit(X_train_scaled, y_train)"
      ],
      "metadata": {
        "colab": {
          "base_uri": "https://localhost:8080/"
        },
        "id": "EAYls5b4ob4_",
        "outputId": "e1952376-3583-4490-90ec-cda53b654de0"
      },
      "execution_count": 195,
      "outputs": [
        {
          "output_type": "stream",
          "name": "stdout",
          "text": [
            "Fitting 5 folds for each of 49 candidates, totalling 245 fits\n",
            "[CV] END ...........................alpha=0.01, l1_ratio=0.1; total time=   0.0s\n",
            "[CV] END ...........................alpha=0.01, l1_ratio=0.1; total time=   0.0s\n",
            "[CV] END ...........................alpha=0.01, l1_ratio=0.1; total time=   0.0s\n",
            "[CV] END ...........................alpha=0.01, l1_ratio=0.1; total time=   0.0s\n",
            "[CV] END ...........................alpha=0.01, l1_ratio=0.1; total time=   0.0s\n",
            "[CV] END ...........................alpha=0.01, l1_ratio=0.5; total time=   0.0s\n",
            "[CV] END ...........................alpha=0.01, l1_ratio=0.5; total time=   0.0s\n",
            "[CV] END ...........................alpha=0.01, l1_ratio=0.5; total time=   0.0s\n",
            "[CV] END ...........................alpha=0.01, l1_ratio=0.5; total time=   0.0s\n",
            "[CV] END ...........................alpha=0.01, l1_ratio=0.5; total time=   0.0s\n",
            "[CV] END ...........................alpha=0.01, l1_ratio=0.7; total time=   0.0s\n",
            "[CV] END ...........................alpha=0.01, l1_ratio=0.7; total time=   0.0s\n",
            "[CV] END ...........................alpha=0.01, l1_ratio=0.7; total time=   0.0s\n",
            "[CV] END ...........................alpha=0.01, l1_ratio=0.7; total time=   0.0s\n",
            "[CV] END ...........................alpha=0.01, l1_ratio=0.7; total time=   0.0s\n",
            "[CV] END ...........................alpha=0.01, l1_ratio=0.9; total time=   0.0s\n",
            "[CV] END ...........................alpha=0.01, l1_ratio=0.9; total time=   0.0s\n",
            "[CV] END ...........................alpha=0.01, l1_ratio=0.9; total time=   0.0s\n",
            "[CV] END ...........................alpha=0.01, l1_ratio=0.9; total time=   0.0s\n",
            "[CV] END ...........................alpha=0.01, l1_ratio=0.9; total time=   0.0s\n",
            "[CV] END ..........................alpha=0.01, l1_ratio=0.95; total time=   0.0s\n",
            "[CV] END ..........................alpha=0.01, l1_ratio=0.95; total time=   0.0s\n",
            "[CV] END ..........................alpha=0.01, l1_ratio=0.95; total time=   0.0s\n",
            "[CV] END ..........................alpha=0.01, l1_ratio=0.95; total time=   0.0s\n",
            "[CV] END ..........................alpha=0.01, l1_ratio=0.95; total time=   0.0s\n",
            "[CV] END ..........................alpha=0.01, l1_ratio=0.99; total time=   0.0s\n",
            "[CV] END ..........................alpha=0.01, l1_ratio=0.99; total time=   0.0s\n",
            "[CV] END ..........................alpha=0.01, l1_ratio=0.99; total time=   0.0s\n",
            "[CV] END ..........................alpha=0.01, l1_ratio=0.99; total time=   0.0s\n",
            "[CV] END ..........................alpha=0.01, l1_ratio=0.99; total time=   0.0s\n",
            "[CV] END .............................alpha=0.01, l1_ratio=1; total time=   0.0s\n",
            "[CV] END .............................alpha=0.01, l1_ratio=1; total time=   0.0s\n",
            "[CV] END .............................alpha=0.01, l1_ratio=1; total time=   0.0s\n",
            "[CV] END .............................alpha=0.01, l1_ratio=1; total time=   0.0s\n",
            "[CV] END .............................alpha=0.01, l1_ratio=1; total time=   0.0s\n",
            "[CV] END ..........................alpha=0.012, l1_ratio=0.1; total time=   0.0s\n",
            "[CV] END ..........................alpha=0.012, l1_ratio=0.1; total time=   0.0s\n",
            "[CV] END ..........................alpha=0.012, l1_ratio=0.1; total time=   0.0s\n",
            "[CV] END ..........................alpha=0.012, l1_ratio=0.1; total time=   0.0s\n",
            "[CV] END ..........................alpha=0.012, l1_ratio=0.1; total time=   0.0s\n",
            "[CV] END ..........................alpha=0.012, l1_ratio=0.5; total time=   0.0s\n",
            "[CV] END ..........................alpha=0.012, l1_ratio=0.5; total time=   0.0s\n",
            "[CV] END ..........................alpha=0.012, l1_ratio=0.5; total time=   0.0s\n",
            "[CV] END ..........................alpha=0.012, l1_ratio=0.5; total time=   0.0s\n",
            "[CV] END ..........................alpha=0.012, l1_ratio=0.5; total time=   0.0s\n",
            "[CV] END ..........................alpha=0.012, l1_ratio=0.7; total time=   0.0s\n",
            "[CV] END ..........................alpha=0.012, l1_ratio=0.7; total time=   0.0s\n",
            "[CV] END ..........................alpha=0.012, l1_ratio=0.7; total time=   0.0s\n",
            "[CV] END ..........................alpha=0.012, l1_ratio=0.7; total time=   0.0s\n",
            "[CV] END ..........................alpha=0.012, l1_ratio=0.7; total time=   0.0s\n",
            "[CV] END ..........................alpha=0.012, l1_ratio=0.9; total time=   0.0s\n",
            "[CV] END ..........................alpha=0.012, l1_ratio=0.9; total time=   0.0s\n",
            "[CV] END ..........................alpha=0.012, l1_ratio=0.9; total time=   0.0s\n",
            "[CV] END ..........................alpha=0.012, l1_ratio=0.9; total time=   0.0s\n",
            "[CV] END ..........................alpha=0.012, l1_ratio=0.9; total time=   0.0s\n",
            "[CV] END .........................alpha=0.012, l1_ratio=0.95; total time=   0.0s\n",
            "[CV] END .........................alpha=0.012, l1_ratio=0.95; total time=   0.0s\n",
            "[CV] END .........................alpha=0.012, l1_ratio=0.95; total time=   0.0s\n",
            "[CV] END .........................alpha=0.012, l1_ratio=0.95; total time=   0.0s\n",
            "[CV] END .........................alpha=0.012, l1_ratio=0.95; total time=   0.0s\n",
            "[CV] END .........................alpha=0.012, l1_ratio=0.99; total time=   0.0s\n",
            "[CV] END .........................alpha=0.012, l1_ratio=0.99; total time=   0.0s\n",
            "[CV] END .........................alpha=0.012, l1_ratio=0.99; total time=   0.0s\n",
            "[CV] END .........................alpha=0.012, l1_ratio=0.99; total time=   0.0s\n",
            "[CV] END .........................alpha=0.012, l1_ratio=0.99; total time=   0.0s\n",
            "[CV] END ............................alpha=0.012, l1_ratio=1; total time=   0.0s\n",
            "[CV] END ............................alpha=0.012, l1_ratio=1; total time=   0.0s\n",
            "[CV] END ............................alpha=0.012, l1_ratio=1; total time=   0.0s\n",
            "[CV] END ............................alpha=0.012, l1_ratio=1; total time=   0.0s\n",
            "[CV] END ............................alpha=0.012, l1_ratio=1; total time=   0.0s\n",
            "[CV] END ............................alpha=0.2, l1_ratio=0.1; total time=   0.0s\n",
            "[CV] END ............................alpha=0.2, l1_ratio=0.1; total time=   0.0s\n",
            "[CV] END ............................alpha=0.2, l1_ratio=0.1; total time=   0.0s\n",
            "[CV] END ............................alpha=0.2, l1_ratio=0.1; total time=   0.0s\n",
            "[CV] END ............................alpha=0.2, l1_ratio=0.1; total time=   0.0s\n",
            "[CV] END ............................alpha=0.2, l1_ratio=0.5; total time=   0.0s\n",
            "[CV] END ............................alpha=0.2, l1_ratio=0.5; total time=   0.0s\n",
            "[CV] END ............................alpha=0.2, l1_ratio=0.5; total time=   0.0s\n",
            "[CV] END ............................alpha=0.2, l1_ratio=0.5; total time=   0.0s\n",
            "[CV] END ............................alpha=0.2, l1_ratio=0.5; total time=   0.0s\n",
            "[CV] END ............................alpha=0.2, l1_ratio=0.7; total time=   0.0s\n",
            "[CV] END ............................alpha=0.2, l1_ratio=0.7; total time=   0.0s\n",
            "[CV] END ............................alpha=0.2, l1_ratio=0.7; total time=   0.0s\n",
            "[CV] END ............................alpha=0.2, l1_ratio=0.7; total time=   0.0s\n",
            "[CV] END ............................alpha=0.2, l1_ratio=0.7; total time=   0.0s\n",
            "[CV] END ............................alpha=0.2, l1_ratio=0.9; total time=   0.0s\n",
            "[CV] END ............................alpha=0.2, l1_ratio=0.9; total time=   0.0s\n",
            "[CV] END ............................alpha=0.2, l1_ratio=0.9; total time=   0.0s\n",
            "[CV] END ............................alpha=0.2, l1_ratio=0.9; total time=   0.0s\n",
            "[CV] END ............................alpha=0.2, l1_ratio=0.9; total time=   0.0s\n",
            "[CV] END ...........................alpha=0.2, l1_ratio=0.95; total time=   0.0s\n",
            "[CV] END ...........................alpha=0.2, l1_ratio=0.95; total time=   0.0s\n",
            "[CV] END ...........................alpha=0.2, l1_ratio=0.95; total time=   0.0s\n",
            "[CV] END ...........................alpha=0.2, l1_ratio=0.95; total time=   0.0s\n",
            "[CV] END ...........................alpha=0.2, l1_ratio=0.95; total time=   0.0s\n",
            "[CV] END ...........................alpha=0.2, l1_ratio=0.99; total time=   0.0s\n",
            "[CV] END ...........................alpha=0.2, l1_ratio=0.99; total time=   0.0s\n",
            "[CV] END ...........................alpha=0.2, l1_ratio=0.99; total time=   0.0s\n",
            "[CV] END ...........................alpha=0.2, l1_ratio=0.99; total time=   0.0s\n",
            "[CV] END ...........................alpha=0.2, l1_ratio=0.99; total time=   0.0s\n",
            "[CV] END ..............................alpha=0.2, l1_ratio=1; total time=   0.0s\n",
            "[CV] END ..............................alpha=0.2, l1_ratio=1; total time=   0.0s\n",
            "[CV] END ..............................alpha=0.2, l1_ratio=1; total time=   0.0s\n",
            "[CV] END ..............................alpha=0.2, l1_ratio=1; total time=   0.0s\n",
            "[CV] END ..............................alpha=0.2, l1_ratio=1; total time=   0.0s\n",
            "[CV] END ............................alpha=0.5, l1_ratio=0.1; total time=   0.0s\n",
            "[CV] END ............................alpha=0.5, l1_ratio=0.1; total time=   0.0s\n",
            "[CV] END ............................alpha=0.5, l1_ratio=0.1; total time=   0.0s\n",
            "[CV] END ............................alpha=0.5, l1_ratio=0.1; total time=   0.0s\n",
            "[CV] END ............................alpha=0.5, l1_ratio=0.1; total time=   0.0s\n",
            "[CV] END ............................alpha=0.5, l1_ratio=0.5; total time=   0.0s\n",
            "[CV] END ............................alpha=0.5, l1_ratio=0.5; total time=   0.0s\n",
            "[CV] END ............................alpha=0.5, l1_ratio=0.5; total time=   0.0s\n",
            "[CV] END ............................alpha=0.5, l1_ratio=0.5; total time=   0.0s\n",
            "[CV] END ............................alpha=0.5, l1_ratio=0.5; total time=   0.0s\n",
            "[CV] END ............................alpha=0.5, l1_ratio=0.7; total time=   0.0s\n",
            "[CV] END ............................alpha=0.5, l1_ratio=0.7; total time=   0.0s\n",
            "[CV] END ............................alpha=0.5, l1_ratio=0.7; total time=   0.0s\n",
            "[CV] END ............................alpha=0.5, l1_ratio=0.7; total time=   0.0s\n",
            "[CV] END ............................alpha=0.5, l1_ratio=0.7; total time=   0.0s\n",
            "[CV] END ............................alpha=0.5, l1_ratio=0.9; total time=   0.0s\n",
            "[CV] END ............................alpha=0.5, l1_ratio=0.9; total time=   0.0s\n",
            "[CV] END ............................alpha=0.5, l1_ratio=0.9; total time=   0.0s\n",
            "[CV] END ............................alpha=0.5, l1_ratio=0.9; total time=   0.0s\n",
            "[CV] END ............................alpha=0.5, l1_ratio=0.9; total time=   0.0s\n",
            "[CV] END ...........................alpha=0.5, l1_ratio=0.95; total time=   0.0s\n",
            "[CV] END ...........................alpha=0.5, l1_ratio=0.95; total time=   0.0s\n",
            "[CV] END ...........................alpha=0.5, l1_ratio=0.95; total time=   0.0s\n",
            "[CV] END ...........................alpha=0.5, l1_ratio=0.95; total time=   0.0s\n",
            "[CV] END ...........................alpha=0.5, l1_ratio=0.95; total time=   0.0s\n",
            "[CV] END ...........................alpha=0.5, l1_ratio=0.99; total time=   0.0s\n",
            "[CV] END ...........................alpha=0.5, l1_ratio=0.99; total time=   0.0s\n",
            "[CV] END ...........................alpha=0.5, l1_ratio=0.99; total time=   0.0s\n",
            "[CV] END ...........................alpha=0.5, l1_ratio=0.99; total time=   0.0s\n",
            "[CV] END ...........................alpha=0.5, l1_ratio=0.99; total time=   0.0s\n",
            "[CV] END ..............................alpha=0.5, l1_ratio=1; total time=   0.0s\n",
            "[CV] END ..............................alpha=0.5, l1_ratio=1; total time=   0.0s\n",
            "[CV] END ..............................alpha=0.5, l1_ratio=1; total time=   0.0s\n",
            "[CV] END ..............................alpha=0.5, l1_ratio=1; total time=   0.0s\n",
            "[CV] END ..............................alpha=0.5, l1_ratio=1; total time=   0.0s\n",
            "[CV] END ............................alpha=0.6, l1_ratio=0.1; total time=   0.0s\n",
            "[CV] END ............................alpha=0.6, l1_ratio=0.1; total time=   0.0s\n",
            "[CV] END ............................alpha=0.6, l1_ratio=0.1; total time=   0.0s\n",
            "[CV] END ............................alpha=0.6, l1_ratio=0.1; total time=   0.0s\n",
            "[CV] END ............................alpha=0.6, l1_ratio=0.1; total time=   0.0s\n",
            "[CV] END ............................alpha=0.6, l1_ratio=0.5; total time=   0.0s\n",
            "[CV] END ............................alpha=0.6, l1_ratio=0.5; total time=   0.0s\n",
            "[CV] END ............................alpha=0.6, l1_ratio=0.5; total time=   0.0s\n",
            "[CV] END ............................alpha=0.6, l1_ratio=0.5; total time=   0.0s\n",
            "[CV] END ............................alpha=0.6, l1_ratio=0.5; total time=   0.0s\n",
            "[CV] END ............................alpha=0.6, l1_ratio=0.7; total time=   0.0s\n",
            "[CV] END ............................alpha=0.6, l1_ratio=0.7; total time=   0.0s\n",
            "[CV] END ............................alpha=0.6, l1_ratio=0.7; total time=   0.0s\n",
            "[CV] END ............................alpha=0.6, l1_ratio=0.7; total time=   0.0s\n",
            "[CV] END ............................alpha=0.6, l1_ratio=0.7; total time=   0.0s\n",
            "[CV] END ............................alpha=0.6, l1_ratio=0.9; total time=   0.0s\n",
            "[CV] END ............................alpha=0.6, l1_ratio=0.9; total time=   0.0s\n",
            "[CV] END ............................alpha=0.6, l1_ratio=0.9; total time=   0.0s\n",
            "[CV] END ............................alpha=0.6, l1_ratio=0.9; total time=   0.0s\n",
            "[CV] END ............................alpha=0.6, l1_ratio=0.9; total time=   0.0s\n",
            "[CV] END ...........................alpha=0.6, l1_ratio=0.95; total time=   0.0s\n",
            "[CV] END ...........................alpha=0.6, l1_ratio=0.95; total time=   0.0s\n",
            "[CV] END ...........................alpha=0.6, l1_ratio=0.95; total time=   0.0s\n",
            "[CV] END ...........................alpha=0.6, l1_ratio=0.95; total time=   0.0s\n",
            "[CV] END ...........................alpha=0.6, l1_ratio=0.95; total time=   0.0s\n",
            "[CV] END ...........................alpha=0.6, l1_ratio=0.99; total time=   0.0s\n",
            "[CV] END ...........................alpha=0.6, l1_ratio=0.99; total time=   0.0s\n",
            "[CV] END ...........................alpha=0.6, l1_ratio=0.99; total time=   0.0s\n",
            "[CV] END ...........................alpha=0.6, l1_ratio=0.99; total time=   0.0s\n",
            "[CV] END ...........................alpha=0.6, l1_ratio=0.99; total time=   0.0s\n",
            "[CV] END ..............................alpha=0.6, l1_ratio=1; total time=   0.0s\n",
            "[CV] END ..............................alpha=0.6, l1_ratio=1; total time=   0.0s\n",
            "[CV] END ..............................alpha=0.6, l1_ratio=1; total time=   0.0s\n",
            "[CV] END ..............................alpha=0.6, l1_ratio=1; total time=   0.0s\n",
            "[CV] END ..............................alpha=0.6, l1_ratio=1; total time=   0.0s\n",
            "[CV] END ............................alpha=0.7, l1_ratio=0.1; total time=   0.0s\n",
            "[CV] END ............................alpha=0.7, l1_ratio=0.1; total time=   0.0s\n",
            "[CV] END ............................alpha=0.7, l1_ratio=0.1; total time=   0.0s\n",
            "[CV] END ............................alpha=0.7, l1_ratio=0.1; total time=   0.0s\n",
            "[CV] END ............................alpha=0.7, l1_ratio=0.1; total time=   0.0s\n",
            "[CV] END ............................alpha=0.7, l1_ratio=0.5; total time=   0.0s\n",
            "[CV] END ............................alpha=0.7, l1_ratio=0.5; total time=   0.0s\n",
            "[CV] END ............................alpha=0.7, l1_ratio=0.5; total time=   0.0s\n",
            "[CV] END ............................alpha=0.7, l1_ratio=0.5; total time=   0.0s\n",
            "[CV] END ............................alpha=0.7, l1_ratio=0.5; total time=   0.0s\n",
            "[CV] END ............................alpha=0.7, l1_ratio=0.7; total time=   0.0s\n",
            "[CV] END ............................alpha=0.7, l1_ratio=0.7; total time=   0.0s\n",
            "[CV] END ............................alpha=0.7, l1_ratio=0.7; total time=   0.0s\n",
            "[CV] END ............................alpha=0.7, l1_ratio=0.7; total time=   0.0s\n",
            "[CV] END ............................alpha=0.7, l1_ratio=0.7; total time=   0.0s\n",
            "[CV] END ............................alpha=0.7, l1_ratio=0.9; total time=   0.0s\n",
            "[CV] END ............................alpha=0.7, l1_ratio=0.9; total time=   0.0s\n",
            "[CV] END ............................alpha=0.7, l1_ratio=0.9; total time=   0.0s\n",
            "[CV] END ............................alpha=0.7, l1_ratio=0.9; total time=   0.0s\n",
            "[CV] END ............................alpha=0.7, l1_ratio=0.9; total time=   0.0s\n",
            "[CV] END ...........................alpha=0.7, l1_ratio=0.95; total time=   0.0s\n",
            "[CV] END ...........................alpha=0.7, l1_ratio=0.95; total time=   0.0s\n",
            "[CV] END ...........................alpha=0.7, l1_ratio=0.95; total time=   0.0s\n",
            "[CV] END ...........................alpha=0.7, l1_ratio=0.95; total time=   0.0s\n",
            "[CV] END ...........................alpha=0.7, l1_ratio=0.95; total time=   0.0s\n",
            "[CV] END ...........................alpha=0.7, l1_ratio=0.99; total time=   0.0s\n",
            "[CV] END ...........................alpha=0.7, l1_ratio=0.99; total time=   0.0s\n",
            "[CV] END ...........................alpha=0.7, l1_ratio=0.99; total time=   0.0s\n",
            "[CV] END ...........................alpha=0.7, l1_ratio=0.99; total time=   0.0s\n",
            "[CV] END ...........................alpha=0.7, l1_ratio=0.99; total time=   0.0s\n",
            "[CV] END ..............................alpha=0.7, l1_ratio=1; total time=   0.0s\n",
            "[CV] END ..............................alpha=0.7, l1_ratio=1; total time=   0.0s\n",
            "[CV] END ..............................alpha=0.7, l1_ratio=1; total time=   0.0s\n",
            "[CV] END ..............................alpha=0.7, l1_ratio=1; total time=   0.0s\n",
            "[CV] END ..............................alpha=0.7, l1_ratio=1; total time=   0.0s\n",
            "[CV] END ..............................alpha=1, l1_ratio=0.1; total time=   0.0s\n",
            "[CV] END ..............................alpha=1, l1_ratio=0.1; total time=   0.0s\n",
            "[CV] END ..............................alpha=1, l1_ratio=0.1; total time=   0.0s\n",
            "[CV] END ..............................alpha=1, l1_ratio=0.1; total time=   0.0s\n",
            "[CV] END ..............................alpha=1, l1_ratio=0.1; total time=   0.0s\n",
            "[CV] END ..............................alpha=1, l1_ratio=0.5; total time=   0.0s\n",
            "[CV] END ..............................alpha=1, l1_ratio=0.5; total time=   0.0s\n",
            "[CV] END ..............................alpha=1, l1_ratio=0.5; total time=   0.0s\n",
            "[CV] END ..............................alpha=1, l1_ratio=0.5; total time=   0.0s\n",
            "[CV] END ..............................alpha=1, l1_ratio=0.5; total time=   0.0s\n",
            "[CV] END ..............................alpha=1, l1_ratio=0.7; total time=   0.0s\n",
            "[CV] END ..............................alpha=1, l1_ratio=0.7; total time=   0.0s\n",
            "[CV] END ..............................alpha=1, l1_ratio=0.7; total time=   0.0s\n",
            "[CV] END ..............................alpha=1, l1_ratio=0.7; total time=   0.0s\n",
            "[CV] END ..............................alpha=1, l1_ratio=0.7; total time=   0.0s\n",
            "[CV] END ..............................alpha=1, l1_ratio=0.9; total time=   0.0s\n",
            "[CV] END ..............................alpha=1, l1_ratio=0.9; total time=   0.0s\n",
            "[CV] END ..............................alpha=1, l1_ratio=0.9; total time=   0.0s\n",
            "[CV] END ..............................alpha=1, l1_ratio=0.9; total time=   0.0s\n",
            "[CV] END ..............................alpha=1, l1_ratio=0.9; total time=   0.0s\n",
            "[CV] END .............................alpha=1, l1_ratio=0.95; total time=   0.0s\n",
            "[CV] END .............................alpha=1, l1_ratio=0.95; total time=   0.0s\n",
            "[CV] END .............................alpha=1, l1_ratio=0.95; total time=   0.0s\n",
            "[CV] END .............................alpha=1, l1_ratio=0.95; total time=   0.0s\n",
            "[CV] END .............................alpha=1, l1_ratio=0.95; total time=   0.0s\n",
            "[CV] END .............................alpha=1, l1_ratio=0.99; total time=   0.0s\n",
            "[CV] END .............................alpha=1, l1_ratio=0.99; total time=   0.0s\n",
            "[CV] END .............................alpha=1, l1_ratio=0.99; total time=   0.0s\n",
            "[CV] END .............................alpha=1, l1_ratio=0.99; total time=   0.0s\n",
            "[CV] END .............................alpha=1, l1_ratio=0.99; total time=   0.0s\n",
            "[CV] END ................................alpha=1, l1_ratio=1; total time=   0.0s\n",
            "[CV] END ................................alpha=1, l1_ratio=1; total time=   0.0s\n",
            "[CV] END ................................alpha=1, l1_ratio=1; total time=   0.0s\n",
            "[CV] END ................................alpha=1, l1_ratio=1; total time=   0.0s\n",
            "[CV] END ................................alpha=1, l1_ratio=1; total time=   0.0s\n"
          ]
        },
        {
          "output_type": "execute_result",
          "data": {
            "text/plain": [
              "GridSearchCV(cv=5, estimator=ElasticNet(max_iter=10000, random_state=42),\n",
              "             param_grid={'alpha': [0.01, 0.012, 0.2, 0.5, 0.6, 0.7, 1],\n",
              "                         'l1_ratio': [0.1, 0.5, 0.7, 0.9, 0.95, 0.99, 1]},\n",
              "             scoring='neg_root_mean_squared_error', verbose=2)"
            ]
          },
          "metadata": {},
          "execution_count": 195
        }
      ]
    },
    {
      "cell_type": "code",
      "source": [
        "grid_model.best_params_"
      ],
      "metadata": {
        "colab": {
          "base_uri": "https://localhost:8080/"
        },
        "id": "lt3s7yWOohZZ",
        "outputId": "45c46276-3663-4369-df4f-71d9450c8596"
      },
      "execution_count": 196,
      "outputs": [
        {
          "output_type": "execute_result",
          "data": {
            "text/plain": [
              "{'alpha': 0.012, 'l1_ratio': 0.95}"
            ]
          },
          "metadata": {},
          "execution_count": 196
        }
      ]
    },
    {
      "cell_type": "code",
      "source": [
        "grid_model.best_score_"
      ],
      "metadata": {
        "colab": {
          "base_uri": "https://localhost:8080/"
        },
        "id": "QMcaXG8-os5z",
        "outputId": "d6120c2d-c16b-4950-aba3-f6bd1b861ea1"
      },
      "execution_count": 198,
      "outputs": [
        {
          "output_type": "execute_result",
          "data": {
            "text/plain": [
              "-1.845349373150859"
            ]
          },
          "metadata": {},
          "execution_count": 198
        }
      ]
    },
    {
      "cell_type": "code",
      "source": [
        "y_pred = grid_model.predict(X_test_scaled) \n",
        "y_train_pred = grid_model.predict(X_train_scaled)"
      ],
      "metadata": {
        "id": "A_tCTNkLow3w"
      },
      "execution_count": 200,
      "outputs": []
    },
    {
      "cell_type": "code",
      "source": [
        "gs = train_val(y_train, y_train_pred, y_test, y_pred, \"GridSearch\")\n",
        "gs"
      ],
      "metadata": {
        "colab": {
          "base_uri": "https://localhost:8080/",
          "height": 174
        },
        "id": "2S0UYic-o3vO",
        "outputId": "45acdc64-246d-4023-d9d5-56602f212e49"
      },
      "execution_count": 203,
      "outputs": [
        {
          "output_type": "execute_result",
          "data": {
            "text/html": [
              "\n",
              "  <div id=\"df-bb438755-1a27-4ab2-ac50-0e1b9fd68c26\">\n",
              "    <div class=\"colab-df-container\">\n",
              "      <div>\n",
              "<style scoped>\n",
              "    .dataframe tbody tr th:only-of-type {\n",
              "        vertical-align: middle;\n",
              "    }\n",
              "\n",
              "    .dataframe tbody tr th {\n",
              "        vertical-align: top;\n",
              "    }\n",
              "\n",
              "    .dataframe thead th {\n",
              "        text-align: right;\n",
              "    }\n",
              "</style>\n",
              "<table border=\"1\" class=\"dataframe\">\n",
              "  <thead>\n",
              "    <tr style=\"text-align: right;\">\n",
              "      <th></th>\n",
              "      <th>GridSearch_train</th>\n",
              "      <th>GridSearch_test</th>\n",
              "    </tr>\n",
              "  </thead>\n",
              "  <tbody>\n",
              "    <tr>\n",
              "      <th>R2</th>\n",
              "      <td>0.874338</td>\n",
              "      <td>0.863563</td>\n",
              "    </tr>\n",
              "    <tr>\n",
              "      <th>mae</th>\n",
              "      <td>1.189871</td>\n",
              "      <td>1.271651</td>\n",
              "    </tr>\n",
              "    <tr>\n",
              "      <th>mse</th>\n",
              "      <td>3.161067</td>\n",
              "      <td>3.748518</td>\n",
              "    </tr>\n",
              "    <tr>\n",
              "      <th>rmse</th>\n",
              "      <td>1.777939</td>\n",
              "      <td>1.936109</td>\n",
              "    </tr>\n",
              "  </tbody>\n",
              "</table>\n",
              "</div>\n",
              "      <button class=\"colab-df-convert\" onclick=\"convertToInteractive('df-bb438755-1a27-4ab2-ac50-0e1b9fd68c26')\"\n",
              "              title=\"Convert this dataframe to an interactive table.\"\n",
              "              style=\"display:none;\">\n",
              "        \n",
              "  <svg xmlns=\"http://www.w3.org/2000/svg\" height=\"24px\"viewBox=\"0 0 24 24\"\n",
              "       width=\"24px\">\n",
              "    <path d=\"M0 0h24v24H0V0z\" fill=\"none\"/>\n",
              "    <path d=\"M18.56 5.44l.94 2.06.94-2.06 2.06-.94-2.06-.94-.94-2.06-.94 2.06-2.06.94zm-11 1L8.5 8.5l.94-2.06 2.06-.94-2.06-.94L8.5 2.5l-.94 2.06-2.06.94zm10 10l.94 2.06.94-2.06 2.06-.94-2.06-.94-.94-2.06-.94 2.06-2.06.94z\"/><path d=\"M17.41 7.96l-1.37-1.37c-.4-.4-.92-.59-1.43-.59-.52 0-1.04.2-1.43.59L10.3 9.45l-7.72 7.72c-.78.78-.78 2.05 0 2.83L4 21.41c.39.39.9.59 1.41.59.51 0 1.02-.2 1.41-.59l7.78-7.78 2.81-2.81c.8-.78.8-2.07 0-2.86zM5.41 20L4 18.59l7.72-7.72 1.47 1.35L5.41 20z\"/>\n",
              "  </svg>\n",
              "      </button>\n",
              "      \n",
              "  <style>\n",
              "    .colab-df-container {\n",
              "      display:flex;\n",
              "      flex-wrap:wrap;\n",
              "      gap: 12px;\n",
              "    }\n",
              "\n",
              "    .colab-df-convert {\n",
              "      background-color: #E8F0FE;\n",
              "      border: none;\n",
              "      border-radius: 50%;\n",
              "      cursor: pointer;\n",
              "      display: none;\n",
              "      fill: #1967D2;\n",
              "      height: 32px;\n",
              "      padding: 0 0 0 0;\n",
              "      width: 32px;\n",
              "    }\n",
              "\n",
              "    .colab-df-convert:hover {\n",
              "      background-color: #E2EBFA;\n",
              "      box-shadow: 0px 1px 2px rgba(60, 64, 67, 0.3), 0px 1px 3px 1px rgba(60, 64, 67, 0.15);\n",
              "      fill: #174EA6;\n",
              "    }\n",
              "\n",
              "    [theme=dark] .colab-df-convert {\n",
              "      background-color: #3B4455;\n",
              "      fill: #D2E3FC;\n",
              "    }\n",
              "\n",
              "    [theme=dark] .colab-df-convert:hover {\n",
              "      background-color: #434B5C;\n",
              "      box-shadow: 0px 1px 3px 1px rgba(0, 0, 0, 0.15);\n",
              "      filter: drop-shadow(0px 1px 2px rgba(0, 0, 0, 0.3));\n",
              "      fill: #FFFFFF;\n",
              "    }\n",
              "  </style>\n",
              "\n",
              "      <script>\n",
              "        const buttonEl =\n",
              "          document.querySelector('#df-bb438755-1a27-4ab2-ac50-0e1b9fd68c26 button.colab-df-convert');\n",
              "        buttonEl.style.display =\n",
              "          google.colab.kernel.accessAllowed ? 'block' : 'none';\n",
              "\n",
              "        async function convertToInteractive(key) {\n",
              "          const element = document.querySelector('#df-bb438755-1a27-4ab2-ac50-0e1b9fd68c26');\n",
              "          const dataTable =\n",
              "            await google.colab.kernel.invokeFunction('convertToInteractive',\n",
              "                                                     [key], {});\n",
              "          if (!dataTable) return;\n",
              "\n",
              "          const docLinkHtml = 'Like what you see? Visit the ' +\n",
              "            '<a target=\"_blank\" href=https://colab.research.google.com/notebooks/data_table.ipynb>data table notebook</a>'\n",
              "            + ' to learn more about interactive tables.';\n",
              "          element.innerHTML = '';\n",
              "          dataTable['output_type'] = 'display_data';\n",
              "          await google.colab.output.renderOutput(dataTable, element);\n",
              "          const docLink = document.createElement('div');\n",
              "          docLink.innerHTML = docLinkHtml;\n",
              "          element.appendChild(docLink);\n",
              "        }\n",
              "      </script>\n",
              "    </div>\n",
              "  </div>\n",
              "  "
            ],
            "text/plain": [
              "      GridSearch_train  GridSearch_test\n",
              "R2            0.874338         0.863563\n",
              "mae           1.189871         1.271651\n",
              "mse           3.161067         3.748518\n",
              "rmse          1.777939         1.936109"
            ]
          },
          "metadata": {},
          "execution_count": 203
        }
      ]
    },
    {
      "cell_type": "code",
      "source": [
        "pd.concat([ls,rs, rcs, lss, lcs, es, ecs, gs], axis = 1)"
      ],
      "metadata": {
        "colab": {
          "base_uri": "https://localhost:8080/",
          "height": 239
        },
        "id": "sW1XQB2kpHbP",
        "outputId": "010fcf62-bf2e-4792-b3b8-d07c65eecfe2"
      },
      "execution_count": 204,
      "outputs": [
        {
          "output_type": "execute_result",
          "data": {
            "text/html": [
              "\n",
              "  <div id=\"df-dbc8cbe8-522b-46f4-9a1d-6a5b7be5252e\">\n",
              "    <div class=\"colab-df-container\">\n",
              "      <div>\n",
              "<style scoped>\n",
              "    .dataframe tbody tr th:only-of-type {\n",
              "        vertical-align: middle;\n",
              "    }\n",
              "\n",
              "    .dataframe tbody tr th {\n",
              "        vertical-align: top;\n",
              "    }\n",
              "\n",
              "    .dataframe thead th {\n",
              "        text-align: right;\n",
              "    }\n",
              "</style>\n",
              "<table border=\"1\" class=\"dataframe\">\n",
              "  <thead>\n",
              "    <tr style=\"text-align: right;\">\n",
              "      <th></th>\n",
              "      <th>linear_train</th>\n",
              "      <th>linear_test</th>\n",
              "      <th>ridge_train</th>\n",
              "      <th>ridge_test</th>\n",
              "      <th>ridge_cv_train</th>\n",
              "      <th>ridge_cv_test</th>\n",
              "      <th>lasso_train</th>\n",
              "      <th>lasso_test</th>\n",
              "      <th>lasso_cv_train</th>\n",
              "      <th>lasso_cv_test</th>\n",
              "      <th>elastic_train</th>\n",
              "      <th>elastic_test</th>\n",
              "      <th>elastic_cv_train</th>\n",
              "      <th>elastic_cv_test</th>\n",
              "      <th>GridSearch_train</th>\n",
              "      <th>GridSearch_test</th>\n",
              "    </tr>\n",
              "  </thead>\n",
              "  <tbody>\n",
              "    <tr>\n",
              "      <th>R2</th>\n",
              "      <td>0.882940</td>\n",
              "      <td>0.877028</td>\n",
              "      <td>0.816034</td>\n",
              "      <td>0.812492</td>\n",
              "      <td>0.879144</td>\n",
              "      <td>0.868172</td>\n",
              "      <td>0.123966</td>\n",
              "      <td>0.122134</td>\n",
              "      <td>0.874045</td>\n",
              "      <td>0.865978</td>\n",
              "      <td>0.184431</td>\n",
              "      <td>0.192168</td>\n",
              "      <td>0.814563</td>\n",
              "      <td>0.795535</td>\n",
              "      <td>0.874338</td>\n",
              "      <td>0.863563</td>\n",
              "    </tr>\n",
              "    <tr>\n",
              "      <th>mae</th>\n",
              "      <td>1.163276</td>\n",
              "      <td>1.228325</td>\n",
              "      <td>1.409496</td>\n",
              "      <td>1.448459</td>\n",
              "      <td>1.189737</td>\n",
              "      <td>1.263949</td>\n",
              "      <td>3.041904</td>\n",
              "      <td>3.221916</td>\n",
              "      <td>1.172058</td>\n",
              "      <td>1.248272</td>\n",
              "      <td>2.976123</td>\n",
              "      <td>3.073580</td>\n",
              "      <td>1.348979</td>\n",
              "      <td>1.429285</td>\n",
              "      <td>1.189871</td>\n",
              "      <td>1.271651</td>\n",
              "    </tr>\n",
              "    <tr>\n",
              "      <th>mse</th>\n",
              "      <td>2.944704</td>\n",
              "      <td>3.378565</td>\n",
              "      <td>4.627747</td>\n",
              "      <td>5.151661</td>\n",
              "      <td>3.040184</td>\n",
              "      <td>3.621874</td>\n",
              "      <td>22.036991</td>\n",
              "      <td>24.118765</td>\n",
              "      <td>3.168459</td>\n",
              "      <td>3.682173</td>\n",
              "      <td>20.515987</td>\n",
              "      <td>22.194625</td>\n",
              "      <td>4.664753</td>\n",
              "      <td>5.617544</td>\n",
              "      <td>3.161067</td>\n",
              "      <td>3.748518</td>\n",
              "    </tr>\n",
              "    <tr>\n",
              "      <th>rmse</th>\n",
              "      <td>1.716014</td>\n",
              "      <td>1.838087</td>\n",
              "      <td>2.151220</td>\n",
              "      <td>2.269727</td>\n",
              "      <td>1.743612</td>\n",
              "      <td>1.903122</td>\n",
              "      <td>4.694357</td>\n",
              "      <td>4.911086</td>\n",
              "      <td>1.780017</td>\n",
              "      <td>1.918899</td>\n",
              "      <td>4.529458</td>\n",
              "      <td>4.711117</td>\n",
              "      <td>2.159804</td>\n",
              "      <td>2.370136</td>\n",
              "      <td>1.777939</td>\n",
              "      <td>1.936109</td>\n",
              "    </tr>\n",
              "  </tbody>\n",
              "</table>\n",
              "</div>\n",
              "      <button class=\"colab-df-convert\" onclick=\"convertToInteractive('df-dbc8cbe8-522b-46f4-9a1d-6a5b7be5252e')\"\n",
              "              title=\"Convert this dataframe to an interactive table.\"\n",
              "              style=\"display:none;\">\n",
              "        \n",
              "  <svg xmlns=\"http://www.w3.org/2000/svg\" height=\"24px\"viewBox=\"0 0 24 24\"\n",
              "       width=\"24px\">\n",
              "    <path d=\"M0 0h24v24H0V0z\" fill=\"none\"/>\n",
              "    <path d=\"M18.56 5.44l.94 2.06.94-2.06 2.06-.94-2.06-.94-.94-2.06-.94 2.06-2.06.94zm-11 1L8.5 8.5l.94-2.06 2.06-.94-2.06-.94L8.5 2.5l-.94 2.06-2.06.94zm10 10l.94 2.06.94-2.06 2.06-.94-2.06-.94-.94-2.06-.94 2.06-2.06.94z\"/><path d=\"M17.41 7.96l-1.37-1.37c-.4-.4-.92-.59-1.43-.59-.52 0-1.04.2-1.43.59L10.3 9.45l-7.72 7.72c-.78.78-.78 2.05 0 2.83L4 21.41c.39.39.9.59 1.41.59.51 0 1.02-.2 1.41-.59l7.78-7.78 2.81-2.81c.8-.78.8-2.07 0-2.86zM5.41 20L4 18.59l7.72-7.72 1.47 1.35L5.41 20z\"/>\n",
              "  </svg>\n",
              "      </button>\n",
              "      \n",
              "  <style>\n",
              "    .colab-df-container {\n",
              "      display:flex;\n",
              "      flex-wrap:wrap;\n",
              "      gap: 12px;\n",
              "    }\n",
              "\n",
              "    .colab-df-convert {\n",
              "      background-color: #E8F0FE;\n",
              "      border: none;\n",
              "      border-radius: 50%;\n",
              "      cursor: pointer;\n",
              "      display: none;\n",
              "      fill: #1967D2;\n",
              "      height: 32px;\n",
              "      padding: 0 0 0 0;\n",
              "      width: 32px;\n",
              "    }\n",
              "\n",
              "    .colab-df-convert:hover {\n",
              "      background-color: #E2EBFA;\n",
              "      box-shadow: 0px 1px 2px rgba(60, 64, 67, 0.3), 0px 1px 3px 1px rgba(60, 64, 67, 0.15);\n",
              "      fill: #174EA6;\n",
              "    }\n",
              "\n",
              "    [theme=dark] .colab-df-convert {\n",
              "      background-color: #3B4455;\n",
              "      fill: #D2E3FC;\n",
              "    }\n",
              "\n",
              "    [theme=dark] .colab-df-convert:hover {\n",
              "      background-color: #434B5C;\n",
              "      box-shadow: 0px 1px 3px 1px rgba(0, 0, 0, 0.15);\n",
              "      filter: drop-shadow(0px 1px 2px rgba(0, 0, 0, 0.3));\n",
              "      fill: #FFFFFF;\n",
              "    }\n",
              "  </style>\n",
              "\n",
              "      <script>\n",
              "        const buttonEl =\n",
              "          document.querySelector('#df-dbc8cbe8-522b-46f4-9a1d-6a5b7be5252e button.colab-df-convert');\n",
              "        buttonEl.style.display =\n",
              "          google.colab.kernel.accessAllowed ? 'block' : 'none';\n",
              "\n",
              "        async function convertToInteractive(key) {\n",
              "          const element = document.querySelector('#df-dbc8cbe8-522b-46f4-9a1d-6a5b7be5252e');\n",
              "          const dataTable =\n",
              "            await google.colab.kernel.invokeFunction('convertToInteractive',\n",
              "                                                     [key], {});\n",
              "          if (!dataTable) return;\n",
              "\n",
              "          const docLinkHtml = 'Like what you see? Visit the ' +\n",
              "            '<a target=\"_blank\" href=https://colab.research.google.com/notebooks/data_table.ipynb>data table notebook</a>'\n",
              "            + ' to learn more about interactive tables.';\n",
              "          element.innerHTML = '';\n",
              "          dataTable['output_type'] = 'display_data';\n",
              "          await google.colab.output.renderOutput(dataTable, element);\n",
              "          const docLink = document.createElement('div');\n",
              "          docLink.innerHTML = docLinkHtml;\n",
              "          element.appendChild(docLink);\n",
              "        }\n",
              "      </script>\n",
              "    </div>\n",
              "  </div>\n",
              "  "
            ],
            "text/plain": [
              "      linear_train  linear_test  ridge_train  ridge_test  ridge_cv_train  \\\n",
              "R2        0.882940     0.877028     0.816034    0.812492        0.879144   \n",
              "mae       1.163276     1.228325     1.409496    1.448459        1.189737   \n",
              "mse       2.944704     3.378565     4.627747    5.151661        3.040184   \n",
              "rmse      1.716014     1.838087     2.151220    2.269727        1.743612   \n",
              "\n",
              "      ridge_cv_test  lasso_train  lasso_test  lasso_cv_train  lasso_cv_test  \\\n",
              "R2         0.868172     0.123966    0.122134        0.874045       0.865978   \n",
              "mae        1.263949     3.041904    3.221916        1.172058       1.248272   \n",
              "mse        3.621874    22.036991   24.118765        3.168459       3.682173   \n",
              "rmse       1.903122     4.694357    4.911086        1.780017       1.918899   \n",
              "\n",
              "      elastic_train  elastic_test  elastic_cv_train  elastic_cv_test  \\\n",
              "R2         0.184431      0.192168          0.814563         0.795535   \n",
              "mae        2.976123      3.073580          1.348979         1.429285   \n",
              "mse       20.515987     22.194625          4.664753         5.617544   \n",
              "rmse       4.529458      4.711117          2.159804         2.370136   \n",
              "\n",
              "      GridSearch_train  GridSearch_test  \n",
              "R2            0.874338         0.863563  \n",
              "mae           1.189871         1.271651  \n",
              "mse           3.161067         3.748518  \n",
              "rmse          1.777939         1.936109  "
            ]
          },
          "metadata": {},
          "execution_count": 204
        }
      ]
    },
    {
      "cell_type": "markdown",
      "source": [
        "As we can see from above table the best model is the linear model which is the first model. It has the best R2 score (0.877) and the lowest rmse score (1.838. However, the scores deteriorated after cross validation."
      ],
      "metadata": {
        "id": "F52wRNVGpwmu"
      }
    },
    {
      "cell_type": "markdown",
      "source": [
        "#FINAL MODEL"
      ],
      "metadata": {
        "id": "dOSK-PDjrjV-"
      }
    },
    {
      "cell_type": "code",
      "source": [
        "final_scaler = MinMaxScaler()\n",
        "X_scaled = final_scaler.fit_transform(X)"
      ],
      "metadata": {
        "id": "v4CUMK7AqYYw"
      },
      "execution_count": 205,
      "outputs": []
    },
    {
      "cell_type": "code",
      "source": [
        "final_model = lm"
      ],
      "metadata": {
        "id": "cg0yB3LzrUMT"
      },
      "execution_count": 206,
      "outputs": []
    },
    {
      "cell_type": "code",
      "source": [
        "final_model.fit(X_scaled, y)"
      ],
      "metadata": {
        "colab": {
          "base_uri": "https://localhost:8080/"
        },
        "id": "D9aDlt7UrZ9q",
        "outputId": "cc6715cc-0fb2-4c0b-9dc1-a63b27696900"
      },
      "execution_count": 207,
      "outputs": [
        {
          "output_type": "execute_result",
          "data": {
            "text/plain": [
              "LinearRegression()"
            ]
          },
          "metadata": {},
          "execution_count": 207
        }
      ]
    }
  ]
}